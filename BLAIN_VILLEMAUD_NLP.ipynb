{
  "nbformat": 4,
  "nbformat_minor": 0,
  "metadata": {
    "colab": {
      "name": "oscar NLP ENSAE.ipynb",
      "provenance": [],
      "collapsed_sections": [],
      "machine_shape": "hm"
    },
    "kernelspec": {
      "name": "python3",
      "display_name": "Python 3"
    },
    "language_info": {
      "name": "python"
    },
    "accelerator": "GPU",
    "widgets": {
      "application/vnd.jupyter.widget-state+json": {
        "2a22f98f440c4646afd4da1657d37bc0": {
          "model_module": "@jupyter-widgets/controls",
          "model_name": "HBoxModel",
          "state": {
            "_view_name": "HBoxView",
            "_dom_classes": [],
            "_model_name": "HBoxModel",
            "_view_module": "@jupyter-widgets/controls",
            "_model_module_version": "1.5.0",
            "_view_count": null,
            "_view_module_version": "1.5.0",
            "box_style": "",
            "layout": "IPY_MODEL_7f4313641f9c4332a8c6099cbd7e9576",
            "_model_module": "@jupyter-widgets/controls",
            "children": [
              "IPY_MODEL_5d6fd57d7a03473cbc19e2f7f4e4fb60",
              "IPY_MODEL_59132a8e66d2421195cea150082b4c41"
            ]
          }
        },
        "7f4313641f9c4332a8c6099cbd7e9576": {
          "model_module": "@jupyter-widgets/base",
          "model_name": "LayoutModel",
          "state": {
            "_view_name": "LayoutView",
            "grid_template_rows": null,
            "right": null,
            "justify_content": null,
            "_view_module": "@jupyter-widgets/base",
            "overflow": null,
            "_model_module_version": "1.2.0",
            "_view_count": null,
            "flex_flow": null,
            "width": null,
            "min_width": null,
            "border": null,
            "align_items": null,
            "bottom": null,
            "_model_module": "@jupyter-widgets/base",
            "top": null,
            "grid_column": null,
            "overflow_y": null,
            "overflow_x": null,
            "grid_auto_flow": null,
            "grid_area": null,
            "grid_template_columns": null,
            "flex": null,
            "_model_name": "LayoutModel",
            "justify_items": null,
            "grid_row": null,
            "max_height": null,
            "align_content": null,
            "visibility": null,
            "align_self": null,
            "height": null,
            "min_height": null,
            "padding": null,
            "grid_auto_rows": null,
            "grid_gap": null,
            "max_width": null,
            "order": null,
            "_view_module_version": "1.2.0",
            "grid_template_areas": null,
            "object_position": null,
            "object_fit": null,
            "grid_auto_columns": null,
            "margin": null,
            "display": null,
            "left": null
          }
        },
        "5d6fd57d7a03473cbc19e2f7f4e4fb60": {
          "model_module": "@jupyter-widgets/controls",
          "model_name": "FloatProgressModel",
          "state": {
            "_view_name": "ProgressView",
            "style": "IPY_MODEL_430f35d562c24950beecdd87de45fedc",
            "_dom_classes": [],
            "description": "Downloading: 100%",
            "_model_name": "FloatProgressModel",
            "bar_style": "success",
            "max": 570,
            "_view_module": "@jupyter-widgets/controls",
            "_model_module_version": "1.5.0",
            "value": 570,
            "_view_count": null,
            "_view_module_version": "1.5.0",
            "orientation": "horizontal",
            "min": 0,
            "description_tooltip": null,
            "_model_module": "@jupyter-widgets/controls",
            "layout": "IPY_MODEL_f45151aea6bf4d2f8c12eaf289e0f01d"
          }
        },
        "59132a8e66d2421195cea150082b4c41": {
          "model_module": "@jupyter-widgets/controls",
          "model_name": "HTMLModel",
          "state": {
            "_view_name": "HTMLView",
            "style": "IPY_MODEL_29f117dc68d94e5097b975f4e7e44bbd",
            "_dom_classes": [],
            "description": "",
            "_model_name": "HTMLModel",
            "placeholder": "​",
            "_view_module": "@jupyter-widgets/controls",
            "_model_module_version": "1.5.0",
            "value": " 570/570 [00:00&lt;00:00, 804B/s]",
            "_view_count": null,
            "_view_module_version": "1.5.0",
            "description_tooltip": null,
            "_model_module": "@jupyter-widgets/controls",
            "layout": "IPY_MODEL_f7984906ffa14ddca82a4ef0d310ebb9"
          }
        },
        "430f35d562c24950beecdd87de45fedc": {
          "model_module": "@jupyter-widgets/controls",
          "model_name": "ProgressStyleModel",
          "state": {
            "_view_name": "StyleView",
            "_model_name": "ProgressStyleModel",
            "description_width": "initial",
            "_view_module": "@jupyter-widgets/base",
            "_model_module_version": "1.5.0",
            "_view_count": null,
            "_view_module_version": "1.2.0",
            "bar_color": null,
            "_model_module": "@jupyter-widgets/controls"
          }
        },
        "f45151aea6bf4d2f8c12eaf289e0f01d": {
          "model_module": "@jupyter-widgets/base",
          "model_name": "LayoutModel",
          "state": {
            "_view_name": "LayoutView",
            "grid_template_rows": null,
            "right": null,
            "justify_content": null,
            "_view_module": "@jupyter-widgets/base",
            "overflow": null,
            "_model_module_version": "1.2.0",
            "_view_count": null,
            "flex_flow": null,
            "width": null,
            "min_width": null,
            "border": null,
            "align_items": null,
            "bottom": null,
            "_model_module": "@jupyter-widgets/base",
            "top": null,
            "grid_column": null,
            "overflow_y": null,
            "overflow_x": null,
            "grid_auto_flow": null,
            "grid_area": null,
            "grid_template_columns": null,
            "flex": null,
            "_model_name": "LayoutModel",
            "justify_items": null,
            "grid_row": null,
            "max_height": null,
            "align_content": null,
            "visibility": null,
            "align_self": null,
            "height": null,
            "min_height": null,
            "padding": null,
            "grid_auto_rows": null,
            "grid_gap": null,
            "max_width": null,
            "order": null,
            "_view_module_version": "1.2.0",
            "grid_template_areas": null,
            "object_position": null,
            "object_fit": null,
            "grid_auto_columns": null,
            "margin": null,
            "display": null,
            "left": null
          }
        },
        "29f117dc68d94e5097b975f4e7e44bbd": {
          "model_module": "@jupyter-widgets/controls",
          "model_name": "DescriptionStyleModel",
          "state": {
            "_view_name": "StyleView",
            "_model_name": "DescriptionStyleModel",
            "description_width": "",
            "_view_module": "@jupyter-widgets/base",
            "_model_module_version": "1.5.0",
            "_view_count": null,
            "_view_module_version": "1.2.0",
            "_model_module": "@jupyter-widgets/controls"
          }
        },
        "f7984906ffa14ddca82a4ef0d310ebb9": {
          "model_module": "@jupyter-widgets/base",
          "model_name": "LayoutModel",
          "state": {
            "_view_name": "LayoutView",
            "grid_template_rows": null,
            "right": null,
            "justify_content": null,
            "_view_module": "@jupyter-widgets/base",
            "overflow": null,
            "_model_module_version": "1.2.0",
            "_view_count": null,
            "flex_flow": null,
            "width": null,
            "min_width": null,
            "border": null,
            "align_items": null,
            "bottom": null,
            "_model_module": "@jupyter-widgets/base",
            "top": null,
            "grid_column": null,
            "overflow_y": null,
            "overflow_x": null,
            "grid_auto_flow": null,
            "grid_area": null,
            "grid_template_columns": null,
            "flex": null,
            "_model_name": "LayoutModel",
            "justify_items": null,
            "grid_row": null,
            "max_height": null,
            "align_content": null,
            "visibility": null,
            "align_self": null,
            "height": null,
            "min_height": null,
            "padding": null,
            "grid_auto_rows": null,
            "grid_gap": null,
            "max_width": null,
            "order": null,
            "_view_module_version": "1.2.0",
            "grid_template_areas": null,
            "object_position": null,
            "object_fit": null,
            "grid_auto_columns": null,
            "margin": null,
            "display": null,
            "left": null
          }
        },
        "d7dc8359aab742b1ab6a8ce25bcd8c78": {
          "model_module": "@jupyter-widgets/controls",
          "model_name": "HBoxModel",
          "state": {
            "_view_name": "HBoxView",
            "_dom_classes": [],
            "_model_name": "HBoxModel",
            "_view_module": "@jupyter-widgets/controls",
            "_model_module_version": "1.5.0",
            "_view_count": null,
            "_view_module_version": "1.5.0",
            "box_style": "",
            "layout": "IPY_MODEL_4b54723b4372474cada2c1089ac78f16",
            "_model_module": "@jupyter-widgets/controls",
            "children": [
              "IPY_MODEL_f0eff554cc76410e96e7efd0324106f8",
              "IPY_MODEL_a772dacc7b394f028dd7a05ac50986ce"
            ]
          }
        },
        "4b54723b4372474cada2c1089ac78f16": {
          "model_module": "@jupyter-widgets/base",
          "model_name": "LayoutModel",
          "state": {
            "_view_name": "LayoutView",
            "grid_template_rows": null,
            "right": null,
            "justify_content": null,
            "_view_module": "@jupyter-widgets/base",
            "overflow": null,
            "_model_module_version": "1.2.0",
            "_view_count": null,
            "flex_flow": null,
            "width": null,
            "min_width": null,
            "border": null,
            "align_items": null,
            "bottom": null,
            "_model_module": "@jupyter-widgets/base",
            "top": null,
            "grid_column": null,
            "overflow_y": null,
            "overflow_x": null,
            "grid_auto_flow": null,
            "grid_area": null,
            "grid_template_columns": null,
            "flex": null,
            "_model_name": "LayoutModel",
            "justify_items": null,
            "grid_row": null,
            "max_height": null,
            "align_content": null,
            "visibility": null,
            "align_self": null,
            "height": null,
            "min_height": null,
            "padding": null,
            "grid_auto_rows": null,
            "grid_gap": null,
            "max_width": null,
            "order": null,
            "_view_module_version": "1.2.0",
            "grid_template_areas": null,
            "object_position": null,
            "object_fit": null,
            "grid_auto_columns": null,
            "margin": null,
            "display": null,
            "left": null
          }
        },
        "f0eff554cc76410e96e7efd0324106f8": {
          "model_module": "@jupyter-widgets/controls",
          "model_name": "FloatProgressModel",
          "state": {
            "_view_name": "ProgressView",
            "style": "IPY_MODEL_e507b973b8f749a8bbde834628f3c3c7",
            "_dom_classes": [],
            "description": "Downloading: 100%",
            "_model_name": "FloatProgressModel",
            "bar_style": "success",
            "max": 526681800,
            "_view_module": "@jupyter-widgets/controls",
            "_model_module_version": "1.5.0",
            "value": 526681800,
            "_view_count": null,
            "_view_module_version": "1.5.0",
            "orientation": "horizontal",
            "min": 0,
            "description_tooltip": null,
            "_model_module": "@jupyter-widgets/controls",
            "layout": "IPY_MODEL_f7962b4a5b0945caa9073a61e15b48cb"
          }
        },
        "a772dacc7b394f028dd7a05ac50986ce": {
          "model_module": "@jupyter-widgets/controls",
          "model_name": "HTMLModel",
          "state": {
            "_view_name": "HTMLView",
            "style": "IPY_MODEL_6db70869dc0b464cb3836af9e4273ee7",
            "_dom_classes": [],
            "description": "",
            "_model_name": "HTMLModel",
            "placeholder": "​",
            "_view_module": "@jupyter-widgets/controls",
            "_model_module_version": "1.5.0",
            "value": " 527M/527M [00:12&lt;00:00, 42.2MB/s]",
            "_view_count": null,
            "_view_module_version": "1.5.0",
            "description_tooltip": null,
            "_model_module": "@jupyter-widgets/controls",
            "layout": "IPY_MODEL_5a1635adb9f84b4ab301ccb569328ec4"
          }
        },
        "e507b973b8f749a8bbde834628f3c3c7": {
          "model_module": "@jupyter-widgets/controls",
          "model_name": "ProgressStyleModel",
          "state": {
            "_view_name": "StyleView",
            "_model_name": "ProgressStyleModel",
            "description_width": "initial",
            "_view_module": "@jupyter-widgets/base",
            "_model_module_version": "1.5.0",
            "_view_count": null,
            "_view_module_version": "1.2.0",
            "bar_color": null,
            "_model_module": "@jupyter-widgets/controls"
          }
        },
        "f7962b4a5b0945caa9073a61e15b48cb": {
          "model_module": "@jupyter-widgets/base",
          "model_name": "LayoutModel",
          "state": {
            "_view_name": "LayoutView",
            "grid_template_rows": null,
            "right": null,
            "justify_content": null,
            "_view_module": "@jupyter-widgets/base",
            "overflow": null,
            "_model_module_version": "1.2.0",
            "_view_count": null,
            "flex_flow": null,
            "width": null,
            "min_width": null,
            "border": null,
            "align_items": null,
            "bottom": null,
            "_model_module": "@jupyter-widgets/base",
            "top": null,
            "grid_column": null,
            "overflow_y": null,
            "overflow_x": null,
            "grid_auto_flow": null,
            "grid_area": null,
            "grid_template_columns": null,
            "flex": null,
            "_model_name": "LayoutModel",
            "justify_items": null,
            "grid_row": null,
            "max_height": null,
            "align_content": null,
            "visibility": null,
            "align_self": null,
            "height": null,
            "min_height": null,
            "padding": null,
            "grid_auto_rows": null,
            "grid_gap": null,
            "max_width": null,
            "order": null,
            "_view_module_version": "1.2.0",
            "grid_template_areas": null,
            "object_position": null,
            "object_fit": null,
            "grid_auto_columns": null,
            "margin": null,
            "display": null,
            "left": null
          }
        },
        "6db70869dc0b464cb3836af9e4273ee7": {
          "model_module": "@jupyter-widgets/controls",
          "model_name": "DescriptionStyleModel",
          "state": {
            "_view_name": "StyleView",
            "_model_name": "DescriptionStyleModel",
            "description_width": "",
            "_view_module": "@jupyter-widgets/base",
            "_model_module_version": "1.5.0",
            "_view_count": null,
            "_view_module_version": "1.2.0",
            "_model_module": "@jupyter-widgets/controls"
          }
        },
        "5a1635adb9f84b4ab301ccb569328ec4": {
          "model_module": "@jupyter-widgets/base",
          "model_name": "LayoutModel",
          "state": {
            "_view_name": "LayoutView",
            "grid_template_rows": null,
            "right": null,
            "justify_content": null,
            "_view_module": "@jupyter-widgets/base",
            "overflow": null,
            "_model_module_version": "1.2.0",
            "_view_count": null,
            "flex_flow": null,
            "width": null,
            "min_width": null,
            "border": null,
            "align_items": null,
            "bottom": null,
            "_model_module": "@jupyter-widgets/base",
            "top": null,
            "grid_column": null,
            "overflow_y": null,
            "overflow_x": null,
            "grid_auto_flow": null,
            "grid_area": null,
            "grid_template_columns": null,
            "flex": null,
            "_model_name": "LayoutModel",
            "justify_items": null,
            "grid_row": null,
            "max_height": null,
            "align_content": null,
            "visibility": null,
            "align_self": null,
            "height": null,
            "min_height": null,
            "padding": null,
            "grid_auto_rows": null,
            "grid_gap": null,
            "max_width": null,
            "order": null,
            "_view_module_version": "1.2.0",
            "grid_template_areas": null,
            "object_position": null,
            "object_fit": null,
            "grid_auto_columns": null,
            "margin": null,
            "display": null,
            "left": null
          }
        },
        "0fb7ee55262544ed87e2adc99373b8af": {
          "model_module": "@jupyter-widgets/controls",
          "model_name": "HBoxModel",
          "state": {
            "_view_name": "HBoxView",
            "_dom_classes": [],
            "_model_name": "HBoxModel",
            "_view_module": "@jupyter-widgets/controls",
            "_model_module_version": "1.5.0",
            "_view_count": null,
            "_view_module_version": "1.5.0",
            "box_style": "",
            "layout": "IPY_MODEL_99b296e645c547b6ae231d55cfcf695a",
            "_model_module": "@jupyter-widgets/controls",
            "children": [
              "IPY_MODEL_460262c40ca9456b8e48bf9e9695dd42",
              "IPY_MODEL_a5dc422eaac148358b69cdb857c082cd"
            ]
          }
        },
        "99b296e645c547b6ae231d55cfcf695a": {
          "model_module": "@jupyter-widgets/base",
          "model_name": "LayoutModel",
          "state": {
            "_view_name": "LayoutView",
            "grid_template_rows": null,
            "right": null,
            "justify_content": null,
            "_view_module": "@jupyter-widgets/base",
            "overflow": null,
            "_model_module_version": "1.2.0",
            "_view_count": null,
            "flex_flow": null,
            "width": null,
            "min_width": null,
            "border": null,
            "align_items": null,
            "bottom": null,
            "_model_module": "@jupyter-widgets/base",
            "top": null,
            "grid_column": null,
            "overflow_y": null,
            "overflow_x": null,
            "grid_auto_flow": null,
            "grid_area": null,
            "grid_template_columns": null,
            "flex": null,
            "_model_name": "LayoutModel",
            "justify_items": null,
            "grid_row": null,
            "max_height": null,
            "align_content": null,
            "visibility": null,
            "align_self": null,
            "height": null,
            "min_height": null,
            "padding": null,
            "grid_auto_rows": null,
            "grid_gap": null,
            "max_width": null,
            "order": null,
            "_view_module_version": "1.2.0",
            "grid_template_areas": null,
            "object_position": null,
            "object_fit": null,
            "grid_auto_columns": null,
            "margin": null,
            "display": null,
            "left": null
          }
        },
        "460262c40ca9456b8e48bf9e9695dd42": {
          "model_module": "@jupyter-widgets/controls",
          "model_name": "FloatProgressModel",
          "state": {
            "_view_name": "ProgressView",
            "style": "IPY_MODEL_6b7e1461739c4b72aed082e0c222c65e",
            "_dom_classes": [],
            "description": "Downloading: 100%",
            "_model_name": "FloatProgressModel",
            "bar_style": "success",
            "max": 213450,
            "_view_module": "@jupyter-widgets/controls",
            "_model_module_version": "1.5.0",
            "value": 213450,
            "_view_count": null,
            "_view_module_version": "1.5.0",
            "orientation": "horizontal",
            "min": 0,
            "description_tooltip": null,
            "_model_module": "@jupyter-widgets/controls",
            "layout": "IPY_MODEL_e8a8c3c6015346b983e729737591ed71"
          }
        },
        "a5dc422eaac148358b69cdb857c082cd": {
          "model_module": "@jupyter-widgets/controls",
          "model_name": "HTMLModel",
          "state": {
            "_view_name": "HTMLView",
            "style": "IPY_MODEL_7438c56888c54d36be1b98b746865673",
            "_dom_classes": [],
            "description": "",
            "_model_name": "HTMLModel",
            "placeholder": "​",
            "_view_module": "@jupyter-widgets/controls",
            "_model_module_version": "1.5.0",
            "value": " 213k/213k [00:01&lt;00:00, 192kB/s]",
            "_view_count": null,
            "_view_module_version": "1.5.0",
            "description_tooltip": null,
            "_model_module": "@jupyter-widgets/controls",
            "layout": "IPY_MODEL_c8219840c1ce4a2c803838c5a31ceca6"
          }
        },
        "6b7e1461739c4b72aed082e0c222c65e": {
          "model_module": "@jupyter-widgets/controls",
          "model_name": "ProgressStyleModel",
          "state": {
            "_view_name": "StyleView",
            "_model_name": "ProgressStyleModel",
            "description_width": "initial",
            "_view_module": "@jupyter-widgets/base",
            "_model_module_version": "1.5.0",
            "_view_count": null,
            "_view_module_version": "1.2.0",
            "bar_color": null,
            "_model_module": "@jupyter-widgets/controls"
          }
        },
        "e8a8c3c6015346b983e729737591ed71": {
          "model_module": "@jupyter-widgets/base",
          "model_name": "LayoutModel",
          "state": {
            "_view_name": "LayoutView",
            "grid_template_rows": null,
            "right": null,
            "justify_content": null,
            "_view_module": "@jupyter-widgets/base",
            "overflow": null,
            "_model_module_version": "1.2.0",
            "_view_count": null,
            "flex_flow": null,
            "width": null,
            "min_width": null,
            "border": null,
            "align_items": null,
            "bottom": null,
            "_model_module": "@jupyter-widgets/base",
            "top": null,
            "grid_column": null,
            "overflow_y": null,
            "overflow_x": null,
            "grid_auto_flow": null,
            "grid_area": null,
            "grid_template_columns": null,
            "flex": null,
            "_model_name": "LayoutModel",
            "justify_items": null,
            "grid_row": null,
            "max_height": null,
            "align_content": null,
            "visibility": null,
            "align_self": null,
            "height": null,
            "min_height": null,
            "padding": null,
            "grid_auto_rows": null,
            "grid_gap": null,
            "max_width": null,
            "order": null,
            "_view_module_version": "1.2.0",
            "grid_template_areas": null,
            "object_position": null,
            "object_fit": null,
            "grid_auto_columns": null,
            "margin": null,
            "display": null,
            "left": null
          }
        },
        "7438c56888c54d36be1b98b746865673": {
          "model_module": "@jupyter-widgets/controls",
          "model_name": "DescriptionStyleModel",
          "state": {
            "_view_name": "StyleView",
            "_model_name": "DescriptionStyleModel",
            "description_width": "",
            "_view_module": "@jupyter-widgets/base",
            "_model_module_version": "1.5.0",
            "_view_count": null,
            "_view_module_version": "1.2.0",
            "_model_module": "@jupyter-widgets/controls"
          }
        },
        "c8219840c1ce4a2c803838c5a31ceca6": {
          "model_module": "@jupyter-widgets/base",
          "model_name": "LayoutModel",
          "state": {
            "_view_name": "LayoutView",
            "grid_template_rows": null,
            "right": null,
            "justify_content": null,
            "_view_module": "@jupyter-widgets/base",
            "overflow": null,
            "_model_module_version": "1.2.0",
            "_view_count": null,
            "flex_flow": null,
            "width": null,
            "min_width": null,
            "border": null,
            "align_items": null,
            "bottom": null,
            "_model_module": "@jupyter-widgets/base",
            "top": null,
            "grid_column": null,
            "overflow_y": null,
            "overflow_x": null,
            "grid_auto_flow": null,
            "grid_area": null,
            "grid_template_columns": null,
            "flex": null,
            "_model_name": "LayoutModel",
            "justify_items": null,
            "grid_row": null,
            "max_height": null,
            "align_content": null,
            "visibility": null,
            "align_self": null,
            "height": null,
            "min_height": null,
            "padding": null,
            "grid_auto_rows": null,
            "grid_gap": null,
            "max_width": null,
            "order": null,
            "_view_module_version": "1.2.0",
            "grid_template_areas": null,
            "object_position": null,
            "object_fit": null,
            "grid_auto_columns": null,
            "margin": null,
            "display": null,
            "left": null
          }
        },
        "0f12b06d95044886843832c11725c517": {
          "model_module": "@jupyter-widgets/controls",
          "model_name": "HBoxModel",
          "state": {
            "_view_name": "HBoxView",
            "_dom_classes": [],
            "_model_name": "HBoxModel",
            "_view_module": "@jupyter-widgets/controls",
            "_model_module_version": "1.5.0",
            "_view_count": null,
            "_view_module_version": "1.5.0",
            "box_style": "",
            "layout": "IPY_MODEL_40b1cde5337d482c89c3735b3f66f34a",
            "_model_module": "@jupyter-widgets/controls",
            "children": [
              "IPY_MODEL_e3f3cf0050f34a4b8eda3554178c3694",
              "IPY_MODEL_87491e546c1a4cd9b48f21f5da567967"
            ]
          }
        },
        "40b1cde5337d482c89c3735b3f66f34a": {
          "model_module": "@jupyter-widgets/base",
          "model_name": "LayoutModel",
          "state": {
            "_view_name": "LayoutView",
            "grid_template_rows": null,
            "right": null,
            "justify_content": null,
            "_view_module": "@jupyter-widgets/base",
            "overflow": null,
            "_model_module_version": "1.2.0",
            "_view_count": null,
            "flex_flow": null,
            "width": null,
            "min_width": null,
            "border": null,
            "align_items": null,
            "bottom": null,
            "_model_module": "@jupyter-widgets/base",
            "top": null,
            "grid_column": null,
            "overflow_y": null,
            "overflow_x": null,
            "grid_auto_flow": null,
            "grid_area": null,
            "grid_template_columns": null,
            "flex": null,
            "_model_name": "LayoutModel",
            "justify_items": null,
            "grid_row": null,
            "max_height": null,
            "align_content": null,
            "visibility": null,
            "align_self": null,
            "height": null,
            "min_height": null,
            "padding": null,
            "grid_auto_rows": null,
            "grid_gap": null,
            "max_width": null,
            "order": null,
            "_view_module_version": "1.2.0",
            "grid_template_areas": null,
            "object_position": null,
            "object_fit": null,
            "grid_auto_columns": null,
            "margin": null,
            "display": null,
            "left": null
          }
        },
        "e3f3cf0050f34a4b8eda3554178c3694": {
          "model_module": "@jupyter-widgets/controls",
          "model_name": "FloatProgressModel",
          "state": {
            "_view_name": "ProgressView",
            "style": "IPY_MODEL_e54149ae45d8463dadaf29c724473fe8",
            "_dom_classes": [],
            "description": "Downloading: 100%",
            "_model_name": "FloatProgressModel",
            "bar_style": "success",
            "max": 29,
            "_view_module": "@jupyter-widgets/controls",
            "_model_module_version": "1.5.0",
            "value": 29,
            "_view_count": null,
            "_view_module_version": "1.5.0",
            "orientation": "horizontal",
            "min": 0,
            "description_tooltip": null,
            "_model_module": "@jupyter-widgets/controls",
            "layout": "IPY_MODEL_7e96956cb8e647a59f1f83707065054e"
          }
        },
        "87491e546c1a4cd9b48f21f5da567967": {
          "model_module": "@jupyter-widgets/controls",
          "model_name": "HTMLModel",
          "state": {
            "_view_name": "HTMLView",
            "style": "IPY_MODEL_a524f8b8fee84de1bc0ea4c26cb0b3eb",
            "_dom_classes": [],
            "description": "",
            "_model_name": "HTMLModel",
            "placeholder": "​",
            "_view_module": "@jupyter-widgets/controls",
            "_model_module_version": "1.5.0",
            "value": " 29.0/29.0 [00:00&lt;00:00, 36.0B/s]",
            "_view_count": null,
            "_view_module_version": "1.5.0",
            "description_tooltip": null,
            "_model_module": "@jupyter-widgets/controls",
            "layout": "IPY_MODEL_3ae08661013c455ca48d84b6435fbc4d"
          }
        },
        "e54149ae45d8463dadaf29c724473fe8": {
          "model_module": "@jupyter-widgets/controls",
          "model_name": "ProgressStyleModel",
          "state": {
            "_view_name": "StyleView",
            "_model_name": "ProgressStyleModel",
            "description_width": "initial",
            "_view_module": "@jupyter-widgets/base",
            "_model_module_version": "1.5.0",
            "_view_count": null,
            "_view_module_version": "1.2.0",
            "bar_color": null,
            "_model_module": "@jupyter-widgets/controls"
          }
        },
        "7e96956cb8e647a59f1f83707065054e": {
          "model_module": "@jupyter-widgets/base",
          "model_name": "LayoutModel",
          "state": {
            "_view_name": "LayoutView",
            "grid_template_rows": null,
            "right": null,
            "justify_content": null,
            "_view_module": "@jupyter-widgets/base",
            "overflow": null,
            "_model_module_version": "1.2.0",
            "_view_count": null,
            "flex_flow": null,
            "width": null,
            "min_width": null,
            "border": null,
            "align_items": null,
            "bottom": null,
            "_model_module": "@jupyter-widgets/base",
            "top": null,
            "grid_column": null,
            "overflow_y": null,
            "overflow_x": null,
            "grid_auto_flow": null,
            "grid_area": null,
            "grid_template_columns": null,
            "flex": null,
            "_model_name": "LayoutModel",
            "justify_items": null,
            "grid_row": null,
            "max_height": null,
            "align_content": null,
            "visibility": null,
            "align_self": null,
            "height": null,
            "min_height": null,
            "padding": null,
            "grid_auto_rows": null,
            "grid_gap": null,
            "max_width": null,
            "order": null,
            "_view_module_version": "1.2.0",
            "grid_template_areas": null,
            "object_position": null,
            "object_fit": null,
            "grid_auto_columns": null,
            "margin": null,
            "display": null,
            "left": null
          }
        },
        "a524f8b8fee84de1bc0ea4c26cb0b3eb": {
          "model_module": "@jupyter-widgets/controls",
          "model_name": "DescriptionStyleModel",
          "state": {
            "_view_name": "StyleView",
            "_model_name": "DescriptionStyleModel",
            "description_width": "",
            "_view_module": "@jupyter-widgets/base",
            "_model_module_version": "1.5.0",
            "_view_count": null,
            "_view_module_version": "1.2.0",
            "_model_module": "@jupyter-widgets/controls"
          }
        },
        "3ae08661013c455ca48d84b6435fbc4d": {
          "model_module": "@jupyter-widgets/base",
          "model_name": "LayoutModel",
          "state": {
            "_view_name": "LayoutView",
            "grid_template_rows": null,
            "right": null,
            "justify_content": null,
            "_view_module": "@jupyter-widgets/base",
            "overflow": null,
            "_model_module_version": "1.2.0",
            "_view_count": null,
            "flex_flow": null,
            "width": null,
            "min_width": null,
            "border": null,
            "align_items": null,
            "bottom": null,
            "_model_module": "@jupyter-widgets/base",
            "top": null,
            "grid_column": null,
            "overflow_y": null,
            "overflow_x": null,
            "grid_auto_flow": null,
            "grid_area": null,
            "grid_template_columns": null,
            "flex": null,
            "_model_name": "LayoutModel",
            "justify_items": null,
            "grid_row": null,
            "max_height": null,
            "align_content": null,
            "visibility": null,
            "align_self": null,
            "height": null,
            "min_height": null,
            "padding": null,
            "grid_auto_rows": null,
            "grid_gap": null,
            "max_width": null,
            "order": null,
            "_view_module_version": "1.2.0",
            "grid_template_areas": null,
            "object_position": null,
            "object_fit": null,
            "grid_auto_columns": null,
            "margin": null,
            "display": null,
            "left": null
          }
        },
        "f7bb40aec89d4b2da9df7e9ae62619e0": {
          "model_module": "@jupyter-widgets/controls",
          "model_name": "HBoxModel",
          "state": {
            "_view_name": "HBoxView",
            "_dom_classes": [],
            "_model_name": "HBoxModel",
            "_view_module": "@jupyter-widgets/controls",
            "_model_module_version": "1.5.0",
            "_view_count": null,
            "_view_module_version": "1.5.0",
            "box_style": "",
            "layout": "IPY_MODEL_01227865d08d4a029390165ae3fbd35f",
            "_model_module": "@jupyter-widgets/controls",
            "children": [
              "IPY_MODEL_3eb160aafa904ea29ebe22fdf433d1cf",
              "IPY_MODEL_d3cb0d2c23664d8ca817b47a6afba3aa"
            ]
          }
        },
        "01227865d08d4a029390165ae3fbd35f": {
          "model_module": "@jupyter-widgets/base",
          "model_name": "LayoutModel",
          "state": {
            "_view_name": "LayoutView",
            "grid_template_rows": null,
            "right": null,
            "justify_content": null,
            "_view_module": "@jupyter-widgets/base",
            "overflow": null,
            "_model_module_version": "1.2.0",
            "_view_count": null,
            "flex_flow": null,
            "width": null,
            "min_width": null,
            "border": null,
            "align_items": null,
            "bottom": null,
            "_model_module": "@jupyter-widgets/base",
            "top": null,
            "grid_column": null,
            "overflow_y": null,
            "overflow_x": null,
            "grid_auto_flow": null,
            "grid_area": null,
            "grid_template_columns": null,
            "flex": null,
            "_model_name": "LayoutModel",
            "justify_items": null,
            "grid_row": null,
            "max_height": null,
            "align_content": null,
            "visibility": null,
            "align_self": null,
            "height": null,
            "min_height": null,
            "padding": null,
            "grid_auto_rows": null,
            "grid_gap": null,
            "max_width": null,
            "order": null,
            "_view_module_version": "1.2.0",
            "grid_template_areas": null,
            "object_position": null,
            "object_fit": null,
            "grid_auto_columns": null,
            "margin": null,
            "display": null,
            "left": null
          }
        },
        "3eb160aafa904ea29ebe22fdf433d1cf": {
          "model_module": "@jupyter-widgets/controls",
          "model_name": "FloatProgressModel",
          "state": {
            "_view_name": "ProgressView",
            "style": "IPY_MODEL_bfd6160e95ea439a8b9bbfaac8563652",
            "_dom_classes": [],
            "description": "Downloading: 100%",
            "_model_name": "FloatProgressModel",
            "bar_style": "success",
            "max": 435797,
            "_view_module": "@jupyter-widgets/controls",
            "_model_module_version": "1.5.0",
            "value": 435797,
            "_view_count": null,
            "_view_module_version": "1.5.0",
            "orientation": "horizontal",
            "min": 0,
            "description_tooltip": null,
            "_model_module": "@jupyter-widgets/controls",
            "layout": "IPY_MODEL_806bf9188368493d9148d0586fe7ad22"
          }
        },
        "d3cb0d2c23664d8ca817b47a6afba3aa": {
          "model_module": "@jupyter-widgets/controls",
          "model_name": "HTMLModel",
          "state": {
            "_view_name": "HTMLView",
            "style": "IPY_MODEL_b32f2828cd704078b8e7fbc081141fce",
            "_dom_classes": [],
            "description": "",
            "_model_name": "HTMLModel",
            "placeholder": "​",
            "_view_module": "@jupyter-widgets/controls",
            "_model_module_version": "1.5.0",
            "value": " 436k/436k [00:00&lt;00:00, 1.28MB/s]",
            "_view_count": null,
            "_view_module_version": "1.5.0",
            "description_tooltip": null,
            "_model_module": "@jupyter-widgets/controls",
            "layout": "IPY_MODEL_0c435ad29d8d4b4d9c446810546e31ff"
          }
        },
        "bfd6160e95ea439a8b9bbfaac8563652": {
          "model_module": "@jupyter-widgets/controls",
          "model_name": "ProgressStyleModel",
          "state": {
            "_view_name": "StyleView",
            "_model_name": "ProgressStyleModel",
            "description_width": "initial",
            "_view_module": "@jupyter-widgets/base",
            "_model_module_version": "1.5.0",
            "_view_count": null,
            "_view_module_version": "1.2.0",
            "bar_color": null,
            "_model_module": "@jupyter-widgets/controls"
          }
        },
        "806bf9188368493d9148d0586fe7ad22": {
          "model_module": "@jupyter-widgets/base",
          "model_name": "LayoutModel",
          "state": {
            "_view_name": "LayoutView",
            "grid_template_rows": null,
            "right": null,
            "justify_content": null,
            "_view_module": "@jupyter-widgets/base",
            "overflow": null,
            "_model_module_version": "1.2.0",
            "_view_count": null,
            "flex_flow": null,
            "width": null,
            "min_width": null,
            "border": null,
            "align_items": null,
            "bottom": null,
            "_model_module": "@jupyter-widgets/base",
            "top": null,
            "grid_column": null,
            "overflow_y": null,
            "overflow_x": null,
            "grid_auto_flow": null,
            "grid_area": null,
            "grid_template_columns": null,
            "flex": null,
            "_model_name": "LayoutModel",
            "justify_items": null,
            "grid_row": null,
            "max_height": null,
            "align_content": null,
            "visibility": null,
            "align_self": null,
            "height": null,
            "min_height": null,
            "padding": null,
            "grid_auto_rows": null,
            "grid_gap": null,
            "max_width": null,
            "order": null,
            "_view_module_version": "1.2.0",
            "grid_template_areas": null,
            "object_position": null,
            "object_fit": null,
            "grid_auto_columns": null,
            "margin": null,
            "display": null,
            "left": null
          }
        },
        "b32f2828cd704078b8e7fbc081141fce": {
          "model_module": "@jupyter-widgets/controls",
          "model_name": "DescriptionStyleModel",
          "state": {
            "_view_name": "StyleView",
            "_model_name": "DescriptionStyleModel",
            "description_width": "",
            "_view_module": "@jupyter-widgets/base",
            "_model_module_version": "1.5.0",
            "_view_count": null,
            "_view_module_version": "1.2.0",
            "_model_module": "@jupyter-widgets/controls"
          }
        },
        "0c435ad29d8d4b4d9c446810546e31ff": {
          "model_module": "@jupyter-widgets/base",
          "model_name": "LayoutModel",
          "state": {
            "_view_name": "LayoutView",
            "grid_template_rows": null,
            "right": null,
            "justify_content": null,
            "_view_module": "@jupyter-widgets/base",
            "overflow": null,
            "_model_module_version": "1.2.0",
            "_view_count": null,
            "flex_flow": null,
            "width": null,
            "min_width": null,
            "border": null,
            "align_items": null,
            "bottom": null,
            "_model_module": "@jupyter-widgets/base",
            "top": null,
            "grid_column": null,
            "overflow_y": null,
            "overflow_x": null,
            "grid_auto_flow": null,
            "grid_area": null,
            "grid_template_columns": null,
            "flex": null,
            "_model_name": "LayoutModel",
            "justify_items": null,
            "grid_row": null,
            "max_height": null,
            "align_content": null,
            "visibility": null,
            "align_self": null,
            "height": null,
            "min_height": null,
            "padding": null,
            "grid_auto_rows": null,
            "grid_gap": null,
            "max_width": null,
            "order": null,
            "_view_module_version": "1.2.0",
            "grid_template_areas": null,
            "object_position": null,
            "object_fit": null,
            "grid_auto_columns": null,
            "margin": null,
            "display": null,
            "left": null
          }
        }
      }
    }
  },
  "cells": [
    {
      "cell_type": "markdown",
      "metadata": {
        "id": "_HWs-AwczmMB"
      },
      "source": [
        "#Initialisation and downloading"
      ]
    },
    {
      "cell_type": "markdown",
      "metadata": {
        "id": "09whbJXGVzZ-"
      },
      "source": [
        "##Packages and modules"
      ]
    },
    {
      "cell_type": "code",
      "metadata": {
        "id": "NHqFemioGdew",
        "colab": {
          "base_uri": "https://localhost:8080/"
        },
        "outputId": "beabad03-3c52-4931-8076-5e539d014181"
      },
      "source": [
        "!pip uninstall -y kaggle\n",
        "!pip install --upgrade pip\n",
        "!pip install kaggle==1.5.6\n",
        "!pip install fasttext\n",
        "!pip install transformers"
      ],
      "execution_count": null,
      "outputs": [
        {
          "output_type": "stream",
          "text": [
            "Uninstalling kaggle-1.5.12:\n",
            "  Successfully uninstalled kaggle-1.5.12\n",
            "Collecting pip\n",
            "\u001b[?25l  Downloading https://files.pythonhosted.org/packages/ac/cf/0cc542fc93de2f3b9b53cb979c7d1118cffb93204afb46299a9f858e113f/pip-21.1-py3-none-any.whl (1.5MB)\n",
            "\u001b[K     |████████████████████████████████| 1.6MB 8.2MB/s \n",
            "\u001b[?25hInstalling collected packages: pip\n",
            "  Found existing installation: pip 19.3.1\n",
            "    Uninstalling pip-19.3.1:\n",
            "      Successfully uninstalled pip-19.3.1\n",
            "Successfully installed pip-21.1\n",
            "\u001b[33mWARNING: Value for scheme.platlib does not match. Please report this to <https://github.com/pypa/pip/issues/9617>\n",
            "distutils: /usr/local/lib/python3.7/dist-packages\n",
            "sysconfig: /usr/lib/python3.7/site-packages\u001b[0m\n",
            "\u001b[33mWARNING: Value for scheme.purelib does not match. Please report this to <https://github.com/pypa/pip/issues/9617>\n",
            "distutils: /usr/local/lib/python3.7/dist-packages\n",
            "sysconfig: /usr/lib/python3.7/site-packages\u001b[0m\n",
            "\u001b[33mWARNING: Value for scheme.headers does not match. Please report this to <https://github.com/pypa/pip/issues/9617>\n",
            "distutils: /usr/local/include/python3.7/UNKNOWN\n",
            "sysconfig: /usr/include/python3.7m\u001b[0m\n",
            "\u001b[33mWARNING: Value for scheme.scripts does not match. Please report this to <https://github.com/pypa/pip/issues/9617>\n",
            "distutils: /usr/local/bin\n",
            "sysconfig: /usr/bin\u001b[0m\n",
            "\u001b[33mWARNING: Value for scheme.data does not match. Please report this to <https://github.com/pypa/pip/issues/9617>\n",
            "distutils: /usr/local\n",
            "sysconfig: /usr\u001b[0m\n",
            "\u001b[33mWARNING: Additional context:\n",
            "user = False\n",
            "home = None\n",
            "root = None\n",
            "prefix = None\u001b[0m\n",
            "Collecting kaggle==1.5.6\n",
            "  Downloading kaggle-1.5.6.tar.gz (58 kB)\n",
            "\u001b[K     |████████████████████████████████| 58 kB 3.9 MB/s \n",
            "\u001b[?25hRequirement already satisfied: urllib3<1.25,>=1.21.1 in /usr/local/lib/python3.7/dist-packages (from kaggle==1.5.6) (1.24.3)\n",
            "Requirement already satisfied: six>=1.10 in /usr/local/lib/python3.7/dist-packages (from kaggle==1.5.6) (1.15.0)\n",
            "Requirement already satisfied: certifi in /usr/local/lib/python3.7/dist-packages (from kaggle==1.5.6) (2020.12.5)\n",
            "Requirement already satisfied: python-dateutil in /usr/local/lib/python3.7/dist-packages (from kaggle==1.5.6) (2.8.1)\n",
            "Requirement already satisfied: requests in /usr/local/lib/python3.7/dist-packages (from kaggle==1.5.6) (2.23.0)\n",
            "Requirement already satisfied: tqdm in /usr/local/lib/python3.7/dist-packages (from kaggle==1.5.6) (4.41.1)\n",
            "Requirement already satisfied: python-slugify in /usr/local/lib/python3.7/dist-packages (from kaggle==1.5.6) (4.0.1)\n",
            "Requirement already satisfied: text-unidecode>=1.3 in /usr/local/lib/python3.7/dist-packages (from python-slugify->kaggle==1.5.6) (1.3)\n",
            "Requirement already satisfied: chardet<4,>=3.0.2 in /usr/local/lib/python3.7/dist-packages (from requests->kaggle==1.5.6) (3.0.4)\n",
            "Requirement already satisfied: idna<3,>=2.5 in /usr/local/lib/python3.7/dist-packages (from requests->kaggle==1.5.6) (2.10)\n",
            "Building wheels for collected packages: kaggle\n",
            "  Building wheel for kaggle (setup.py) ... \u001b[?25l\u001b[?25hdone\n",
            "  Created wheel for kaggle: filename=kaggle-1.5.6-py3-none-any.whl size=72859 sha256=ed94bb94c1755c617ee4e2736f68808606bac069ec43805a1c618817c35b922a\n",
            "  Stored in directory: /root/.cache/pip/wheels/aa/e7/e7/eb3c3d514c33294d77ddd5a856bdd58dc9c1fabbed59a02a2b\n",
            "Successfully built kaggle\n",
            "Installing collected packages: kaggle\n",
            "\u001b[33m  WARNING: Value for scheme.platlib does not match. Please report this to <https://github.com/pypa/pip/issues/9617>\n",
            "  distutils: /usr/local/lib/python3.7/dist-packages\n",
            "  sysconfig: /usr/lib/python3.7/site-packages\u001b[0m\n",
            "\u001b[33m  WARNING: Value for scheme.purelib does not match. Please report this to <https://github.com/pypa/pip/issues/9617>\n",
            "  distutils: /usr/local/lib/python3.7/dist-packages\n",
            "  sysconfig: /usr/lib/python3.7/site-packages\u001b[0m\n",
            "\u001b[33m  WARNING: Value for scheme.headers does not match. Please report this to <https://github.com/pypa/pip/issues/9617>\n",
            "  distutils: /usr/local/include/python3.7/kaggle\n",
            "  sysconfig: /usr/include/python3.7m/kaggle\u001b[0m\n",
            "\u001b[33m  WARNING: Value for scheme.scripts does not match. Please report this to <https://github.com/pypa/pip/issues/9617>\n",
            "  distutils: /usr/local/bin\n",
            "  sysconfig: /usr/bin\u001b[0m\n",
            "\u001b[33m  WARNING: Value for scheme.data does not match. Please report this to <https://github.com/pypa/pip/issues/9617>\n",
            "  distutils: /usr/local\n",
            "  sysconfig: /usr\u001b[0m\n",
            "\u001b[33m  WARNING: Additional context:\n",
            "  user = False\n",
            "  home = None\n",
            "  root = None\n",
            "  prefix = None\u001b[0m\n",
            "\u001b[33mWARNING: Value for scheme.platlib does not match. Please report this to <https://github.com/pypa/pip/issues/9617>\n",
            "distutils: /usr/local/lib/python3.7/dist-packages\n",
            "sysconfig: /usr/lib/python3.7/site-packages\u001b[0m\n",
            "\u001b[33mWARNING: Value for scheme.purelib does not match. Please report this to <https://github.com/pypa/pip/issues/9617>\n",
            "distutils: /usr/local/lib/python3.7/dist-packages\n",
            "sysconfig: /usr/lib/python3.7/site-packages\u001b[0m\n",
            "\u001b[33mWARNING: Value for scheme.headers does not match. Please report this to <https://github.com/pypa/pip/issues/9617>\n",
            "distutils: /usr/local/include/python3.7/UNKNOWN\n",
            "sysconfig: /usr/include/python3.7m\u001b[0m\n",
            "\u001b[33mWARNING: Value for scheme.scripts does not match. Please report this to <https://github.com/pypa/pip/issues/9617>\n",
            "distutils: /usr/local/bin\n",
            "sysconfig: /usr/bin\u001b[0m\n",
            "\u001b[33mWARNING: Value for scheme.data does not match. Please report this to <https://github.com/pypa/pip/issues/9617>\n",
            "distutils: /usr/local\n",
            "sysconfig: /usr\u001b[0m\n",
            "\u001b[33mWARNING: Additional context:\n",
            "user = False\n",
            "home = None\n",
            "root = None\n",
            "prefix = None\u001b[0m\n",
            "Successfully installed kaggle-1.5.6\n",
            "\u001b[33mWARNING: Running pip as root will break packages and permissions. You should install packages reliably by using venv: https://pip.pypa.io/warnings/venv\u001b[0m\n",
            "\u001b[33mWARNING: Value for scheme.platlib does not match. Please report this to <https://github.com/pypa/pip/issues/9617>\n",
            "distutils: /usr/local/lib/python3.7/dist-packages\n",
            "sysconfig: /usr/lib/python3.7/site-packages\u001b[0m\n",
            "\u001b[33mWARNING: Value for scheme.purelib does not match. Please report this to <https://github.com/pypa/pip/issues/9617>\n",
            "distutils: /usr/local/lib/python3.7/dist-packages\n",
            "sysconfig: /usr/lib/python3.7/site-packages\u001b[0m\n",
            "\u001b[33mWARNING: Value for scheme.headers does not match. Please report this to <https://github.com/pypa/pip/issues/9617>\n",
            "distutils: /usr/local/include/python3.7/UNKNOWN\n",
            "sysconfig: /usr/include/python3.7m\u001b[0m\n",
            "\u001b[33mWARNING: Value for scheme.scripts does not match. Please report this to <https://github.com/pypa/pip/issues/9617>\n",
            "distutils: /usr/local/bin\n",
            "sysconfig: /usr/bin\u001b[0m\n",
            "\u001b[33mWARNING: Value for scheme.data does not match. Please report this to <https://github.com/pypa/pip/issues/9617>\n",
            "distutils: /usr/local\n",
            "sysconfig: /usr\u001b[0m\n",
            "\u001b[33mWARNING: Additional context:\n",
            "user = False\n",
            "home = None\n",
            "root = None\n",
            "prefix = None\u001b[0m\n",
            "Collecting fasttext\n",
            "  Downloading fasttext-0.9.2.tar.gz (68 kB)\n",
            "\u001b[K     |████████████████████████████████| 68 kB 3.9 MB/s \n",
            "\u001b[?25hCollecting pybind11>=2.2\n",
            "  Using cached pybind11-2.6.2-py2.py3-none-any.whl (191 kB)\n",
            "Requirement already satisfied: setuptools>=0.7.0 in /usr/local/lib/python3.7/dist-packages (from fasttext) (56.0.0)\n",
            "Requirement already satisfied: numpy in /usr/local/lib/python3.7/dist-packages (from fasttext) (1.19.5)\n",
            "Building wheels for collected packages: fasttext\n",
            "  Building wheel for fasttext (setup.py) ... \u001b[?25l\u001b[?25hdone\n",
            "  Created wheel for fasttext: filename=fasttext-0.9.2-cp37-cp37m-linux_x86_64.whl size=3094331 sha256=29dc147f68c377846c8f8144f8e68056aa47c4504371df1fcf727d06599c733b\n",
            "  Stored in directory: /root/.cache/pip/wheels/4e/ca/bf/b020d2be95f7641801a6597a29c8f4f19e38f9c02a345bab9b\n",
            "Successfully built fasttext\n",
            "Installing collected packages: pybind11, fasttext\n",
            "\u001b[33m  WARNING: Value for scheme.platlib does not match. Please report this to <https://github.com/pypa/pip/issues/9617>\n",
            "  distutils: /usr/local/lib/python3.7/dist-packages\n",
            "  sysconfig: /usr/lib/python3.7/site-packages\u001b[0m\n",
            "\u001b[33m  WARNING: Value for scheme.purelib does not match. Please report this to <https://github.com/pypa/pip/issues/9617>\n",
            "  distutils: /usr/local/lib/python3.7/dist-packages\n",
            "  sysconfig: /usr/lib/python3.7/site-packages\u001b[0m\n",
            "\u001b[33m  WARNING: Value for scheme.headers does not match. Please report this to <https://github.com/pypa/pip/issues/9617>\n",
            "  distutils: /usr/local/include/python3.7/pybind11\n",
            "  sysconfig: /usr/include/python3.7m/pybind11\u001b[0m\n",
            "\u001b[33m  WARNING: Value for scheme.scripts does not match. Please report this to <https://github.com/pypa/pip/issues/9617>\n",
            "  distutils: /usr/local/bin\n",
            "  sysconfig: /usr/bin\u001b[0m\n",
            "\u001b[33m  WARNING: Value for scheme.data does not match. Please report this to <https://github.com/pypa/pip/issues/9617>\n",
            "  distutils: /usr/local\n",
            "  sysconfig: /usr\u001b[0m\n",
            "\u001b[33m  WARNING: Additional context:\n",
            "  user = False\n",
            "  home = None\n",
            "  root = None\n",
            "  prefix = None\u001b[0m\n",
            "\u001b[33m  WARNING: Value for scheme.platlib does not match. Please report this to <https://github.com/pypa/pip/issues/9617>\n",
            "  distutils: /usr/local/lib/python3.7/dist-packages\n",
            "  sysconfig: /usr/lib/python3.7/site-packages\u001b[0m\n",
            "\u001b[33m  WARNING: Value for scheme.purelib does not match. Please report this to <https://github.com/pypa/pip/issues/9617>\n",
            "  distutils: /usr/local/lib/python3.7/dist-packages\n",
            "  sysconfig: /usr/lib/python3.7/site-packages\u001b[0m\n",
            "\u001b[33m  WARNING: Value for scheme.headers does not match. Please report this to <https://github.com/pypa/pip/issues/9617>\n",
            "  distutils: /usr/local/include/python3.7/fasttext\n",
            "  sysconfig: /usr/include/python3.7m/fasttext\u001b[0m\n",
            "\u001b[33m  WARNING: Value for scheme.scripts does not match. Please report this to <https://github.com/pypa/pip/issues/9617>\n",
            "  distutils: /usr/local/bin\n",
            "  sysconfig: /usr/bin\u001b[0m\n",
            "\u001b[33m  WARNING: Value for scheme.data does not match. Please report this to <https://github.com/pypa/pip/issues/9617>\n",
            "  distutils: /usr/local\n",
            "  sysconfig: /usr\u001b[0m\n",
            "\u001b[33m  WARNING: Additional context:\n",
            "  user = False\n",
            "  home = None\n",
            "  root = None\n",
            "  prefix = None\u001b[0m\n",
            "\u001b[33mWARNING: Value for scheme.platlib does not match. Please report this to <https://github.com/pypa/pip/issues/9617>\n",
            "distutils: /usr/local/lib/python3.7/dist-packages\n",
            "sysconfig: /usr/lib/python3.7/site-packages\u001b[0m\n",
            "\u001b[33mWARNING: Value for scheme.purelib does not match. Please report this to <https://github.com/pypa/pip/issues/9617>\n",
            "distutils: /usr/local/lib/python3.7/dist-packages\n",
            "sysconfig: /usr/lib/python3.7/site-packages\u001b[0m\n",
            "\u001b[33mWARNING: Value for scheme.headers does not match. Please report this to <https://github.com/pypa/pip/issues/9617>\n",
            "distutils: /usr/local/include/python3.7/UNKNOWN\n",
            "sysconfig: /usr/include/python3.7m\u001b[0m\n",
            "\u001b[33mWARNING: Value for scheme.scripts does not match. Please report this to <https://github.com/pypa/pip/issues/9617>\n",
            "distutils: /usr/local/bin\n",
            "sysconfig: /usr/bin\u001b[0m\n",
            "\u001b[33mWARNING: Value for scheme.data does not match. Please report this to <https://github.com/pypa/pip/issues/9617>\n",
            "distutils: /usr/local\n",
            "sysconfig: /usr\u001b[0m\n",
            "\u001b[33mWARNING: Additional context:\n",
            "user = False\n",
            "home = None\n",
            "root = None\n",
            "prefix = None\u001b[0m\n",
            "Successfully installed fasttext-0.9.2 pybind11-2.6.2\n",
            "\u001b[33mWARNING: Running pip as root will break packages and permissions. You should install packages reliably by using venv: https://pip.pypa.io/warnings/venv\u001b[0m\n",
            "\u001b[33mWARNING: Value for scheme.platlib does not match. Please report this to <https://github.com/pypa/pip/issues/9617>\n",
            "distutils: /usr/local/lib/python3.7/dist-packages\n",
            "sysconfig: /usr/lib/python3.7/site-packages\u001b[0m\n",
            "\u001b[33mWARNING: Value for scheme.purelib does not match. Please report this to <https://github.com/pypa/pip/issues/9617>\n",
            "distutils: /usr/local/lib/python3.7/dist-packages\n",
            "sysconfig: /usr/lib/python3.7/site-packages\u001b[0m\n",
            "\u001b[33mWARNING: Value for scheme.headers does not match. Please report this to <https://github.com/pypa/pip/issues/9617>\n",
            "distutils: /usr/local/include/python3.7/UNKNOWN\n",
            "sysconfig: /usr/include/python3.7m\u001b[0m\n",
            "\u001b[33mWARNING: Value for scheme.scripts does not match. Please report this to <https://github.com/pypa/pip/issues/9617>\n",
            "distutils: /usr/local/bin\n",
            "sysconfig: /usr/bin\u001b[0m\n",
            "\u001b[33mWARNING: Value for scheme.data does not match. Please report this to <https://github.com/pypa/pip/issues/9617>\n",
            "distutils: /usr/local\n",
            "sysconfig: /usr\u001b[0m\n",
            "\u001b[33mWARNING: Additional context:\n",
            "user = False\n",
            "home = None\n",
            "root = None\n",
            "prefix = None\u001b[0m\n",
            "Collecting transformers\n",
            "  Downloading transformers-4.5.1-py3-none-any.whl (2.1 MB)\n",
            "\u001b[K     |████████████████████████████████| 2.1 MB 9.0 MB/s \n",
            "\u001b[?25hRequirement already satisfied: tqdm>=4.27 in /usr/local/lib/python3.7/dist-packages (from transformers) (4.41.1)\n",
            "Requirement already satisfied: regex!=2019.12.17 in /usr/local/lib/python3.7/dist-packages (from transformers) (2019.12.20)\n",
            "Requirement already satisfied: filelock in /usr/local/lib/python3.7/dist-packages (from transformers) (3.0.12)\n",
            "Requirement already satisfied: packaging in /usr/local/lib/python3.7/dist-packages (from transformers) (20.9)\n",
            "Collecting tokenizers<0.11,>=0.10.1\n",
            "  Downloading tokenizers-0.10.2-cp37-cp37m-manylinux2010_x86_64.whl (3.3 MB)\n",
            "\u001b[K     |████████████████████████████████| 3.3 MB 43.6 MB/s \n",
            "\u001b[?25hRequirement already satisfied: importlib-metadata in /usr/local/lib/python3.7/dist-packages (from transformers) (3.10.1)\n",
            "Requirement already satisfied: requests in /usr/local/lib/python3.7/dist-packages (from transformers) (2.23.0)\n",
            "Collecting sacremoses\n",
            "  Downloading sacremoses-0.0.45-py3-none-any.whl (895 kB)\n",
            "\u001b[K     |████████████████████████████████| 895 kB 69.3 MB/s \n",
            "\u001b[?25hRequirement already satisfied: numpy>=1.17 in /usr/local/lib/python3.7/dist-packages (from transformers) (1.19.5)\n",
            "Requirement already satisfied: typing-extensions>=3.6.4 in /usr/local/lib/python3.7/dist-packages (from importlib-metadata->transformers) (3.7.4.3)\n",
            "Requirement already satisfied: zipp>=0.5 in /usr/local/lib/python3.7/dist-packages (from importlib-metadata->transformers) (3.4.1)\n",
            "Requirement already satisfied: pyparsing>=2.0.2 in /usr/local/lib/python3.7/dist-packages (from packaging->transformers) (2.4.7)\n",
            "Requirement already satisfied: idna<3,>=2.5 in /usr/local/lib/python3.7/dist-packages (from requests->transformers) (2.10)\n",
            "Requirement already satisfied: certifi>=2017.4.17 in /usr/local/lib/python3.7/dist-packages (from requests->transformers) (2020.12.5)\n",
            "Requirement already satisfied: urllib3!=1.25.0,!=1.25.1,<1.26,>=1.21.1 in /usr/local/lib/python3.7/dist-packages (from requests->transformers) (1.24.3)\n",
            "Requirement already satisfied: chardet<4,>=3.0.2 in /usr/local/lib/python3.7/dist-packages (from requests->transformers) (3.0.4)\n",
            "Requirement already satisfied: six in /usr/local/lib/python3.7/dist-packages (from sacremoses->transformers) (1.15.0)\n",
            "Requirement already satisfied: joblib in /usr/local/lib/python3.7/dist-packages (from sacremoses->transformers) (1.0.1)\n",
            "Requirement already satisfied: click in /usr/local/lib/python3.7/dist-packages (from sacremoses->transformers) (7.1.2)\n",
            "Installing collected packages: tokenizers, sacremoses, transformers\n",
            "\u001b[33m  WARNING: Value for scheme.platlib does not match. Please report this to <https://github.com/pypa/pip/issues/9617>\n",
            "  distutils: /usr/local/lib/python3.7/dist-packages\n",
            "  sysconfig: /usr/lib/python3.7/site-packages\u001b[0m\n",
            "\u001b[33m  WARNING: Value for scheme.purelib does not match. Please report this to <https://github.com/pypa/pip/issues/9617>\n",
            "  distutils: /usr/local/lib/python3.7/dist-packages\n",
            "  sysconfig: /usr/lib/python3.7/site-packages\u001b[0m\n",
            "\u001b[33m  WARNING: Value for scheme.headers does not match. Please report this to <https://github.com/pypa/pip/issues/9617>\n",
            "  distutils: /usr/local/include/python3.7/tokenizers\n",
            "  sysconfig: /usr/include/python3.7m/tokenizers\u001b[0m\n",
            "\u001b[33m  WARNING: Value for scheme.scripts does not match. Please report this to <https://github.com/pypa/pip/issues/9617>\n",
            "  distutils: /usr/local/bin\n",
            "  sysconfig: /usr/bin\u001b[0m\n",
            "\u001b[33m  WARNING: Value for scheme.data does not match. Please report this to <https://github.com/pypa/pip/issues/9617>\n",
            "  distutils: /usr/local\n",
            "  sysconfig: /usr\u001b[0m\n",
            "\u001b[33m  WARNING: Additional context:\n",
            "  user = False\n",
            "  home = None\n",
            "  root = None\n",
            "  prefix = None\u001b[0m\n",
            "\u001b[33m  WARNING: Value for scheme.platlib does not match. Please report this to <https://github.com/pypa/pip/issues/9617>\n",
            "  distutils: /usr/local/lib/python3.7/dist-packages\n",
            "  sysconfig: /usr/lib/python3.7/site-packages\u001b[0m\n",
            "\u001b[33m  WARNING: Value for scheme.purelib does not match. Please report this to <https://github.com/pypa/pip/issues/9617>\n",
            "  distutils: /usr/local/lib/python3.7/dist-packages\n",
            "  sysconfig: /usr/lib/python3.7/site-packages\u001b[0m\n",
            "\u001b[33m  WARNING: Value for scheme.headers does not match. Please report this to <https://github.com/pypa/pip/issues/9617>\n",
            "  distutils: /usr/local/include/python3.7/sacremoses\n",
            "  sysconfig: /usr/include/python3.7m/sacremoses\u001b[0m\n",
            "\u001b[33m  WARNING: Value for scheme.scripts does not match. Please report this to <https://github.com/pypa/pip/issues/9617>\n",
            "  distutils: /usr/local/bin\n",
            "  sysconfig: /usr/bin\u001b[0m\n",
            "\u001b[33m  WARNING: Value for scheme.data does not match. Please report this to <https://github.com/pypa/pip/issues/9617>\n",
            "  distutils: /usr/local\n",
            "  sysconfig: /usr\u001b[0m\n",
            "\u001b[33m  WARNING: Additional context:\n",
            "  user = False\n",
            "  home = None\n",
            "  root = None\n",
            "  prefix = None\u001b[0m\n",
            "\u001b[33m  WARNING: Value for scheme.platlib does not match. Please report this to <https://github.com/pypa/pip/issues/9617>\n",
            "  distutils: /usr/local/lib/python3.7/dist-packages\n",
            "  sysconfig: /usr/lib/python3.7/site-packages\u001b[0m\n",
            "\u001b[33m  WARNING: Value for scheme.purelib does not match. Please report this to <https://github.com/pypa/pip/issues/9617>\n",
            "  distutils: /usr/local/lib/python3.7/dist-packages\n",
            "  sysconfig: /usr/lib/python3.7/site-packages\u001b[0m\n",
            "\u001b[33m  WARNING: Value for scheme.headers does not match. Please report this to <https://github.com/pypa/pip/issues/9617>\n",
            "  distutils: /usr/local/include/python3.7/transformers\n",
            "  sysconfig: /usr/include/python3.7m/transformers\u001b[0m\n",
            "\u001b[33m  WARNING: Value for scheme.scripts does not match. Please report this to <https://github.com/pypa/pip/issues/9617>\n",
            "  distutils: /usr/local/bin\n",
            "  sysconfig: /usr/bin\u001b[0m\n",
            "\u001b[33m  WARNING: Value for scheme.data does not match. Please report this to <https://github.com/pypa/pip/issues/9617>\n",
            "  distutils: /usr/local\n",
            "  sysconfig: /usr\u001b[0m\n",
            "\u001b[33m  WARNING: Additional context:\n",
            "  user = False\n",
            "  home = None\n",
            "  root = None\n",
            "  prefix = None\u001b[0m\n",
            "\u001b[33mWARNING: Value for scheme.platlib does not match. Please report this to <https://github.com/pypa/pip/issues/9617>\n",
            "distutils: /usr/local/lib/python3.7/dist-packages\n",
            "sysconfig: /usr/lib/python3.7/site-packages\u001b[0m\n",
            "\u001b[33mWARNING: Value for scheme.purelib does not match. Please report this to <https://github.com/pypa/pip/issues/9617>\n",
            "distutils: /usr/local/lib/python3.7/dist-packages\n",
            "sysconfig: /usr/lib/python3.7/site-packages\u001b[0m\n",
            "\u001b[33mWARNING: Value for scheme.headers does not match. Please report this to <https://github.com/pypa/pip/issues/9617>\n",
            "distutils: /usr/local/include/python3.7/UNKNOWN\n",
            "sysconfig: /usr/include/python3.7m\u001b[0m\n",
            "\u001b[33mWARNING: Value for scheme.scripts does not match. Please report this to <https://github.com/pypa/pip/issues/9617>\n",
            "distutils: /usr/local/bin\n",
            "sysconfig: /usr/bin\u001b[0m\n",
            "\u001b[33mWARNING: Value for scheme.data does not match. Please report this to <https://github.com/pypa/pip/issues/9617>\n",
            "distutils: /usr/local\n",
            "sysconfig: /usr\u001b[0m\n",
            "\u001b[33mWARNING: Additional context:\n",
            "user = False\n",
            "home = None\n",
            "root = None\n",
            "prefix = None\u001b[0m\n",
            "Successfully installed sacremoses-0.0.45 tokenizers-0.10.2 transformers-4.5.1\n",
            "\u001b[33mWARNING: Running pip as root will break packages and permissions. You should install packages reliably by using venv: https://pip.pypa.io/warnings/venv\u001b[0m\n"
          ],
          "name": "stdout"
        }
      ]
    },
    {
      "cell_type": "code",
      "metadata": {
        "id": "MNnmK6NuG3mz",
        "colab": {
          "base_uri": "https://localhost:8080/"
        },
        "outputId": "bbcafe15-1257-40d4-887b-884505d672f9"
      },
      "source": [
        "import shutil\n",
        "import os\n",
        "import random\n",
        "from shutil import move\n",
        "from shutil import copy\n",
        "from tqdm.notebook import tqdm\n",
        "import glob\n",
        "from sklearn.model_selection import train_test_split\n",
        "import pandas as pd\n",
        "import numpy as np\n",
        "import re\n",
        "from sklearn.cluster import KMeans\n",
        "import fasttext.util\n",
        "from nltk.tokenize import TweetTokenizer\n",
        "from functools import reduce\n",
        "from operator import add\n",
        "from PIL import Image\n",
        "import matplotlib.pyplot as plt\n",
        "from wordcloud import WordCloud\n",
        "from collections import Counter\n",
        "from transformers import BertTokenizer, TFBertForSequenceClassification\n",
        "from transformers import InputExample, InputFeatures\n",
        "from google.colab import files\n",
        "from google.colab import drive\n",
        "import gzip\n",
        "import zipfile\n",
        "from nltk.sentiment.vader import SentimentIntensityAnalyzer as SIA\n",
        "import nltk\n",
        "import seaborn as sns\n",
        "from sklearn.decomposition import PCA\n",
        "from sklearn.manifold import TSNE\n",
        "from sklearn.cluster import MiniBatchKMeans\n",
        "import re\n",
        "from nltk.stem import WordNetLemmatizer\n",
        "from nltk.corpus import stopwords \n",
        "from nltk.tokenize import word_tokenize \n",
        "import matplotlib.cm as cm\n",
        "import plotly\n",
        "import tensorflow as tf\n",
        "from sklearn.metrics import classification_report,confusion_matrix"
      ],
      "execution_count": null,
      "outputs": [
        {
          "output_type": "stream",
          "text": [
            "/usr/local/lib/python3.7/dist-packages/nltk/twitter/__init__.py:20: UserWarning: The twython library has not been installed. Some functionality from the twitter package will not be available.\n",
            "  warnings.warn(\"The twython library has not been installed. \"\n"
          ],
          "name": "stderr"
        }
      ]
    },
    {
      "cell_type": "markdown",
      "metadata": {
        "id": "_zbxMyjyU7J0"
      },
      "source": [
        "##Downloading Datasets"
      ]
    },
    {
      "cell_type": "code",
      "metadata": {
        "id": "47T15QGZDfJ0",
        "colab": {
          "resources": {
            "http://localhost:8080/nbextensions/google.colab/files.js": {
              "data": "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",
              "ok": true,
              "headers": [
                [
                  "content-type",
                  "application/javascript"
                ]
              ],
              "status": 200,
              "status_text": ""
            }
          },
          "base_uri": "https://localhost:8080/",
          "height": 72
        },
        "outputId": "1a9874b5-bf27-4070-f1ef-357788acf2d1"
      },
      "source": [
        "os.chdir('../content')\n",
        "# upload the kaggle API file kaggle.json\n",
        "uploaded = files.upload()"
      ],
      "execution_count": null,
      "outputs": [
        {
          "output_type": "display_data",
          "data": {
            "text/html": [
              "\n",
              "     <input type=\"file\" id=\"files-62dcab40-12e9-41e6-90b2-e1182b32b772\" name=\"files[]\" multiple disabled\n",
              "        style=\"border:none\" />\n",
              "     <output id=\"result-62dcab40-12e9-41e6-90b2-e1182b32b772\">\n",
              "      Upload widget is only available when the cell has been executed in the\n",
              "      current browser session. Please rerun this cell to enable.\n",
              "      </output>\n",
              "      <script src=\"/nbextensions/google.colab/files.js\"></script> "
            ],
            "text/plain": [
              "<IPython.core.display.HTML object>"
            ]
          },
          "metadata": {
            "tags": []
          }
        },
        {
          "output_type": "stream",
          "text": [
            "Saving kaggle.json to kaggle.json\n"
          ],
          "name": "stdout"
        }
      ]
    },
    {
      "cell_type": "code",
      "metadata": {
        "id": "1a_AG7JiGi-8",
        "colab": {
          "base_uri": "https://localhost:8080/"
        },
        "outputId": "a2ef7542-2312-4e5f-a37e-f19ca0766534"
      },
      "source": [
        "#downloading dataset\n",
        "\n",
        "os.environ['KAGGLE_CONFIG_DIR'] = \"/content\" # kaggle.json has to be in the content directory\n",
        "!kaggle datasets download -d gpreda/pfizer-vaccine-tweets\n",
        "\n",
        "#unziping dataset\n",
        "\n",
        "with zipfile.ZipFile(\"pfizer-vaccine-tweets.zip\",\"r\") as zip_ref:\n",
        "        zip_ref.extractall(\"pfizer-vaccine-tweets/\")\n",
        "print(\"done\")\n"
      ],
      "execution_count": null,
      "outputs": [
        {
          "output_type": "stream",
          "text": [
            "Warning: Your Kaggle API key is readable by other users on this system! To fix this, you can run 'chmod 600 /content/kaggle.json'\n",
            "Downloading pfizer-vaccine-tweets.zip to /content\n",
            "  0% 0.00/1.30M [00:00<?, ?B/s]\n",
            "100% 1.30M/1.30M [00:00<00:00, 162MB/s]\n",
            "done\n"
          ],
          "name": "stdout"
        }
      ]
    },
    {
      "cell_type": "code",
      "metadata": {
        "id": "iSdM0-UB9iTC",
        "colab": {
          "base_uri": "https://localhost:8080/"
        },
        "outputId": "9c4a2d52-ca89-492d-baed-a014159dcb84"
      },
      "source": [
        "#extracting UCI dataset, put manually .zip data in /content\n",
        "\n",
        "import zipfile\n",
        "with zipfile.ZipFile(\"sentiment-labelled-sentences.zip\",\"r\") as zip_ref:\n",
        "        zip_ref.extractall(\"sentiment-labelled-sentences/\")\n",
        "print(\"done\")"
      ],
      "execution_count": null,
      "outputs": [
        {
          "output_type": "stream",
          "text": [
            "done\n"
          ],
          "name": "stdout"
        }
      ]
    },
    {
      "cell_type": "code",
      "metadata": {
        "id": "uNRWK17a9l1f"
      },
      "source": [
        "#putting UCI into DataFrame\n",
        "uci_data=pd.read_csv('sentiment-labelled-sentences/sentiment labelled sentences/amazon_cells_labelled.txt', delimiter = \"\\t\")\n",
        "uci_data.columns=['text','label']"
      ],
      "execution_count": null,
      "outputs": []
    },
    {
      "cell_type": "markdown",
      "metadata": {
        "id": "fLhI7-rjU9gj"
      },
      "source": [
        "##Downloading FastText"
      ]
    },
    {
      "cell_type": "code",
      "metadata": {
        "id": "-clWf2VaAUcZ",
        "colab": {
          "base_uri": "https://localhost:8080/"
        },
        "outputId": "97976b68-c37f-4f6a-c6c7-39047982ba4d"
      },
      "source": [
        "#mounting google drive where FastText is\n",
        "drive.mount('/gdrive')"
      ],
      "execution_count": null,
      "outputs": [
        {
          "output_type": "stream",
          "text": [
            "Mounted at /gdrive\n"
          ],
          "name": "stdout"
        }
      ]
    },
    {
      "cell_type": "code",
      "metadata": {
        "id": "EMvhWrn1AfLK",
        "colab": {
          "base_uri": "https://localhost:8080/",
          "height": 35
        },
        "outputId": "16e396ea-3632-4f6d-b134-e15c4d0ef874"
      },
      "source": [
        "#copying fasttext into environment\n",
        "shutil.copytree('/gdrive/MyDrive/fasttext','/fasttext')"
      ],
      "execution_count": null,
      "outputs": [
        {
          "output_type": "execute_result",
          "data": {
            "application/vnd.google.colaboratory.intrinsic+json": {
              "type": "string"
            },
            "text/plain": [
              "'/fasttext'"
            ]
          },
          "metadata": {
            "tags": []
          },
          "execution_count": 8
        }
      ]
    },
    {
      "cell_type": "code",
      "metadata": {
        "id": "HkcqGcjWBvdC",
        "colab": {
          "base_uri": "https://localhost:8080/"
        },
        "outputId": "381a6455-bac8-42b2-a64a-6b0120dab6a3"
      },
      "source": [
        "#unzip fasttext\n",
        "os.chdir(\"../fasttext\")\n",
        "with gzip.open('cc.en.300.bin.gz', 'rb') as f_in:\n",
        "    with open('cc.en.300.bin', 'wb') as f_out:\n",
        "        shutil.copyfileobj(f_in, f_out)\n",
        "os.chdir('../content')\n",
        "print(\"done\")"
      ],
      "execution_count": null,
      "outputs": [
        {
          "output_type": "stream",
          "text": [
            "done\n"
          ],
          "name": "stdout"
        }
      ]
    },
    {
      "cell_type": "markdown",
      "metadata": {
        "id": "s8HkEeexzutw"
      },
      "source": [
        "#Preprocessing and data exploration"
      ]
    },
    {
      "cell_type": "markdown",
      "metadata": {
        "id": "KoZzLYpr3Xq0"
      },
      "source": [
        "For preprocessing, we used the following code : https://xiangyutang2.github.io/tweet-classification/"
      ]
    },
    {
      "cell_type": "code",
      "metadata": {
        "id": "lAsy9c1kHBjx"
      },
      "source": [
        "#putting data into a dataframe\n",
        "data=pd.read_csv(\"pfizer-vaccine-tweets/vaccination_tweets.csv\")\n",
        "df=data"
      ],
      "execution_count": null,
      "outputs": []
    },
    {
      "cell_type": "code",
      "metadata": {
        "id": "MVVWqtAF9krn"
      },
      "source": [
        "#Cleaning data (removing links, special symbols,...)\n",
        "#tweet_proc will be the column of preproceesed tweets\n",
        "\n",
        "\n",
        "df['tweet_proc'] = df['text'].str.replace(r'http(\\S)+', r'')\n",
        "df['tweet_proc'] = df['tweet_proc'].str.replace(r'http ...', r'')\n",
        "df['tweet_proc'] = df['tweet_proc'].str.replace(r'http', r'')\n",
        "df[df['tweet_proc'].str.contains(r'http')]\n",
        "df['tweet_proc'] = df['tweet_proc'].str.replace(r'(RT|rt)[ ]@[ ][\\S]+',r'')\n",
        "df[df['tweet_proc'].str.contains(r'RT[ ]?@')]\n",
        "df['tweet_proc'] = df['tweet_proc'].str.replace(r'@[\\S]+',r'')\n",
        "df['tweet_proc'] = [''.join([i if ord(i) < 128 else '' for i in text]) for text in df['tweet_proc']]\n",
        "df['tweet_proc'] = df['tweet_proc'].str.replace(r'_[\\S]?',r'')\n",
        "df['tweet_proc'] = df['tweet_proc'].str.replace(r'&amp;?',r'and')\n",
        "df['tweet_proc'] = df['tweet_proc'].str.replace(r'&lt;',r'<')\n",
        "df['tweet_proc'] = df['tweet_proc'].str.replace(r'&gt;',r'>')\n",
        "df['tweet_proc'] = df['tweet_proc'].str.replace(r'[ ]{2, }',r' ')\n",
        "df['tweet_proc'] = df['tweet_proc'].str.replace(r'([\\w\\d]+)([^\\w\\d ]+)', r'\\1 \\2')\n",
        "df['tweet_proc'] = df['tweet_proc'].str.replace(r'([^\\w\\d ]+)([\\w\\d]+)', r'\\1 \\2')\n",
        "df['tweet_proc'] = df['tweet_proc'].str.lower()\n",
        "df['tweet_proc'] = df['tweet_proc'].str.strip()\n",
        "df['tweet_proc'] = df.tweet_proc.apply(lambda x:re.sub(r'#','',x))  #hashtags\n",
        "df['tweet_proc'] = df.tweet_proc.apply(lambda x:' '.join(re.findall(r'\\w+', x)))          #special characters"
      ],
      "execution_count": null,
      "outputs": []
    },
    {
      "cell_type": "markdown",
      "metadata": {
        "id": "RQBNiruu1iz7"
      },
      "source": [
        "#Tokenisation and word cloud"
      ]
    },
    {
      "cell_type": "code",
      "metadata": {
        "id": "t-9N_PlJaOv7"
      },
      "source": [
        "#tokenisation\n",
        "preprocessed=df['tweet_proc']\n",
        "tk=preprocessed.drop_duplicates().apply(TweetTokenizer().tokenize).array"
      ],
      "execution_count": null,
      "outputs": []
    },
    {
      "cell_type": "code",
      "metadata": {
        "colab": {
          "base_uri": "https://localhost:8080/"
        },
        "id": "g2Bxf9s-hZWP",
        "outputId": "9f65c954-2021-4976-f9df-30f9b6a4dfad"
      },
      "source": [
        "#example of tokenised tweet\n",
        "tk[0]"
      ],
      "execution_count": null,
      "outputs": [
        {
          "output_type": "execute_result",
          "data": {
            "text/plain": [
              "['same',\n",
              " 'folks',\n",
              " 'said',\n",
              " 'daikon',\n",
              " 'paste',\n",
              " 'could',\n",
              " 'treat',\n",
              " 'a',\n",
              " 'cytokine',\n",
              " 'storm',\n",
              " 'pfizerbiontech']"
            ]
          },
          "metadata": {
            "tags": []
          },
          "execution_count": 13
        }
      ]
    },
    {
      "cell_type": "code",
      "metadata": {
        "id": "UmVu61-eek6a",
        "colab": {
          "base_uri": "https://localhost:8080/"
        },
        "outputId": "63770bf4-6f90-44af-97ed-3a39cf754d79"
      },
      "source": [
        "#dictionnary of tokens sorted by frequency\n",
        "arr = reduce(add, tk)\n",
        "hist=Counter(arr)\n",
        "dic={k: v for k, v in sorted(hist.items(), reverse=True, key=lambda item: item[1])}\n",
        "print(dic)"
      ],
      "execution_count": null,
      "outputs": [
        {
          "output_type": "stream",
          "text": [
            "{'the': 5367, 'pfizerbiontech': 4168, 'vaccine': 3325, 'to': 2890, 'covid': 2802, 'of': 2755, 'and': 2146, '19': 1800, 'a': 1758, 'in': 1685, 'i': 1421, 'my': 1315, 'for': 1306, 'is': 1187, 'pfizer': 1160, 'dose': 1062, 'first': 920, 'you': 821, 'on': 768, 'this': 757, 'it': 698, 'have': 685, 'covidvaccine': 609, 'with': 604, 'today': 594, 'be': 585, 'vaccines': 581, 'that': 560, 'are': 546, 'at': 534, 'got': 531, 's': 504, 'from': 481, 'so': 474, 'after': 461, 'vaccination': 452, 'not': 429, 'has': 426, '2': 418, 'second': 414, 'as': 411, 'biontech': 410, 'had': 405, 'vaccinated': 399, 'get': 394, 'will': 386, 'just': 369, 'all': 359, 'we': 358, 'coronavirus': 345, 'pfizervaccine': 343, 'by': 342, 'people': 340, 'was': 335, 'moderna': 334, 'received': 334, 'who': 330, '1': 324, 'doses': 316, 'but': 313, '2nd': 312, 'one': 300, 'no': 289, 'now': 286, 'shot': 282, 'about': 273, 't': 270, 'thank': 267, 'can': 258, 'done': 256, 'what': 250, 'astrazeneca': 248, 'its': 248, '19vaccine': 244, 'more': 242, 'if': 240, '1st': 239, 'day': 238, 'their': 237, 'they': 236, 'new': 233, 'been': 228, 'an': 220, 'how': 218, 'or': 217, 'against': 215, 'jab': 214, 'side': 213, 'us': 207, 'out': 201, 'getting': 199, 'very': 199, 'up': 196, 'effective': 195, 'when': 193, 'your': 189, 'uk': 188, 'health': 186, 'thanks': 185, 'our': 183, 'grateful': 183, 'do': 175, 'me': 169, 'effects': 162, 'there': 157, 'over': 155, 'arm': 155, 'world': 154, 'good': 154, 'mrna': 152, 'like': 150, '9': 149, 'only': 145, 'great': 145, 'days': 143, 'am': 142, 'well': 140, 'news': 138, 'why': 136, 'some': 136, 'data': 135, 'feeling': 134, 'receive': 133, 'use': 133, 'here': 132, 'two': 131, 'week': 131, 'eu': 130, 'than': 128, 'time': 127, 'm': 125, 'study': 124, 'were': 122, 'science': 122, 'said': 119, '12': 118, 'israel': 118, '3': 117, 'year': 115, 'hours': 115, 'million': 114, 'weeks': 113, 'know': 113, 'im': 112, 'any': 110, '2021': 110, 'pfizercovidvaccine': 108, 'nhs': 108, 'both': 107, 'go': 106, 'should': 106, 'says': 105, 'which': 105, 'work': 104, 'being': 102, 'yesterday': 102, 'would': 101, 'feel': 101, 'post': 101, 'many': 100, 'other': 100, 'take': 99, 'happy': 98, 'receiving': 98, 'morning': 97, 'still': 97, 'approved': 95, 'her': 94, 'last': 92, 'his': 92, 'given': 91, '4': 90, 'far': 90, 'did': 88, '100': 86, 'safe': 85, 'canada': 84, 'vaccinations': 84, 'does': 83, 'staff': 83, '000': 82, 'he': 82, 'those': 82, 'hope': 81, 'end': 81, 'also': 80, 'update': 80, 'need': 79, 'emergency': 79, 'see': 79, 'sore': 79, 'covidvaccination': 79, 'old': 78, 'norway': 78, 'government': 76, 'dubai': 75, 'please': 74, 'scientists': 74, 'made': 74, 'everyone': 74, 'shots': 74, 'team': 74, 'even': 73, 'part': 73, 'say': 73, 'efficacy': 73, 'deaths': 71, 'going': 71, 'dr': 71, 're': 70, 'next': 69, 'think': 69, '5': 69, 'down': 68, 'since': 68, 'could': 67, 'healthcare': 67, 'patients': 67, 'cases': 67, 'fda': 67, '21': 67, 'country': 67, 'injection': 67, 'variant': 67, 'fully': 67, 'u': 66, 'nurse': 66, 'hospital': 66, 'start': 65, 'care': 65, 'make': 65, 'via': 65, 'developed': 65, 'real': 65, 'too': 64, 'because': 64, 'where': 64, 'pandemic': 64, 'workers': 64, 've': 63, 'anyone': 63, 'administered': 63, 'back': 63, 'way': 62, 'much': 61, 'countries': 61, 'right': 61, '24': 60, 'around': 60, '15': 60, 'may': 60, 'waiting': 60, 'don': 59, 'finally': 59, 'died': 59, 'oxfordastrazeneca': 59, 'medical': 58, 'o': 58, 'read': 58, 'less': 57, 'dont': 57, 'number': 57, 'between': 56, 'safety': 56, 'w': 56, 'taking': 56, '10': 56, 'long': 56, 'nstnation': 56, 'available': 55, 'most': 55, 'india': 55, 'virus': 55, 'site': 55, 'another': 54, 'already': 54, 'th': 54, 'bit': 53, '6': 53, 'before': 53, 'little': 52, 'ago': 51, 'better': 51, 'delay': 51, 'monday': 50, 'death': 50, 'these': 50, 'life': 50, 'germany': 50, 'under': 50, 'really': 50, 'minister': 50, 'modernavaccine': 50, 'getvaccinated': 50, 'wait': 49, 'want': 49, 'breaking': 49, 'v': 49, 'home': 49, 'must': 49, 'having': 49, 'usa': 48, '2020': 48, 'possible': 48, '23': 48, 'excited': 48, 'yet': 48, 'vaccin': 48, 'allergic': 48, 'elderly': 48, 'shows': 48, 'while': 47, 'best': 47, 'rollout': 47, 'trial': 47, 'protect': 47, 'vaccinating': 47, 'same': 46, 'approval': 46, 'took': 46, 'p': 46, 'proud': 46, 'amazing': 46, 'europe': 46, 'reactions': 46, '20': 46, 'single': 46, 'again': 45, 'help': 45, 'due': 45, 'let': 45, 'delivery': 45, 'least': 45, 'pain': 45, 'positive': 45, 'protection': 45, 'years': 44, 'ive': 44, 'able': 44, 'south': 44, 'started': 44, 'into': 44, 'oxford': 44, 'variants': 44, 'tomorrow': 43, 'she': 43, 'months': 43, 'few': 43, 'working': 43, 'thankful': 43, 'then': 42, 'soon': 42, 'vaccinate': 42, 'reaction': 42, 'supply': 42, 'interesting': 41, 'public': 41, 'president': 41, 'doing': 41, 'coronavaccine': 41, 'family': 41, '95': 41, 'making': 40, 'based': 40, 'following': 40, 'person': 40, 'used': 40, 'report': 40, 'enough': 39, 'them': 39, 'd': 39, 'roll': 39, 'worker': 39, 'question': 39, 'full': 39, 'coronavirusvaccine': 39, 'early': 39, 'live': 39, 'found': 39, 'sarscov': 38, 'video': 38, 'vaccineswork': 38, 'big': 38, 'total': 38, 'sunday': 38, 'singapore': 38, 'coming': 38, 'ill': 38, 'within': 38, 'media': 38, 'jabs': 38, 'sputnikv': 37, '8': 37, 'c': 37, 'including': 37, 'batch': 37, 'group': 37, 'cov': 37, 'f': 37, 'research': 37, 'through': 37, 'across': 36, 'arrived': 36, 'lucky': 36, 'according': 36, 'yes': 36, 'until': 36, 'effect': 36, 'step': 36, 'trust': 36, 'information': 35, 'give': 35, 'per': 35, 'ready': 35, 'nursing': 35, 'off': 35, 'adverse': 35, 'states': 34, 'gets': 34, 'lets': 34, 'announced': 34, 'shipment': 34, 'residents': 34, 'among': 34, 'free': 34, 'come': 34, 'looking': 34, 'european': 34, 'huge': 34, 'johnson': 34, 'tested': 33, 'set': 33, 'clinical': 33, 'super': 33, 'fever': 33, 'covax': 33, 'felt': 33, 'experience': 33, 'completed': 33, 'history': 32, 'corona': 32, 'trump': 32, 'oxfordvaccine': 32, 'never': 32, 'state': 32, 'cant': 32, 'line': 32, 'someone': 32, 'starting': 32, 'keep': 32, 'community': 32, 'risk': 32, 'friday': 32, 'headache': 32, 'nothing': 31, 'b': 31, 'later': 31, 'works': 31, 'approves': 31, 'march': 31, 'german': 31, 'christmas': 31, 'reported': 31, 'turn': 31, 'soreness': 31, 'almost': 31, 'mutation': 31, 'covidvacccine': 31, 'article': 30, 'phase': 30, 'share': 30, 'vax': 30, 'normal': 30, '94': 30, 'december': 29, 'evidence': 29, 'process': 29, 'watch': 29, 'put': 29, 'results': 29, 'severe': 29, 'clinic': 29, 'symptoms': 29, 'fine': 29, 'friends': 29, 'thing': 29, 'six': 29, 'uae': 29, 'covidvaccines': 28, 'vaccinessavelives': 28, 'minutes': 28, 'global': 28, 'cdc': 28, 'begin': 28, 'call': 28, 'thats': 28, 'stop': 28, 'parents': 28, 'frontline': 28, 'trials': 28, 'population': 28, 'look': 27, 'immunity': 27, '7': 27, 'might': 27, 'behind': 27, 'human': 27, 'al': 27, 'giving': 27, 'sinovac': 27, 'delighted': 27, 'wonder': 27, 'mum': 27, 'three': 27, 'produce': 27, 'remember': 27, 'n': 27, 'infection': 27, '19vaccination': 27, 'reports': 26, 'experts': 26, 'every': 26, 'such': 26, '30': 26, 'expected': 26, 'light': 26, '19uk': 26, 'relieved': 26, 'malaysia': 26, 'serious': 26, 'volunteers': 26, 'ones': 26, 'incredibly': 26, 'hard': 26, 'own': 26, 'youre': 26, 'additional': 26, 'opportunity': 26, 'different': 26, 'didnt': 26, 'national': 26, 'co': 26, 'afternoon': 26, 'round': 26, 'production': 26, 'administration': 25, 'fact': 25, 'check': 25, 'show': 25, 'during': 25, 'privileged': 25, 'latest': 25, 'vac': 25, 'others': 25, 'extremely': 25, 'ceo': 25, 'vacc': 25, 'bnt': 25, 'h': 25, 'feels': 25, 'igottheshot': 25, 'efficient': 25, '11': 25, 'centre': 25, 'follow': 25, 'effectiveness': 25, 'highly': 25, 'booster': 25, 'hopefully': 24, 'iran': 24, 'actually': 24, 'pharmaceutical': 24, 'companies': 24, 'continue': 24, 'support': 24, 'offered': 24, 'important': 24, '16': 24, '29': 24, 'excellent': 24, 'company': 24, 'tell': 24, 'immune': 24, 'using': 24, 'went': 24, 'e': 24, 'complete': 24, 'organised': 24, 'mom': 24, 'children': 24, 'january': 24, 'needs': 23, 'half': 23, 'campaign': 23, 'questions': 23, 'relief': 23, 'buy': 23, '50': 23, 'ever': 23, 'sure': 23, 'deal': 23, 'ema': 23, 'forward': 23, 'yours': 23, 'receives': 23, 'mine': 23, 'jan': 23, 'believe': 23, 'month': 23, 'll': 23, 'israeli': 23, 'dead': 23, 'preventing': 23, 'find': 22, 'administering': 22, 'taken': 22, 'nurses': 22, 'numbers': 22, 'friend': 22, '19vaccines': 22, 'case': 22, 'age': 22, 'lot': 22, 'hit': 22, 'likely': 22, 'fight': 22, 'anaphylaxis': 22, 'concerns': 22, 'whole': 22, 'despite': 22, 'myself': 22, '162b2': 22, 'storage': 22, '70': 22, 'ask': 22, 'qatar': 22, 'flu': 22, 'sars': 22, 'france': 22, 'drug': 21, 'delivered': 21, 'small': 21, 'currently': 21, 'asked': 21, 'wednesday': 21, 'thought': 21, '28': 21, 'mass': 21, 'africa': 21, 'link': 21, 'late': 21, 'high': 21, 'medicine': 21, 'seems': 21, 'happened': 21, 'validation': 21, 'va': 21, 'lebanon': 21, 'earlier': 21, 'colleagues': 21, 'info': 21, 'appointment': 21, 'belgium': 21, 'mother': 21, 'blood': 21, 'glad': 21, 'hongkong': 21, 'whether': 20, 'agency': 20, 'americans': 20, 'doctors': 20, 'r': 20, 'front': 20, 'development': 20, 'true': 20, 'lives': 20, 'stay': 20, 'ok': 20, 'test': 20, 'response': 20, 'without': 20, 'system': 20, 'antibodies': 20, '90': 20, 'daily': 20, 'thursday': 20, 'biden': 20, 'doctor': 20, 'tired': 20, 'dad': 20, 'delaying': 20, 'african': 20, 'suggests': 20, 'vaccinationcovid': 20, 'night': 19, 'programme': 19, 'once': 19, 'seen': 19, 'dec': 19, 'vacci': 19, 'pm': 19, 'arrive': 19, 'drive': 19, 'pfizers': 19, 'infections': 19, 'recommended': 19, 'closer': 19, 'beginning': 19, 'lockdown': 19, 'become': 19, 'gp': 19, 'medicines': 19, 'looks': 19, 'together': 19, 'things': 19, 'china': 19, 'thisisourshot': 19, 'bad': 19, 'involved': 19, 'johnsonandjohnson': 19, 'scientific': 19, 'comparison': 19, 'govt': 19, 'mild': 19, 'body': 19, 'appears': 19, 'chills': 19, 'adolescents': 19, 'millions': 18, 'women': 18, 'tuesday': 18, 'updated': 18, 'mask': 18, '200': 18, 'seeing': 18, 'key': 18, 'choice': 18, 'deliveries': 18, 'vulnerable': 18, 'local': 18, 'agreement': 18, 'access': 18, 'away': 18, 'brazil': 18, 'ingredients': 18, 'always': 18, 'saturday': 18, 'something': 18, '18': 18, 'id': 18, 'administer': 18, 'isn': 18, 'service': 18, 'won': 18, 'saying': 18, 'though': 18, 'thread': 18, 'british': 18, 'low': 18, 'lab': 18, 'researchers': 18, 'pretty': 18, 'eligible': 18, 'order': 18, 'australia': 18, 'published': 18, 'april': 18, 'money': 17, 'spread': 17, 'united': 17, 'run': 17, 'l': 17, 'cold': 17, 'moment': 17, 'distribution': 17, 'confirmed': 17, '13': 17, 'regarding': 17, 'needed': 17, 'extra': 17, 'injected': 17, 'north': 17, 'hey': 17, 'disease': 17, 'easy': 17, 'decision': 17, 'scheduled': 17, 'social': 17, 'ugur': 17, 'tests': 17, 'g': 17, 'reduce': 17, 'studies': 17, 'wonderful': 17, 'american': 17, '80': 17, 'anti': 17, 'point': 17, 'list': 17, '48': 17, 'offers': 17, 'die': 17, 'february': 17, '75': 17, 'covaxin': 17, 'job': 17, 'protective': 17, 'success': 16, 'food': 16, 'comes': 16, 'told': 16, 'conditions': 16, 'became': 16, 'kids': 16, 'gov': 16, 'oh': 16, 'change': 16, 'recently': 16, 'federal': 16, 'yay': 16, 'definitely': 16, 'agree': 16, 'technology': 16, 'quickly': 16, 'rolled': 16, 'answer': 16, 'program': 16, 'apart': 16, 'emotional': 16, 'england': 16, 'ou': 16, 'nstworld': 16, 'tunnel': 16, 'europeanunion': 16, 'sahin': 16, 'times': 16, 'term': 16, 'y': 16, 'hear': 16, 'hrs': 16, 'ministry': 16, 'quick': 16, 'slight': 16, '85': 16, 'korea': 16, 'top': 15, 'york': 15, 'shipments': 15, 'observe': 15, 'wife': 15, 'man': 15, 'heard': 15, 'firstdose': 15, 'hospitals': 15, 'toll': 15, 'began': 15, 'fo': 15, 'ahead': 15, 'tonight': 15, 'quite': 15, 'schedule': 15, 'signed': 15, 'pr': 15, 'story': 15, 'nice': 15, 'pregnant': 15, 'similar': 15, 'st': 15, 'manufacturers': 15, 'didn': 15, 'gave': 15, 'sick': 15, 'below': 15, 'painless': 15, 'se': 15, '27': 15, 'statement': 15, 'muscle': 15, 'sinopharm': 15, 'online': 15, 'vs': 15, '0': 15, 'bring': 15, 'rate': 15, 'hoping': 15, 'events': 15, 'testing': 15, 'either': 15, 'move': 15, 'jabbed': 15, 'trying': 15, 'symptomatic': 15, 'expect': 14, 'britain': 14, 'wondering': 14, 'granted': 14, 'worry': 14, 'pfizerproud': 14, 'issues': 14, 'each': 14, 'recipients': 14, 'welcome': 14, 'county': 14, 'five': 14, 'begins': 14, 'worked': 14, '14': 14, 'aged': 14, 'rest': 14, 'clear': 14, 'pre': 14, 'patient': 14, 'officially': 14, 'committee': 14, '38': 14, 'led': 14, 'god': 14, 'beyond': 14, 'absolutely': 14, 'smooth': 14, '19vacccine': 14, 'experimental': 14, '40': 14, 'maybe': 14, 'gates': 14, 'future': 14, 'nearly': 14, 'commission': 14, 'massive': 14, 'dos': 14, 'aches': 14, 'general': 14, 'elect': 14, 'prime': 14, 'spain': 14, 'gratitude': 14, 'worth': 14, 'evening': 14, 'fatigue': 14, 'gap': 14, 'action': 14, '5g': 14, 'feb': 14, 'open': 14, 'folks': 13, 'wrong': 13, 'biggest': 13, 'approve': 13, 'wear': 13, 'doesn': 13, 'left': 13, 'organization': 13, 'members': 13, 'arrival': 13, 'breakingnews': 13, 'final': 13, 'officials': 13, 'wont': 13, 'worldwide': 13, 'race': 13, 'experienced': 13, 'provide': 13, 'anything': 13, 'billion': 13, 'love': 13, 'pharma': 13, 'stock': 13, 'rna': 13, 'indeed': 13, 'special': 13, 'happen': 13, 'place': 13, 'understand': 13, 'regulator': 13, 'third': 13, 'chinese': 13, 'photo': 13, 'impact': 13, 'russia': 13, 'wants': 13, 'ireland': 13, 'member': 13, 'guys': 13, 'hopeful': 13, '25': 13, 'individuals': 13, 'gone': 13, 'az': 13, 'k': 13, 'date': 13, 'booked': 13, 'worried': 13, 'cyprus': 13, 'fantastic': 13, 'delays': 13, 'book': 13, 'red': 13, 'comirnaty': 13, 'busy': 13, 'guess': 13, 'truly': 13, 'brilliant': 13, 'astrazenecavaccine': 13, 'dies': 13, 'dusted': 13, 'effort': 12, '300': 12, 'makes': 12, 'couple': 12, 'updates': 12, 'mhra': 12, 'husband': 12, 'hurts': 12, 'house': 12, 'vials': 12, 'politicians': 12, 'several': 12, 'plan': 12, 'homes': 12, 'fear': 12, 'operation': 12, 'speed': 12, 'bet': 12, 'authorised': 12, 'authorities': 12, 'record': 12, 'cells': 12, 'interview': 12, 'center': 12, 'course': 12, 'sign': 12, 'cannot': 12, 'vial': 12, 'allow': 12, 'strain': 12, 'short': 12, 'return': 12, 'takes': 12, 'lots': 12, 'theres': 12, 'suffered': 12, 'bill': 12, 'exactly': 12, 'sister': 12, 'however': 12, 'leaders': 12, 'control': 12, 'pay': 12, 'fortunate': 12, 'longer': 12, 'timeline': 12, 'view': 12, 'pro': 12, 'spent': 12, 'interval': 12, 'reporting': 12, 'director': 12, 'called': 12, 'especially': 12, 'travel': 12, 'rare': 12, 'products': 12, '600': 12, 'launched': 12, 'head': 12, 'fauci': 12, 'heres': 12, 'organisation': 12, 'keeping': 12, 'young': 12, 'retweet': 12, '3rd': 12, 'covishield': 12, 'major': 12, 'blessed': 12, 'protected': 12, 'ban': 12, 'measures': 12, 'russian': 11, 'guidance': 11, 'sites': 11, 'authorization': 11, 'past': 11, 'instead': 11, 'problem': 11, 'non': 11, 'otherwise': 11, 'supposed': 11, 'registered': 11, 'encourage': 11, 'towards': 11, 'chain': 11, 'although': 11, 'scientist': 11, 'initial': 11, 'billgates': 11, 'dna': 11, 'thrilled': 11, 'mr': 11, 'turkey': 11, 'america': 11, 'helped': 11, 'ordered': 11, 'rolling': 11, 'turkish': 11, 'fmtnews': 11, 'historic': 11, 'present': 11, 'cause': 11, 'meeting': 11, 'inoculated': 11, 'sense': 11, 'means': 11, 'tha': 11, 'chief': 11, 'healthy': 11, 'moving': 11, 'professor': 11, 'thinking': 11, 'zero': 11, 'ages': 11, 'citizens': 11, '45': 11, 'supplies': 11, 'cancer': 11, 'chance': 11, 'gift': 11, 'expecting': 11, 'woke': 11, 'ha': 11, 'known': 11, 'yo': 11, 'vaccino': 11, 'recommend': 11, 'selfie': 11, 'novavax': 11, 'couldnt': 11, 'stored': 11, 'mrnavaccine': 11, 'london': 11, 'de': 11, 'note': 11, 'viral': 11, 'antibody': 11, 'facts': 10, 'explain': 10, 'advice': 10, 'claim': 10, 'released': 10, 'deliver': 10, 'paid': 10, 'authorized': 10, 'multiple': 10, 'eua': 10, 'meanwhile': 10, 'further': 10, 'type': 10, 'him': 10, 'tweet': 10, 'ontario': 10, 'un': 10, 'twitter': 10, 'nigeria': 10, 'southafrica': 10, 'slow': 10, 'interested': 10, 'gps': 10, 'review': 10, 'plus': 10, 'tv': 10, 'tiffany': 10, 'tiffanydover': 10, 'rates': 10, 'leading': 10, 'delayed': 10, 'reach': 10, 'asap': 10, 'nation': 10, 'analysis': 10, 'university': 10, 'simple': 10, 'poor': 10, 'developing': 10, 'mo': 10, 'governments': 10, 'perhaps': 10, 'pressure': 10, 'mutations': 10, 'surgery': 10, 'doesnt': 10, 'dear': 10, 'fast': 10, 'hour': 10, 'promising': 10, 'showed': 10, '60': 10, 'coronavac': 10, 'event': 10, 'joe': 10, 'eve': 10, 'mostly': 10, 'minor': 10, 'ache': 10, '33': 10, 'lead': 10, 'charge': 10, '22': 10, 'resident': 10, 'wecanendthis': 10, 'shit': 10, 'italy': 10, 'playing': 10, 'source': 10, 'protocol': 10, 'sa': 10, 'compare': 10, 'wow': 10, 'hub': 10, 'vaccinestrategy': 10, 'sorry': 10, 'finds': 10, 'slightly': 10, 'else': 10, 'mar': 10, 'steal': 10, 'asymptomatic': 10, 'pfizergang': 10, 'hong': 10, 'kong': 10, 'macau': 10, 'nyc': 9, 'remain': 9, 'surely': 9, 'sheet': 9, 'appeared': 9, 'professionals': 9, 'ups': 9, 'trudeau': 9, 'vaccinat': 9, 'unfortunately': 9, 'psw': 9, 'listen': 9, 'expert': 9, 'j': 9, 'distributed': 9, 'entire': 9, 'efforts': 9, 'above': 9, 'btw': 9, 'becomes': 9, 'aside': 9, 'mean': 9, 'gonna': 9, 'save': 9, 'allergies': 9, 'coronaviruspandemic': 9, 'green': 9, 'older': 9, 'prepared': 9, 'helping': 9, 'apparently': 9, 'informed': 9, 'heart': 9, 'wi': 9, 'bringing': 9, 'fresh': 9, 'factory': 9, 'game': 9, 'facility': 9, 'hold': 9, 'gives': 9, 'black': 9, 'woman': 9, 'jackson': 9, 'employees': 9, 'pleased': 9, 'loved': 9, 'hav': 9, 'inevitable': 9, 'critical': 9, 'related': 9, 'incredible': 9, 'delivering': 9, 'inc': 9, 'fighting': 9, 'fellow': 9, 'bc': 9, 'impressed': 9, 'percent': 9, 'determine': 9, 'borisjohnson': 9, '88': 9, 'john': 9, 'recent': 9, 'wanted': 9, 'needle': 9, 'send': 9, 'decided': 9, 'urge': 9, 'card': 9, 'matter': 9, '89': 9, 'conspiracy': 9, 'market': 9, 'books': 9, 'pharmacy': 9, 'whats': 9, 'usual': 9, 'spike': 9, 'western': 9, 'switzerland': 9, 'inoculation': 9, 'message': 9, '17': 9, 'watching': 9, 'regulatory': 9, 'oman': 9, 'strains': 9, 'transmission': 9, 'experiencing': 9, 'putting': 9, 'significant': 9, 'power': 9, 'sanofi': 9, 'villa': 9, 'bu': 9, 'purchase': 9, 'cost': 9, 'choose': 9, 'shift': 9, 'confirm': 9, 'eff': 9, 'words': 9, 'etc': 9, 'da': 9, 'mixed': 9, 'running': 9, 'face': 9, 'appointments': 9, 'normality': 9, 'idea': 9, 'dosage': 9, '36': 9, 'double': 9, 'infected': 9, 'manufacturer': 9, '52': 9, 'gotten': 9, 'levels': 9, 'ca': 9, 'reduction': 9, 'vaers': 9, 'manufacturing': 9, 'fauciouchie': 9, 'con': 9, 'attempting': 9, 'astrazenaca': 9, 'created': 8, 'asking': 8, 'thankyounhs': 8, 'showing': 8, 'pakistan': 8, 'authorizes': 8, 'building': 8, 'saw': 8, 'ship': 8, 'anita': 8, 'surprised': 8, 'kind': 8, 'role': 8, 'forever': 8, 'primary': 8, 'minute': 8, 'biontechs': 8, 'approach': 8, 'cdnpoli': 8, 'congratulations': 8, 'aren': 8, 'planned': 8, 'reason': 8, 'leave': 8, 'joebiden': 8, 'leaving': 8, 'answers': 8, 'pushing': 8, 'plant': 8, 'worse': 8, 'injections': 8, 'came': 8, 'dover': 8, 'dosis': 8, 'risks': 8, 'cool': 8, 'stops': 8, 'chips': 8, 'press': 8, 'summary': 8, 'meet': 8, 'profile': 8, 'celebrate': 8, 'passed': 8, 'reading': 8, 'wish': 8, 'alaska': 8, 'potential': 8, 'eu27': 8, 'florida': 8, 'okay': 8, 'grade': 8, 'cure': 8, 'talk': 8, 'plans': 8, 'teams': 8, 'havent': 8, 'ensure': 8, 'joy': 8, 'situation': 8, 'profit': 8, 'required': 8, 'thousands': 8, 'add': 8, 'political': 8, 'tells': 8, 'join': 8, 'volunteered': 8, 'centres': 8, 'raised': 8, 'offer': 8, '78': 8, 'reduces': 8, 'shown': 8, 'strong': 8, 'ma': 8, 'proven': 8, 'guinea': 8, 'deltoid': 8, 'seriously': 8, 'ar': 8, 'register': 8, 'prevention': 8, 'brexit': 8, 'vaccineday': 8, 'consider': 8, 'completely': 8, 'citizen': 8, 'common': 8, 'international': 8, 'shame': 8, 'ppl': 8, 'tracking': 8, 'union': 8, 'protecting': 8, 'coronavirusstrain': 8, 'level': 8, 'produced': 8, 'changed': 8, 'participants': 8, 'push': 8, 'lost': 8, 'groups': 8, 'concerning': 8, 'anybody': 8, 'official': 8, 'peer': 8, 'awaiting': 8, '80s': 8, 'thankyou': 8, 'shall': 8, '41': 8, 'portuguese': 8, '01': 8, '42': 8, 'lovely': 8, 'ended': 8, '400': 8, 'ultra': 8, 'mechanism': 8, 'crescent': 8, '150': 8, 'outside': 8, 'certain': 8, 'problems': 8, 'telling': 8, '81': 8, 'teachers': 8, 'protects': 8, 'develop': 8, '26': 8, 'b117': 8, 'uur': 8, 'rulers': 8, 'teens': 8, 'accuse': 8, 'olds': 8, 'jobs': 8, 'zavemtem': 8, 'lcc': 8, 'eliminate': 8, 'packaging': 8, 'useful': 7, 'cut': 7, 'price': 7, 'failed': 7, 'covidiots': 7, 'hands': 7, 'fake': 7, 'kept': 7, 'import': 7, 'concerned': 7, 'weekend': 7, 'icu': 7, 'hand': 7, 'advised': 7, '35': 7, 'confirms': 7, 'canadian': 7, 'california': 7, 'pfe': 7, 'overwhelmed': 7, 'fedex': 7, 'quebec': 7, 'freezers': 7, 'sight': 7, 'expects': 7, '00': 7, 'wouldnt': 7, 'nationwide': 7, 'asian': 7, 'caught': 7, 'exciting': 7, 'figures': 7, 'aka': 7, 'arriving': 7, 'everything': 7, 'advisory': 7, 'michigan': 7, 'nhsheroes': 7, 'allergy': 7, 'truth': 7, 'successfully': 7, 'notice': 7, 'talking': 7, 'bigpharma': 7, 'yourself': 7, 'contain': 7, 'begun': 7, 'potentially': 7, 'identification': 7, 'certificate': 7, 'provided': 7, 'contract': 7, 'majority': 7, 'boycott': 7, 'nobody': 7, 'details': 7, 'unlike': 7, 'siegel': 7, 'calling': 7, 'brother': 7, 'haven': 7, 'standard': 7, 'former': 7, 'suffers': 7, 'marc': 7, 'wh': 7, 'lies': 7, 'beautiful': 7, 'propaganda': 7, 'joke': 7, 'birthday': 7, 'failure': 7, 'prevent': 7, 'amid': 7, 'masks': 7, 'emegency': 7, 'temporarily': 7, 'pls': 7, 'com': 7, 'hearing': 7, 'website': 7, 'park': 7, 'scotland': 7, 'placebo': 7, 'status': 7, 'french': 7, 'immunisation': 7, 'netanyahu': 7, 'tweets': 7, 'kill': 7, 'probably': 7, 'temperature': 7, 'comment': 7, 'announce': 7, 'efficiency': 7, 'crisis': 7, 'blame': 7, 'party': 7, 'area': 7, 'causing': 7, 'authority': 7, 'katalinkariko': 7, 'mln': 7, 'page': 7, 'senior': 7, 'emirates': 7, 'play': 7, 'cent': 7, 'name': 7, 'concern': 7, 'differences': 7, 'biotech': 7, 'leads': 7, 'launches': 7, 'english': 7, 'win': 7, 'management': 7, 'consent': 7, 'volunteering': 7, 'yeah': 7, 'speaking': 7, 'dying': 7, 'el': 7, 'grandad': 7, 'managed': 7, 'priority': 7, 'promised': 7, 'sleep': 7, '101': 7, 'amount': 7, 'followed': 7, 'albert': 7, 'bourla': 7, 'counting': 7, 'politics': 7, 'encouraging': 7, 'queue': 7, 'gene': 7, 'sputnik': 7, 'rather': 7, 'hkt': 7, 'organized': 7, 'seconddose': 7, 'forgot': 7, 'collaboration': 7, 'demand': 7, 'added': 7, 'totally': 7, 'block': 7, 'listed': 7, 'opens': 7, 'mi': 7, 'calls': 7, 'compared': 7, 'paper': 7, 'father': 7, 'club': 7, 'boosters': 7, 'achy': 7, 'shortly': 7, 'na': 7, 'recieved': 7, 'highest': 7, 'arms': 7, 'ashamed': 7, 'transportation': 7, 'asks': 7, 'coviduk': 7, 'datuk': 7, 'jandj': 7, 'invited': 7, 'informative': 7, 'brand': 7, 'significantly': 7, '6th': 7, 'occur': 7, 'business': 7, 'webinar': 7, 'frontliners': 7, 'reduced': 7, 'provides': 7, 'ahin': 7, 'ercesearch': 7, '9th': 7, 'roemenia': 7, 'sad': 6, 'mark': 6, 'announces': 6, 'stayhome': 6, 'linked': 6, 'respect': 6, 'exchange': 6, 'learn': 6, 'persons': 6, '43': 6, 'interim': 6, 'recommendation': 6, 'sent': 6, 'happening': 6, 'goes': 6, 'kuwait': 6, 'board': 6, 'starts': 6, 'kingdom': 6, 'offering': 6, 'warned': 6, 'healthcareheroes': 6, 'journal': 6, 'victory': 6, 'forget': 6, 'wearing': 6, 'operationwarpspeed': 6, 'pregnancy': 6, 'announcement': 6, 'bahrain': 6, 'nations': 6, 'dramatically': 6, 'discovered': 6, 'vaccinoanticovid': 6, 'protein': 6, 'picture': 6, 'star': 6, 'progress': 6, 'sources': 6, 'seven': 6, 'launch': 6, 'hell': 6, 'fa': 6, 'extensive': 6, 'ab': 6, 'ms': 6, 'q': 6, 'providing': 6, 'higher': 6, 'affect': 6, 'humanity': 6, 'form': 6, 'increase': 6, 'period': 6, 'arrives': 6, 'anaphylactic': 6, 'app': 6, 'fair': 6, 'chile': 6, 'daughter': 6, 'large': 6, 'debate': 6, 'continues': 6, 'temp': 6, 'piece': 6, 'wa': 6, 'army': 6, '96': 6, 'version': 6, 'series': 6, 'smile': 6, 'lol': 6, 'opinion': 6, 'proteins': 6, 'li': 6, 'fetal': 6, 'immediately': 6, 'healthcareworkers': 6, 'interest': 6, 'whose': 6, 'inject': 6, 'wave': 6, 'tan': 6, 'idiot': 6, 'issue': 6, 'privilege': 6, 'investigating': 6, 'build': 6, '800': 6, 'detected': 6, 'child': 6, 'particularly': 6, 'application': 6, 'target': 6, 'knows': 6, 'affected': 6, 'canadians': 6, 'contracts': 6, 'four': 6, 'associated': 6, 'covidvaccinated': 6, 'upper': 6, 'express': 6, 'irish': 6, 'licensed': 6, 'mexico': 6, 'reasons': 6, 'katalinkarik': 6, 'le': 6, 'simply': 6, 'humans': 6, 'shes': 6, 'reached': 6, 'spoke': 6, 'contagious': 6, 'vaxx': 6, 'mankind': 6, 'ho': 6, 'lying': 6, 'mutant': 6, 'paving': 6, 'warning': 6, 'fuck': 6, 'strange': 6, 'request': 6, '65': 6, 'authorisation': 6, 'grants': 6, '500': 6, 'drop': 6, 'spreading': 6, 'try': 6, 'confidence': 6, 'discussion': 6, 'brief': 6, 'along': 6, 'postponed': 6, 'manufacture': 6, 'nervous': 6, 'rabies': 6, 'pcr': 6, 'named': 6, 'en': 6, 'living': 6, 'stuff': 6, 'lower': 6, 'vaccinator': 6, 'quarantine': 6, 'vaccinatio': 6, 'symptom': 6, 'worst': 6, 'main': 6, 'supporting': 6, 'tried': 6, 'wo': 6, 'overview': 6, 'basically': 6, 'options': 6, 'outbreak': 6, 'rough': 6, 'marks': 6, 'break': 6, 'lack': 6, 'khameneis': 6, 'needles': 6, 'cancelled': 6, 'thousand': 6, 'indian': 6, 'thru': 6, 'chip': 6, 'publichealth': 6, 'waste': 6, 'transmissible': 6, 'agreed': 6, 'dosing': 6, '91': 6, 'preliminary': 6, 'finished': 6, 'tender': 6, 'bosnia': 6, '62': 6, 'dropped': 6, 'seamless': 6, '55': 6, 'therapy': 6, 'procurement': 6, '10th': 6, 'sideeffects': 6, '72': 6, '99': 6, 'regards': 6, 'product': 6, 'neutralizes': 6, 'largest': 6, 'erc': 6, 'pfizervacine': 6, 'northkorea': 6, 'individual': 6, 'treat': 5, 'breastfeeding': 5, 'pakustv': 5, 'providers': 5, 'promises': 5, 'detailed': 5, 'trumpvaccine': 5, 'icymi': 5, 'immigrant': 5, 'table': 5, 'evil': 5, 'extending': 5, 'untested': 5, 'ugursahin': 5, 'explanation': 5, 'listening': 5, 'personal': 5, 'speak': 5, 'city': 5, 'baby': 5, 'hiv': 5, 'unless': 5, 'killed': 5, 'everywhere': 5, 'seniors': 5, 'maskup': 5, 'unlikely': 5, 'pfizerbiontechs': 5, 'welcoming': 5, 'stupid': 5, 'reaches': 5, 'acip': 5, 'box': 5, 'immunization': 5, 'recommends': 5, 'watched': 5, 'stated': 5, 'heading': 5, 'firm': 5, 'air': 5, 'leaves': 5, 'visit': 5, 'bion': 5, 'di': 5, '39': 5, 'warns': 5, 'achievement': 5, 'curious': 5, 'dev': 5, 'alive': 5, 'saudi': 5, 'kn': 5, 'learned': 5, 'mistake': 5, 'ppe': 5, 'fridge': 5, 'honored': 5, 'gettin': 5, 'manchester': 5, 'proudly': 5, 'parts': 5, 'facilities': 5, 'hopes': 5, '97': 5, 'joined': 5, 'possibly': 5, 'responsible': 5, 'credit': 5, 'west': 5, 'guide': 5, 'paul': 5, 'region': 5, 'pla': 5, 'prefer': 5, 'ccp': 5, 'concluded': 5, 'hashtag': 5, 'active': 5, 'existing': 5, 'merkel': 5, 'bell': 5, 'coronavirusupdates': 5, 'tureci': 5, 'click': 5, 'suffer': 5, 'anonymous': 5, 'professional': 5, 'wearamask': 5, 'bed': 5, '83': 5, 'wales': 5, 'surpasses': 5, 'thi': 5, 'require': 5, 'extreme': 5, 'premier': 5, 'savelives': 5, 'wanna': 5, 'unable': 5, 'helpful': 5, 'realize': 5, 'peg': 5, 'prove': 5, 'afraid': 5, 'turning': 5, 'legal': 5, 'war': 5, 'medtwitter': 5, 'inoculations': 5, 'easily': 5, 'itself': 5, 'players': 5, '250': 5, 'recovered': 5, 'release': 5, 'derived': 5, 'stem': 5, 'hypocrites': 5, 'brazilian': 5, 'tenderness': 5, 'turned': 5, 'pic': 5, 'practice': 5, 'tears': 5, 'policy': 5, 'amongst': 5, 'alongside': 5, 'max': 5, 'partnership': 5, 'phew': 5, 'office': 5, 'challenge': 5, 'misinformation': 5, 'mandatory': 5, 'image': 5, 'absolute': 5, 'texas': 5, 'benjamin': 5, 'finish': 5, 'hurt': 5, 'refusing': 5, 'antivax': 5, 'swollen': 5, 'store': 5, 'explainer': 5, 'fr': 5, 'feelings': 5, 'frontlineworkers': 5, 'ne': 5, 'centers': 5, 'lied': 5, 'claims': 5, 'vaccinocovid': 5, 'nejm': 5, '1m': 5, 'considering': 5, 'pfize': 5, 'te': 5, 'journey': 5, 'dxb': 5, 'personnel': 5, 'humbled': 5, 'seeking': 5, 'batches': 5, 'manufactured': 5, 'initiative': 5, 'joint': 5, 'provider': 5, 'msm': 5, 'pfizercovid': 5, 'requires': 5, 'terms': 5, 'candidate': 5, 'cheap': 5, 'disaster': 5, 'thus': 5, 'spending': 5, 'heroes': 5, 'field': 5, 'novel': 5, 'innovation': 5, 'careful': 5, 'funding': 5, 'fb': 5, 'sending': 5, 'whe': 5, 'kick': 5, 'sciencewillwin': 5, 'recommendations': 5, 'reverse': 5, 'comparing': 5, 'central': 5, 'evaluate': 5, 'result': 5, 'modern': 5, 'capacity': 5, 'correct': 5, 'wouldn': 5, 'aft': 5, 'karik': 5, 'school': 5, 'inoculate': 5, 'turks': 5, 'sell': 5, 'himself': 5, 'lit': 5, 'alone': 5, 'successful': 5, 'netherlands': 5, 'infectious': 5, 'applied': 5, 'arent': 5, 'frail': 5, '24hrs': 5, 'hall': 5, 'makers': 5, '92': 5, 'nan': 5, 'bonus': 5, 'everybody': 5, 'hello': 5, 'seem': 5, 'directly': 5, 'clears': 5, 'continuing': 5, 'aims': 5, 'guidelines': 5, 'phone': 5, 'middle': 5, 'attack': 5, 'fingers': 5, 'sitting': 5, 'holding': 5, 'revealed': 5, '32': 5, 'aga': 5, 'sticker': 5, '360': 5, 'hi': 5, 'topic': 5, 'dosed': 5, 'purchasing': 5, 'bame': 5, 'mess': 5, 'roughly': 5, 'jcvi': 5, 'deputy': 5, 'letter': 5, 'average': 5, 'staysafe': 5, 'walk': 5, 'walking': 5, 'students': 5, 'yrs': 5, 'drawing': 5, 'posted': 5, 'strongly': 5, 'frontlineworker': 5, 'reality': 5, 'halfway': 5, '15th': 5, '7m': 5, 'contra': 5, 'queen': 5, 'mention': 5, 'mins': 5, 'hugs': 5, 'door': 5, 'reaching': 5, 'intervals': 5, 'denmark': 5, 'happier': 5, 'optimistic': 5, 'withdraw': 5, 'text': 5, 'grandma': 5, 'amazingly': 5, 'proof': 5, '5th': 5, 'barely': 5, 'strategy': 5, 'mashablesea': 5, 'dangerous': 5, 'vital': 5, 'none': 5, 'emerging': 5, 'leaked': 5, 'refuse': 5, 'swelling': 5, 'norwegian': 5, 'caused': 5, 'neutralizing': 5, 'bbc': 5, 'canadas': 5, 'recorded': 5, 'pharmacist': 5, 'su': 5, 'vaccinationdrive': 5, 'grandparents': 5, 'israelis': 5, 'ford': 5, 'vaccinepassports': 5, 'till': 5, 'tozinameran': 5, 'pfizered': 5, 'syringes': 5, 'exports': 5, 'macroom': 5, 'covidjab': 5, 'janssen': 5, 'withdraws': 5, 'freedom': 5, 'cambridge': 5, 'current': 5, 'minimal': 5, 'suspended': 5, 'valentinesday': 5, 'scale': 5, 'tolerated': 5, 'sri': 5, 'hoy': 5, 'lleg': 5, 'lote': 5, 'suspend': 5, 'halts': 5, 'bbcnews': 4, 'shipped': 4, 'billions': 4, 'sudden': 4, 'miss': 4, 'household': 4, 'preparations': 4, 'milestone': 4, 'doug': 4, 'toronto': 4, 'issued': 4, 'autoimmune': 4, 'suggest': 4, 'justin': 4, 'herd': 4, 'feet': 4, 'transport': 4, 'trucks': 4, 'ex': 4, 'gi': 4, 'honoured': 4, 'proper': 4, 'hcw': 4, 'anxiety': 4, 'sciencematters': 4, 'hacker': 4, 'pence': 4, 'unitedstates': 4, 'washington': 4, 'fl': 4, 'containing': 4, 'correctly': 4, 'funded': 4, 'warp': 4, 'submitted': 4, 'cnn': 4, 'services': 4, 'spot': 4, 'pfizerbiotech': 4, 'force': 4, 'pray': 4, 'basis': 4, 'kalamazoo': 4, 'polio': 4, 'ad': 4, 'superpower': 4, 'podcast': 4, 'faith': 4, 'winter': 4, 'actual': 4, 'impressive': 4, 'white': 4, 'rises': 4, 'brussels': 4, 'pharmacists': 4, 'essential': 4, 'pulling': 4, 'shortage': 4, '4th': 4, 'genuine': 4, 'tirelessly': 4, 'stick': 4, 'novaccineforme': 4, 'rich': 4, 'dogs': 4, 'infographic': 4, 'moves': 4, 'systemic': 4, 'ottawa': 4, 'preparing': 4, 'includes': 4, 'dry': 4, 'safely': 4, 'option': 4, 'contains': 4, 'sharing': 4, 'island': 4, 'clearly': 4, 'model': 4, 'saved': 4, 'unknown': 4, 'san': 4, 'aimed': 4, 'rumors': 4, 'snow': 4, 'weather': 4, 'younger': 4, 'knew': 4, 'province': 4, '950': 4, 'sleeves': 4, 'temperatures': 4, 'rushed': 4, 'hospitalized': 4, 'panic': 4, 'theeu': 4, 'ozlem': 4, 'immense': 4, 'conservatives': 4, 'freezer': 4, 'stopped': 4, 'alaskan': 4, 'alert': 4, 'previously': 4, 'manager': 4, 'sit': 4, 'couldn': 4, 'bottle': 4, 'photos': 4, 'moments': 4, 'recd': 4, 'covidsecondwave': 4, 'explained': 4, 'driven': 4, 'challenges': 4, 'discussing': 4, 'shares': 4, 'polyethylene': 4, 'glycol': 4, 'throwing': 4, 'opening': 4, 'regional': 4, 'worries': 4, 'hcws': 4, 'ac': 4, 'distribute': 4, 'november': 4, 'honestly': 4, 'remove': 4, 'posts': 4, 'hot': 4, 'vice': 4, 'publicly': 4, 'stadium': 4, 'previous': 4, 'cell': 4, 'ursula': 4, 'von': 4, 'der': 4, 'records': 4, 'youve': 4, 'candidates': 4, 'appear': 4, 'swiss': 4, 'importing': 4, 'speakers': 4, 'zombie': 4, 'approx': 4, 'safer': 4, 'leadership': 4, 'soros': 4, 'vonderleyen': 4, 'eucommission': 4, 'closely': 4, 'brings': 4, 'producing': 4, 'kid': 4, 'airline': 4, 'afte': 4, 'jump': 4, 'honest': 4, 'worlds': 4, 'liar': 4, 'solution': 4, 'degree': 4, 'car': 4, 'met': 4, 'conditional': 4, 'asia': 4, 'shields': 4, 'tunisia': 4, 'stable': 4, 'brave': 4, 'knowing': 4, 'agai': 4, 'yall': 4, 'trustscience': 4, 'controls': 4, 'resources': 4, 'activated': 4, 'monumental': 4, '365': 4, 'reuters': 4, 'invested': 4, 'distributing': 4, 'saudiarabia': 4, 'santa': 4, 'romania': 4, 'avoid': 4, 'isnt': 4, 'immediate': 4, 'airport': 4, 'sabah': 4, 'barsha': 4, 'timely': 4, 'abdullah': 4, 'figure': 4, 'explaining': 4, 'orders': 4, 'pcn': 4, 'easier': 4, 'exclusive': 4, 'tough': 4, 'logistical': 4, 'retirement': 4, 'banned': 4, 'tremendous': 4, 'dull': 4, 'supreme': 4, 'omg': 4, 'ef': 4, 'fase': 4, 'sarsov': 4, 'hits': 4, 'held': 4, 'la': 4, 'enter': 4, 'chose': 4, 'coffee': 4, 'witness': 4, 'usage': 4, '19italia': 4, 'doubt': 4, 'neither': 4, 'boss': 4, 'confident': 4, 'prior': 4, 'biotechnology': 4, 'heads': 4, 'mood': 4, 'thoughts': 4, 'pictures': 4, 'proves': 4, 'wasn': 4, 'twice': 4, 'example': 4, 'moved': 4, 'stephen': 4, 'accepting': 4, 'x': 4, 'comfortable': 4, 'articles': 4, 'drugs': 4, 'summer': 4, 'vaccina': 4, 'boy': 4, 'fun': 4, 'excitement': 4, 'disclosure': 4, '24th': 4, 'hamilton': 4, 'missing': 4, 'pl': 4, 'stand': 4, 'facing': 4, 'medics': 4, 'police': 4, 'republic': 4, 'difference': 4, 'include': 4, 'responses': 4, 'katalin': 4, 'fe': 4, 'jordan': 4, 'studentnurse': 4, 'believes': 4, 'sage': 4, 'earth': 4, 'rules': 4, 'often': 4, 'nor': 4, 'sadly': 4, 'malice': 4, 'suggested': 4, 'lists': 4, 'advance': 4, 'courtesy': 4, 'covidiot': 4, 'changing': 4, 'reportedly': 4, 'designed': 4, 'hes': 4, 'followthescience': 4, 'literally': 4, 'nausea': 4, 'planning': 4, 'discovery': 4, 'crazy': 4, 'sho': 4, 'officers': 4, 'sweden': 4, 'reviewed': 4, 'beg': 4, '31': 4, 'versus': 4, 'plenty': 4, 'ouch': 4, 'weve': 4, 'wil': 4, 'categories': 4, 'jointly': 4, 'independent': 4, 'hr': 4, 'sort': 4, 'oxforduniversity': 4, 'guy': 4, 'exceeds': 4, '199': 4, 'perfect': 4, 'portugal': 4, 'morality': 4, 'peoples': 4, 'rabiaclnica': 4, 'theyre': 4, 'hero': 4, 'receiv': 4, 'prick': 4, 'miami': 4, 'stickers': 4, 'necessary': 4, 'conversation': 4, '84': 4, '08': 4, 'error': 4, 'reassuring': 4, 'inside': 4, 'shout': 4, 'fewer': 4, 'visiting': 4, 'families': 4, 'relative': 4, 'awesome': 4, 'painful': 4, 'strategic': 4, 'track': 4, 'bans': 4, 'trip': 4, 'letting': 4, 'uses': 4, 'ye': 4, '180': 4, 'ran': 4, 'vaxxed': 4, 'virtual': 4, 'negative': 4, 'raises': 4, 'slick': 4, 'secured': 4, 'friendly': 4, 'selangor': 4, 'ordinary': 4, 'except': 4, 'weird': 4, 'investigates': 4, 'risky': 4, 'qualified': 4, 'malaysians': 4, 'frontliner': 4, 'hackers': 4, 'smiling': 4, 'socialdistancing': 4, 'secure': 4, 'material': 4, 'limited': 4, 'sun': 4, 'sounds': 4, 'suddenly': 4, 'wide': 4, 'assuming': 4, 'austrian': 4, 'certainly': 4, 'considered': 4, 'deals': 4, 'checked': 4, 'dha': 4, 'faster': 4, 'shoulder': 4, 'neutralization': 4, 'todays': 4, 'mind': 4, 'chair': 4, 'novartis': 4, 'hate': 4, 'freeze': 4, 'rapid': 4, '04': 4, 'surprise': 4, 'buying': 4, 'boris': 4, 'agent': 4, 'themselves': 4, 'driving': 4, 'boost': 4, 'deep': 4, 'partner': 4, 'nianshuangwang': 4, 'map': 4, 'june': 4, 'nationalism': 4, 'giant': 4, 'sales': 4, 'newzealand': 4, 'zealand': 4, 'locked': 4, '351': 4, 'flight': 4, 'beat': 4, '54': 4, 'energy': 4, 'robust': 4, 'fullyvaccinated': 4, 'panam': 4, 'pas': 4, 'obesity': 4, 'azerbaijan': 4, 'clotting': 4, 'clots': 4, 'bih': 4, 'vaccinerulers': 4, 'defective': 4, 'unite': 4, 'kariko': 4, 'delpharm': 4, 'acknowledge': 3, 'born': 3, 'whilst': 3, 'bright': 3, 'winning': 3, 'socially': 3, 'style': 3, '29th': 3, 'cou': 3, 'muslim': 3, 'develo': 3, 'pace': 3, 'corporate': 3, 'greed': 3, 'rempel': 3, 'believed': 3, 'female': 3, 'liabilities': 3, 'achieved': 3, 'cried': 3, 'desk': 3, 'quidangen': 3, 'saving': 3, 'warpspeed': 3, 'stepping': 3, 'fox': 3, 'itll': 3, 'peo': 3, 'gav': 3, 'supervising': 3, 'admin': 3, 'approving': 3, 'room': 3, '30k': 3, 'historical': 3, 'surreal': 3, 'kudos': 3, 'entry': 3, 'approvals': 3, 'shipping': 3, 'milli': 3, 'radio': 3, 'east': 3, 'admitting': 3, 'drsahin': 3, 'eventually': 3, 'maximum': 3, 'prepare': 3, 'essentialworkers': 3, 'egypt': 3, 'newly': 3, 'hack': 3, '2030': 3, 'welp': 3, 'pushed': 3, 'wise': 3, 'turkeys': 3, 'education': 3, 'allows': 3, '220': 3, 'newyork': 3, 'claiming': 3, 'tool': 3, 'practices': 3, 'panel': 3, 'vaccinerollout': 3, 'remind': 3, 'bharatbiotech': 3, 'uncle': 3, 'filled': 3, 'road': 3, 'coverage': 3, 'everyday': 3, 'unproven': 3, 'transparent': 3, 'quality': 3, 'street': 3, 'fi': 3, 'unclear': 3, 'discuss': 3, 'eric': 3, 'fascinating': 3, 'messenger': 3, 'enable': 3, 'volunteer': 3, 'portal': 3, 'includin': 3, 'vi': 3, 'memorial': 3, 'located': 3, 'berlin': 3, 'differ': 3, 'easing': 3, 'magnificent': 3, 'patiently': 3, 'foreign': 3, 'conference': 3, 'van': 3, 'mit': 3, 'poison': 3, 'ass': 3, '21st': 3, 'genius': 3, 'tweeting': 3, 'noon': 3, 'react': 3, 'ro': 3, 'assume': 3, 'pos': 3, 'investment': 3, 'ukgovernment': 3, 'liability': 3, 'sandralindsay': 3, 'myths': 3, 'sur': 3, 'ltc': 3, 'ice': 3, 'glimpse': 3, 'label': 3, 'learning': 3, 'wasnt': 3, 'sing': 3, 'breath': 3, 'nih': 3, 'correction': 3, 'iii': 3, 'immunize': 3, 'forecast': 3, 'acc': 3, 'iranians': 3, 'bernardino': 3, 'uklockdown': 3, 'genetic': 3, 'teamwork': 3, 'snowing': 3, 'battle': 3, 'accused': 3, 'bi': 3, 'honor': 3, 'importance': 3, 'wider': 3, 'angelamerkel': 3, 'palsy': 3, 'lip': 3, 'imagine': 3, 'tonyblair': 3, 'awaits': 3, 'headaches': 3, 'admitted': 3, 'newspaper': 3, '19usa': 3, 'unsure': 3, 'department': 3, 'wiser': 3, 'unbelievably': 3, 'occurred': 3, 'create': 3, 'secures': 3, 'alberta': 3, 'areas': 3, 'amazon': 3, 'guaranteed': 3, '19ab': 3, 'growing': 3, 'reminder': 3, 'medicaltyranny': 3, 'exception': 3, 'bullshit': 3, 'games': 3, 'various': 3, 'highlights': 3, 'logistics': 3, 'serve': 3, 'whenever': 3, 'eyes': 3, 'chances': 3, 'secretary': 3, 'doubts': 3, 'answered': 3, 'clinics': 3, 'harmful': 3, 'clinicians': 3, 'abou': 3, 'airlines': 3, 'cargo': 3, 'si': 3, 'foundation': 3, 'noted': 3, 'urges': 3, 'nursetwitter': 3, 'accept': 3, 'shock': 3, 'coronavirusuk': 3, 'usually': 3, 'prohibited': 3, 'played': 3, 'arabia': 3, 'crocodiles': 3, 'vaccins': 3, 'anyway': 3, 'injecting': 3, 'immensely': 3, 'microchip': 3, 'mentioned': 3, 'frontlineheroes': 3, 'eucommissioner': 3, 'whi': 3, 'rush': 3, 'art': 3, 'dizzy': 3, 'pig': 3, 'ah': 3, 'ibelieveinscience': 3, 'duty': 3, 'ph': 3, 'favorite': 3, '1done': 3, 'equitable': 3, 'treci': 3, 'governor': 3, '63': 3, 'reviewing': 3, 'writing': 3, 'vaccinators': 3, 'leader': 3, 'fist': 3, 'crying': 3, 'mutated': 3, 'faints': 3, 'tennessee': 3, 'emir': 3, 'trusts': 3, 'powers': 3, 'recovery': 3, 'spreads': 3, 'spare': 3, 'shared': 3, 'resistance': 3, 'abroad': 3, 'meant': 3, 'hungarian': 3, 'ur': 3, 'wiki': 3, 'deciding': 3, 'rome': 3, 'dhl': 3, 'bodies': 3, 'othe': 3, 'lethal': 3, 'moderate': 3, 'mad': 3, 'cartoon': 3, 'fears': 3, 'stopping': 3, 'poses': 3, 'expatriate': 3, 'emirati': 3, 'markets': 3, 'mrs': 3, 'threats': 3, 'ramp': 3, 'cry': 3, 'dress': 3, 'gb': 3, 'ni': 3, 'crime': 3, 'quarter': 3, 'dominant': 3, 'difficult': 3, 'district': 3, 'nuremberg': 3, 'code': 3, 'reveals': 3, 'stage': 3, 'purchases': 3, '100m': 3, 'incl': 3, 'dubais': 3, 'initially': 3, 'ours': 3, 'eligibility': 3, 'achey': 3, 'train': 3, 'chat': 3, 'nights': 3, 'underway': 3, 'italian': 3, 'registration': 3, 'widely': 3, 'glass': 3, 'regions': 3, 'convince': 3, 'larger': 3, 'vaccinatie': 3, 'addition': 3, 'italia': 3, 'scared': 3, 'knowledge': 3, 'beating': 3, 'regulators': 3, 'mon': 3, 'aid': 3, 'pics': 3, 'sold': 3, 'account': 3, 'niaid': 3, 'wrote': 3, 'noor': 3, 'hisham': 3, 'vet': 3, 'proposed': 3, 'edition': 3, 'neighbors': 3, 'anymore': 3, 'clock': 3, 'af': 3, 'donnelly': 3, 'marketing': 3, 'feed': 3, 'walsh': 3, 'catch': 3, 'engineering': 3, 'procure': 3, 'alliance': 3, 'poland': 3, 'lithuania': 3, 'chicago': 3, 'peop': 3, 'false': 3, 'breach': 3, 'nashville': 3, 'wud': 3, 'hence': 3, 'gifts': 3, 'killing': 3, 'row': 3, 'messy': 3, 'fill': 3, 'efficiently': 3, 'sex': 3, 'biontec': 3, 'docsforvax': 3, '19th': 3, 'ir': 3, 'tribute': 3, 'recipient': 3, '8th': 3, 'gulf': 3, 'pop': 3, '2019': 3, 'adding': 3, 'land': 3, 'afp': 3, 'bag': 3, 'bye': 3, 'arn': 3, '580': 3, 'cuz': 3, 'crap': 3, 'astra': 3, 'zeneca': 3, 'pfiz': 3, 'sake': 3, 'indicate': 3, '1000': 3, 'lady': 3, 'realise': 3, 'somewhere': 3, 'oxfordaz': 3, 'publish': 3, 'irresponsible': 3, 'rel': 3, 'married': 3, 'southkorea': 3, '19ontario': 3, 'turns': 3, 'bob': 3, 'mail': 3, 'esta': 3, 'understanding': 3, 'obligatory': 3, 'yep': 3, 'messages': 3, 'vaccincovid': 3, 'defeat': 3, 'appt': 3, 'thoroughly': 3, 'grand': 3, 'rounds': 3, 'limits': 3, 'corrupt': 3, 'skilled': 3, 'convenient': 3, '20th': 3, 'reassurance': 3, 'assured': 3, 'availability': 3, 'debating': 3, 'manner': 3, 'properly': 3, '12wk': 3, 'allowed': 3, 'horrible': 3, 'warn': 3, 'researcher': 3, 'utter': 3, 'cheers': 3, 'discussions': 3, 'base': 3, 'dads': 3, 'direct': 3, '02': 3, 'unit': 3, 'mexican': 3, 'cli': 3, 'palestinians': 3, 'excluded': 3, 'fabulous': 3, 'whereistiffanydover': 3, 'studying': 3, 'rapidly': 3, 'studied': 3, 'astounding': 3, 'min': 3, 'weekly': 3, 'wee': 3, 'secondshot': 3, 'blaming': 3, 'sir': 3, 'security': 3, 'close': 3, 'encefalomielosis': 3, '893': 3, 'understood': 3, 'castle': 3, 'theories': 3, 'bloomberg': 3, 'acevedo': 3, 'whitty': 3, 'presented': 3, 'classified': 3, 'water': 3, 'sonia': 3, 'cross': 3, 'eight': 3, 'tiny': 3, 'decide': 3, 'deny': 3, 'rise': 3, 'updating': 3, 'stats': 3, '19ireland': 3, 'astrazenica': 3, 'aunt': 3, 'royal': 3, 'military': 3, 'deadliest': 3, 'pandemia': 3, 'hug': 3, 'worrying': 3, 'included': 3, 'soooo': 3, 'shoot': 3, 'hubby': 3, 'lockdowns': 3, 'wed': 3, '37': 3, 'resistant': 3, 'courteous': 3, 'checking': 3, 'investigation': 3, 'awe': 3, 'cork': 3, 'joining': 3, 'hse': 3, 'patience': 3, 'impfstoff': 3, 'rn': 3, '2done': 3, 'bp': 3, 'pe': 3, 'aim': 3, '10am': 3, 'neutralize': 3, 'genetically': 3, 'engineered': 3, 'bees': 3, 'king': 3, 'throat': 3, 'righttobarearms': 3, 'whoop': 3, 'doc': 3, 'cmo': 3, 'biological': 3, 'cleaning': 3, 'jumped': 3, 'poorly': 3, 'stopthespread': 3, 'identical': 3, 'urgent': 3, 'rec': 3, 'elated': 3, 'collect': 3, 'recieve': 3, 'publishes': 3, 'kinda': 3, 'gotta': 3, 'beast': 3, 'sleeping': 3, 'biochemist': 3, 'profits': 3, 'discover': 3, 'vibes': 3, 'disorder': 3, 'thay': 3, 'guard': 3, 'eh': 3, 'michael': 3, 'itp': 3, 'count': 3, 'excuse': 3, 'morrison': 3, 'poke': 3, 'superpowers': 3, 'disappointed': 3, 'philippines': 3, 'enthusiastic': 3, 'straight': 3, 'thirds': 3, 'herdimmunity': 3, 'loss': 3, 'medications': 3, 'choices': 3, 'thankyouscience': 3, 'del': 3, 'laboratory': 3, 'wks': 3, 'unacceptable': 3, 'hers': 3, 'saint': 3, 'documents': 3, 'terminally': 3, 'mildly': 3, 'circulating': 3, 'forums': 3, '129': 3, 'opened': 3, 'seri': 3, 'fatal': 3, 'extend': 3, 'igotmyvaccineatuhn': 3, 'invent': 3, 'australian': 3, 'ground': 3, 'praying': 3, 'cuts': 3, 'forms': 3, 'impfung': 3, 'viruses': 3, 'legally': 3, 'confidential': 3, 'slovakia': 3, 'fergus': 3, 'tim': 3, 'temporary': 3, 'indonesia': 3, 'du': 3, 'writtenandapproved': 3, 'act': 3, 'mix': 3, 'austria': 3, 'tracker': 3, 'broadcast': 3, 'whos': 3, 'aussies': 3, 'hats': 3, 'covi': 3, 'scenario': 3, 'acquired': 3, 'invite': 3, 'israels': 3, 'exercise': 3, '82': 3, 'cas': 3, 'fyi': 3, 'confirming': 3, 'granny': 3, 'wake': 3, 'wuhan': 3, 'inauguration': 3, 'advertising': 3, 'neutralise': 3, 'fold': 3, 'slots': 3, 'uplifting': 3, 'elicited': 3, 'sera': 3, 'class': 3, 'albania': 3, 'onpoli': 3, 'instructions': 3, 'places': 3, 'experiment': 3, 'condition': 3, 'tax': 3, 'vaccinationpart': 3, 'hubs': 3, 'salisbury': 3, 'hasn': 3, 'exacerbated': 3, 'patents': 3, 'trouble': 3, 'paying': 3, 'attention': 3, 'accelerating': 3, 'injuries': 3, 'communities': 3, 'goal': 3, 'alternative': 3, 'alex': 3, 'lunchtime': 3, 'abt': 3, 'loses': 3, 'cares': 3, 'mouth': 3, 'hasnt': 3, 'dare': 3, 'tackling': 3, 'op': 3, 'southafrican': 3, '501yv2': 3, 'chipped': 3, 'tongue': 3, 'resign': 3, 'export': 3, 'moh': 3, 'incidence': 3, 'remarkable': 3, '76': 3, 'thekhybermail': 3, 'effe': 3, 'malaise': 3, 'mission': 3, 'prof': 3, 'confused': 3, 'investing': 3, 'contents': 3, 'ta': 3, 'australians': 3, 'mixing': 3, 'touch': 3, 'participating': 3, 'disinformation': 3, 'alhamdulillah': 3, 'promotes': 3, 'lord': 3, 'vaccineswoes': 3, 'rubbish': 3, '15bn': 3, 'parking': 3, 'staffed': 3, 'convention': 3, 'viraleze': 3, 'nasal': 3, 'spray': 3, 'starpharma': 3, 'centenary': 3, 'jnj': 3, 'trading': 3, 'load': 3, 'solid': 3, 'eagerly': 3, 'sunny': 3, 'placed': 3, 'thr': 3, 'sharply': 3, 'illness': 3, 'calculated': 3, 'continued': 3, 'delivers': 3, 'muhyiddinyassin': 3, 'returned': 3, 'tracked': 3, 'seoul': 3, '312': 3, '390': 3, 'sovereign': 3, 'taiwan': 3, 'reductions': 3, 'noticed': 3, 'society': 3, 'walked': 3, 'hospitalisations': 3, '19vaccinereport': 3, 'grantee': 3, 'involving': 3, 'haircut': 3, 'combo': 3, 'ouchie': 3, 'pains': 3, 'partners': 3, 'pivotal': 3, 'astrazeneka': 3, 'coronavirusvaccines': 3, 'whatever': 3, '2nddose': 3, 'rwanda': 3, 'adults': 3, 'device': 3, 'dvt': 3, 'demands': 3, 'putin': 3, '03': 3, 'bloodclot': 3, 'impftote': 3, 'grundrechte': 3, 'esreicht': 3, '404': 3, 'vaccineforall': 3, 'flaw': 3, 'vaccinationdone': 3, 'son': 3, 'groggy': 3, 'apr': 3, 'powerfully': 3, 'sports': 3, 'vaxzevria': 3, '2fightcorona': 3, 'kati': 3, '213': 3, '822': 3, 'nstsports': 3, 'storm': 2, 'ev': 2, 'senator': 2, 'ethically': 2, 'election': 2, 'globalgoals': 2, '425': 2, 'immunitypassports': 2, 'expensive': 2, 'refuses': 2, 'shocker': 2, 'tol': 2, 'poss': 2, 'wash': 2, 'distant': 2, 'stayathome': 2, 'stayathomesavelives': 2, 'apprentice': 2, 'transporting': 2, 'ladies': 2, 'gentlemen': 2, 'caregivers': 2, 'tragedy': 2, 'intend': 2, 'inbox': 2, 'becoming': 2, 'qp': 2, 'hansard': 2, 'physician': 2, 'capture': 2, 'finger': 2, 'thumping': 2, 'hallo': 2, 'verb': 2, 'anand': 2, 'faa': 2, 'pilots': 2, 'toole': 2, 'picked': 2, 'critic': 2, 'ears': 2, 'embedded': 2, '225': 2, 'orangecounty': 2, 'michelle': 2, 'momentous': 2, 'liable': 2, 'employee': 2, 'industrial': 2, 'iv': 2, 'dropping': 2, 'fdx': 2, 'maimonides': 2, 'coworkers': 2, 'develope': 2, 'selected': 2, 'lee': 2, 'lipids': 2, 'lipid': 2, 'xmas': 2, 'votes': 2, 'immunized': 2, 'tackle': 2, 'bn': 2, 'donaldtrump': 2, 'mil': 2, 'pennsylvania': 2, 'apt': 2, 'hacking': 2, 'ip': 2, 'agencies': 2, 'urgently': 2, 'donald': 2, 'mike': 2, 'hacked': 2, 'near': 2, 'innoculation': 2, 'biotechs': 2, 'supported': 2, 'escorted': 2, 'ccpvirus': 2, 'acuitas': 2, 'pulled': 2, 'positivity': 2, 'toxic': 2, 'changer': 2, 'loading': 2, '637': 2, 'rea': 2, 'holidays': 2, 'employer': 2, 'collaborate': 2, 'thanked': 2, 'scienti': 2, 'alexion': 2, 'hatched': 2, 'entitled': 2, 'financial': 2, 'aviation': 2, 'dyk': 2, 'sample': 2, 'takers': 2, 'handling': 2, 'requirements': 2, 'mandated': 2, 'teach': 2, 'causes': 2, 'resource': 2, 'oklahoma': 2, 'interact': 2, 'license': 2, 'becau': 2, 'repeat': 2, 'staying': 2, 'washing': 2, 'holiday': 2, 'als': 2, 'md': 2, 'distanced': 2, 'donate': 2, 'lebanons': 2, 'suppl': 2, 'surgeries': 2, 'introduced': 2, 'epidemiologist': 2, '2022': 2, 'dibs': 2, 'silly': 2, 'juice': 2, 'loose': 2, 'possibility': 2, 'academic': 2, 'concept': 2, 'neg': 2, 'removed': 2, 'digital': 2, 'polish': 2, 'advanced': 2, 'vision': 2, 'hates': 2, 'sheppey': 2, 'whoever': 2, 'bro': 2, 'unsafe': 2, 'auspol': 2, 'lev': 2, 'radin': 2, 'refused': 2, 'becky': 2, 'bottom': 2, 'producers': 2, 'participated': 2, 'emergen': 2, 'nevertheless': 2, 'hos': 2, 'everyones': 2, 'apple': 2, 'saddest': 2, 'getti': 2, 'guam': 2, 'coronavirusde': 2, 'broke': 2, 'darkwinter': 2, 'licking': 2, 'wasting': 2, 'ethnicity': 2, '59': 2, 'maths': 2, 'locality': 2, 'observation': 2, 'riyadh': 2, 'pf': 2, 'highlight': 2, 'euleaders': 2, 'damaging': 2, 'thetories': 2, 'ft': 2, 'subjects': 2, 'egg': 2, 'presidentelectjoebiden': 2, 'vera': 2, 'generation': 2, 'touching': 2, 'tanks': 2, 'rid': 2, 'inform': 2, 'yourselves': 2, '137': 2, 'domestic': 2, 'indiablooms': 2, 'scamdemic': 2, 'auntie': 2, 'shrewsbury': 2, 'bite': 2, 'ide': 2, 'finding': 2, 'greatest': 2, 'hundreds': 2, 'checks': 2, 'terrible': 2, 'jason': 2, 'dark': 2, 'caution': 2, '140': 2, 'helen': 2, 'pauses': 2, 'ri': 2, 'presents': 2, 'unique': 2, 'merrychristmas': 2, 'rats': 2, 'pseudoepidemic': 2, 'scientificdictatorship': 2, 'funny': 2, 'perform': 2, 'activities': 2, 'dirty': 2, 'russias': 2, '49': 2, 'vaccinehesitancy': 2, 'broken': 2, 'repeated': 2, 'cloud': 2, 'roof': 2, 'derbyshire': 2, 'incompetence': 2, 'button': 2, 'doors': 2, 'unwanted': 2, 'maintain': 2, 'theorists': 2, 'silver': 2, 'erection': 2, 'finishing': 2, 'developers': 2, 'pediatric': 2, 'ii': 2, 'veteran': 2, 'affairs': 2, 'slated': 2, '350': 2, 'belgian': 2, 'prices': 2, 'confirmation': 2, 'svte': 2, 'refrigerated': 2, 'vehicles': 2, 'recomme': 2, 'oops': 2, 'systems': 2, 'theyve': 2, 'shane': 2, 'proudtobebritish': 2, 'britishcitizen': 2, 'dryice': 2, 'spe': 2, 'leyen': 2, 'transports': 2, 'bntx': 2, 'quicker': 2, 'modi': 2, 'ge': 2, 'mice': 2, 'sets': 2, '700': 2, 'bear': 2, '160': 2, 'valley': 2, 'disastrous': 2, 'mor': 2, 'committees': 2, 'robin': 2, 'translate': 2, 'deliberately': 2, 'ignored': 2, 'ensuring': 2, '56': 2, 'primer': 2, 'stories': 2, 'town': 2, 'videos': 2, 'sm': 2, 'comparable': 2, 'confusion': 2, 'damn': 2, 'reacts': 2, 'ibelievescience': 2, 'rollupyoursleeve': 2, 'expats': 2, 'revise': 2, 'healthcanada': 2, 'vp': 2, 'sides': 2, 'column': 2, 'ankara': 2, 'oclock': 2, 'stickittocovid': 2, 'rvh': 2, 'anchorage': 2, 'ursulavonderleyen': 2, 'ed': 2, '70s': 2, 'deena': 2, 'hinshaw': 2, 'takethevaccine': 2, 'sue': 2, 'suite': 2, 'pres': 2, 'conducted': 2, 'happens': 2, 'animal': 2, 'handful': 2, 'matters': 2, 'dancing': 2, 'song': 2, 'polyethyleneglycol': 2, 'delaware': 2, 'immigrants': 2, 'biceps': 2, 'woo': 2, 'fly': 2, 'covidtesting': 2, 'uh': 2, 'newbrunswick': 2, 'complicated': 2, 'feat': 2, 'relevant': 2, 'beca': 2, 'ecstatic': 2, 'sci': 2, 'wrap': 2, 'gamaleya': 2, 'grew': 2, 'agenda': 2, 'widespread': 2, 'somehow': 2, 'pix': 2, 'preparation': 2, 'meetings': 2, 'induce': 2, 'clearance': 2, 'hurdle': 2, 'hospita': 2, 'drew': 2, 'notthrowingawaymyshot': 2, 'macron': 2, 'tria': 2, 'nt': 2, 'complaints': 2, '24hourcheck': 2, 'expire': 2, 'decisions': 2, 'faint': 2, 'shed': 2, 'perfectly': 2, 'delt': 2, 'breakthrough': 2, 'yper': 2, 'losing': 2, 'viagra': 2, 'bolsonaro': 2, 'tolerating': 2, 'wicks': 2, 'awful': 2, 'mercy': 2, 'unethical': 2, 'ce': 2, 'upon': 2, 'benefits': 2, 'merry': 2, 'christmasday': 2, 'prepares': 2, 'compound': 2, 'southamerica': 2, 'overall': 2, 'pediatrician': 2, 'hesitancy': 2, 'nurs': 2, 'pri': 2, 'puts': 2, 'reserving': 2, 'defense': 2, '10k': 2, 'dis': 2, 'drfauci': 2, 'principal': 2, 'unveils': 2, 'kenya': 2, 'corruption': 2, 'deployment': 2, 'negotiation': 2, 'blackmail': 2, 'vacuna': 2, 'flights': 2, 'favourite': 2, 'skycargo': 2, 'challenging': 2, 'gold': 2, 'jacintha': 2, 'mohammed': 2, 'technologies': 2, 'healt': 2, 'vape': 2, 'factcheck': 2, 'lidwin': 2, 'glands': 2, 'crappy': 2, 'ibuprofen': 2, 'impromptu': 2, 'congrats': 2, 'guarantee': 2, 'voted': 2, 'vacation': 2, 'print': 2, 'expands': 2, 'rising': 2, 'tier': 2, 'eager': 2, 'drama': 2, '052': 2, 'flexible': 2, 'gsk': 2, 'trend': 2, '100s': 2, 'weapon': 2, 'peninsula': 2, 'adds': 2, 'scarborough': 2, 'buys': 2, 'setting': 2, 'compares': 2, 'rolls': 2, 'pi': 2, 'investigate': 2, 'negotiate': 2, 'gained': 2, 'cherokee': 2, 'invites': 2, 'happiest': 2, 'brooklyn': 2, '044': 2, 'eucountries': 2, 'whove': 2, 'cha': 2, 'translated': 2, 'taxpayer': 2, 'deve': 2, 'jail': 2, '60s': 2, 'gr': 2, 'voluntary': 2, 'blog': 2, 'citing': 2, 'elected': 2, 'invented': 2, '108': 2, 'rct': 2, 'ranks': 2, 'pleasure': 2, 'wer': 2, 'nears': 2, 'bull': 2, 'grocery': 2, 'aus': 2, 'aifa': 2, 'foll': 2, 'task': 2, 'ease': 2, 'sat': 2, 'cup': 2, 'lik': 2, 'onl': 2, 'network': 2, 'northtyneside': 2, 'fainted': 2, 'bombhaat': 2, 'campaigns': 2, 'mimic': 2, 'executive': 2, 'absence': 2, 'television': 2, 'band': 2, 'christianacare': 2, 'minds': 2, 'practitioner': 2, '120': 2, 'evolution': 2, 'br': 2, 'influencers': 2, 'dick': 2, 'mycovidvax': 2, 'crossed': 2, 'urged': 2, 'owe': 2, 'mildarmsoreness': 2, 'signingofffornow': 2, 'raising': 2, 'qatarnews': 2, 'les': 2, 'healthca': 2, 'holocaust': 2, 'watchdog': 2, 'moore': 2, 'immunology': 2, 'appro': 2, 'pathetic': 2, 'william': 2, 'shakespeare': 2, 'mas': 2, 'boxing': 2, 'gavi': 2, 'requesting': 2, 'reply': 2, 'allergicreactions': 2, 'tony': 2, 'curb': 2, 'nerds': 2, 'shouldn': 2, 'word': 2, 'finland': 2, 'wishing': 2, 'bloc': 2, 'seizures': 2, 'heavily': 2, 'germans': 2, 'cover': 2, 'che': 2, 'constantly': 2, 'cardiac': 2, 'wemakepeoplebetter': 2, 'wuhanviruspandemic': 2, 'assurance': 2, 'prophecy': 2, 'commenced': 2, 'journ': 2, 'shoulders': 2, 'molecular': 2, 'prioritized': 2, 'aids': 2, 'measles': 2, '70c': 2, 'c19': 2, 'sai': 2, 'design': 2, 'nonetheless': 2, 'emotions': 2, 'globe': 2, 'exact': 2, 'flexibility': 2, 'ml': 2, 'annie': 2, 'lynch': 2, 'liberties': 2, 'prayers': 2, 'mers': 2, '79': 2, 'ways': 2, 'weak': 2, 'performance': 2, 'achieve': 2, 'margaret': 2, 'keenan': 2, 'accusing': 2, 'pigs': 2, 'emirate': 2, 'overdose': 2, 'coronavirusupdate': 2, '850': 2, 'athens': 2, 'plandemic': 2, 'oms': 2, 'justice': 2, 'chairman': 2, 'scenes': 2, 'chadox': 2, 'institute': 2, 'quiet': 2, 'matthew': 2, 'rejection': 2, 'dearest': 2, 'restrictions': 2, 'paralysis': 2, 'combined': 2, 'matt': 2, 'cheaper': 2, 'permit': 2, 'ramers': 2, 'importantly': 2, 'needing': 2, 'californian': 2, 'inthistogether': 2, 'rol': 2, 'alarming': 2, 'comments': 2, 'specialist': 2, 'nightmare': 2, 'bus': 2, '46': 2, 'po': 2, 'cancelling': 2, 'attend': 2, 'happynewyear': 2, 'database': 2, 'fuckcovid': 2, 'description': 2, 'manage': 2, 'anecdotal': 2, 'sticking': 2, 'hosp': 2, 'tehn': 2, 'dat': 2, 'madness': 2, 'poll': 2, 'invest': 2, 'shocked': 2, 'haste': 2, 'migraine': 2, 'dutch': 2, 'wha': 2, 'obviously': 2, 'infrastructure': 2, 'amaz': 2, 'fastest': 2, 'email': 2, 'attempt': 2, 'fall': 2, 'worl': 2, 'contrary': 2, 'execution': 2, 'nose': 2, 'upset': 2, 'postponement': 2, 'massachusetts': 2, 'mgh': 2, '12wks': 2, 'rescheduling': 2, 'comp': 2, 'nobel': 2, 'minded': 2, 'deployed': 2, 'virologist': 2, 'college': 2, 'eul': 2, 'nod': 2, 'org': 2, 'srilanka': 2, 'surge': 2, 'papers': 2, 'domain': 2, 'faced': 2, 'carefully': 2, 'returning': 2, 'thin': 2, 'stat': 2, 'privately': 2, 'entered': 2, 'populous': 2, 'sound': 2, 'backache': 2, 'toes': 2, 'claimed': 2, 'bharat': 2, 'marr': 2, 'lesson': 2, 'referring': 2, 'onto': 2, 'rece': 2, 'recei': 2, 'expe': 2, '202': 2, 'challenged': 2, 'requiring': 2, 'demonstrate': 2, 'alre': 2, 'trail': 2, 'remembering': 2, 'financed': 2, 'maskssavelives': 2, 'nottodayrona': 2, 'impression': 2, 'dur': 2, 'advises': 2, 'brought': 2, 'ol': 2, 'microchipped': 2, 'itu': 2, 'uncertainty': 2, 'emotion': 2, 'detail': 2, 'fatality': 2, 'exposed': 2, '15mins': 2, 'clarification': 2, 'porto': 2, 'practiced': 2, 'damage': 2, 'collapsed': 2, 'chi': 2, 'maker': 2, 'henry': 2, 'willing': 2, 'tolerable': 2, 'sec': 2, 'window': 2, 'stress': 2, 'retrumplicans': 2, 'relatives': 2, 'underlying': 2, 'hundred': 2, 'speedy': 2, 'receipt': 2, 'anxiously': 2, 'appropriate': 2, 'wanting': 2, 'anxious': 2, 'gove': 2, 'congress': 2, 'fatigued': 2, 'route': 2, 'tbh': 2, 'mile': 2, 'congressman': 2, 'boosted': 2, 'infirmary': 2, 'despi': 2, 'mode': 2, 'ohio': 2, 'peervaccinators': 2, 'deadly': 2, 'globally': 2, 'lawyer': 2, 'clinician': 2, 'myalgia': 2, 'admissions': 2, 'rxn': 2, 'nasn': 2, 'implementation': 2, 'implications': 2, 'wiltshire': 2, 'halal': 2, 'ten': 2, 'examined': 2, 'placement': 2, 'massi': 2, 'honour': 2, 'gratefulness': 2, 'obstetrician': 2, 'strangers': 2, 'curr': 2, 'immortal': 2, 'internal': 2, 'herotogether': 2, 'installment': 2, 'vechain': 2, 'crypto': 2, 'kicks': 2, 'australias': 2, 'heavy': 2, 'bournemouth': 2, 'novax': 2, 'vaccini': 2, 'needless': 2, 'adhering': 2, 'nuts': 2, 'hazardous': 2, 'astrazenecas': 2, 'expanding': 2, 'choosing': 2, 'flattenthecurve': 2, 'grandmother': 2, 'inter': 2, 'sufficiently': 2, 'drugmaker': 2, 'advocating': 2, '6hrs': 2, 'neck': 2, 'gracious': 2, 'pride': 2, 'unexpectedly': 2, 'rejected': 2, 'muscles': 2, 'relations': 2, 'illustration': 2, 'progr': 2, 'nee': 2, 'spocks': 2, 'ist': 2, 'logic': 2, 'vacina': 2, 'interestingly': 2, 'stands': 2, 'iranian': 2, 'windsor': 2, 'seventh': 2, 'refer': 2, 'ke': 2, 'hitting': 2, 'vitro': 2, 'elicits': 2, 'ranging': 2, 'incase': 2, 'virology': 2, 'crew': 2, 'professionalism': 2, 'search': 2, 'prolonged': 2, 'peppe': 2, 'stopcovid': 2, 'apply': 2, 'withholding': 2, 'onwards': 2, 'commence': 2, 'affects': 2, 'dictaturesanitaire': 2, 'cronies': 2, 'entirely': 2, 'horizon': 2, 'strict': 2, 'microc': 2, 'genes': 2, 'cumulative': 2, 'dkpol': 2, 'caroline': 2, 'participate': 2, 'immunologist': 2, 'expertise': 2, 'lasted': 2, 'mammoth': 2, 'shielding': 2, 'criticism': 2, 'admit': 2, 'tylenol': 2, '2days': 2, 'rescheduled': 2, '18th': 2, 'bonniehenry': 2, 'miles': 2, 'trails': 2, 'vaxxie': 2, 'ja': 2, 'customers': 2, 'governance': 2, 'firs': 2, 'effici': 2, 'scarce': 2, 'immobile': 2, 'spirits': 2, 'depopulation': 2, 'dodge': 2, 'woefully': 2, 'arrangements': 2, 'sometimes': 2, 'hella': 2, 'shou': 2, 'knocked': 2, 'complex': 2, 'separate': 2, 'dedicated': 2, 'careers': 2, 'shocking': 2, 'software': 2, 'platform': 2, 'contracting': 2, 'thankfully': 2, 'tuned': 2, 'asthmatic': 2, 'gregory': 2, 'reside': 2, 'triumph': 2, 'euphoria': 2, '30th': 2, 'publ': 2, 'headline': 2, 'multiplesclerosis': 2, 'couples': 2, 'tr': 2, '67': 2, 'myth': 2, 'forthcoming': 2, 'nhsstaff': 2, 'monitoring': 2, 'hangover': 2, 'greece': 2, 'shitty': 2, 'vid': 2, 'reminds': 2, 'commitments': 2, 'unt': 2, 'hesitation': 2, 'severity': 2, 'technical': 2, 'dise': 2, 'suing': 2, '215': 2, 'interaction': 2, 'similarities': 2, 'context': 2, 'authorizations': 2, 'stockstobuy': 2, 'explains': 2, 'enjoy': 2, 'impossible': 2, 'fir': 2, 'rights': 2, 'bmj': 2, 'shy': 2, 'sup': 2, 'fee': 2, 'bank': 2, 'ie': 2, 'bullshitbingo': 2, 'bs': 2, 'fairy': 2, 'tales': 2, 'talke': 2, 'gain': 2, 'cited': 2, 'connection': 2, 'uni': 2, 'ba': 2, 'relating': 2, 'allegedly': 2, 'bakewell': 2, 'magic': 2, 'unnecessary': 2, 'crosses': 2, 'depends': 2, 'twenty': 2, 'mandate': 2, 'thei': 2, 'tourism': 2, '24h': 2, 'findings': 2, '860': 2, 'lungs': 2, 'ig': 2, 'certainty': 2, 'scary': 2, 'thursdaythoughts': 2, 'leak': 2, 'stolen': 2, 'philippine': 2, 'dude': 2, 'cyberattack': 2, 'student': 2, 'moon': 2, 'briefing': 2, 'prioritise': 2, 'serum': 2, 'numerous': 2, 'attempts': 2, 'gamble': 2, 'protectthenhs': 2, '19canada': 2, 'erdogan': 2, 'destined': 2, 'coronaimpfung': 2, 'diseases': 2, 'andalucia': 2, 'coivd': 2, 'humanlife': 2, 'faqs': 2, 'vaccineforindia': 2, 'servants': 2, 'teamvaccine': 2, 'blow': 2, 'decrease': 2, '664': 2, 'mainstream': 2, 'raw': 2, 'nonsense': 2, 'emails': 2, 'stayhomesavelives': 2, 'horrendous': 2, 'bleed': 2, 'slowdown': 2, 'scott': 2, 'increasing': 2, 'mental': 2, 'liverpool': 2, 'missourians': 2, 'anticipates': 2, 'idiots': 2, 'fatalities': 2, 'changes': 2, 'prominent': 2, 'phones': 2, 'explore': 2, 'spark': 2, 'ergotron': 2, 'vaccinationcart': 2, 'ear': 2, 'reliably': 2, 'skin': 2, 'warnings': 2, 'chill': 2, 'hcp': 2, 'ton': 2, 'relieve': 2, 'origin': 2, 'durham': 2, 'mths': 2, 'stuck': 2, 'devil': 2, 'silence': 2, 'humbling': 2, 'vaxxers': 2, 'elde': 2, 'slows': 2, 'bat': 2, 'headlines': 2, 'whatsappprivacy': 2, 'gdpr': 2, 'useconomy': 2, 'sleepiness': 2, 'covidshield': 2, 'maryland': 2, 'keen': 2, 'waited': 2, 'au': 2, '86': 2, 'overseas': 2, 'touched': 2, 'siamo': 2, '19ph': 2, 'tally': 2, 'stages': 2, 'survive': 2, 'leicester': 2, 'threatening': 2, 'enabled': 2, 'demonstrating': 2, 'brain': 2, 'barrier': 2, 'numb': 2, 'gee': 2, 'threat': 2, 'stimulus': 2, 'hmm': 2, 'aware': 2, 'survey': 2, 'r4today': 2, 'vaccinesafety': 2, 'confidenc': 2, 'frozen': 2, 'pure': 2, 'screwed': 2, 'disgrace': 2, 'racial': 2, 'ethnic': 2, 'minorities': 2, 'healthdisparities': 2, 'grate': 2, 'scient': 2, '87': 2, 'ver': 2, 'oil': 2, 'togetherwerecover': 2, 'wifi': 2, 'hotspot': 2, 'protectchicago': 2, 'administrated': 2, 'experi': 2, 'understandably': 2, 'castex': 2, 'teared': 2, 'focus': 2, 'tick': 2, 'lineage': 2, 'pseudovirus': 2, 'prolly': 2, 'revenge': 2, 'scheme': 2, 'income': 2, 'mutating': 2, 'efficacious': 2, 'bogus': 2, 'democratic': 2, 'pfucked': 2, 'dougford': 2, 'plane': 2, 'injecti': 2, 'calderdale': 2, 'vacinated': 2, 'nj': 2, 'justintrudeau': 2, 'reception': 2, 'jt': 2, 'breaks': 2, 'foil': 2, 'stunt': 2, 'indicates': 2, 'mortality': 2, 'transparency': 2, 'optimism': 2, 'undbimd': 2, 'selfish': 2, 'selling': 2, 'companys': 2, 'raise': 2, 'probl': 2, '501yv1': 2, 'reluctance': 2, 'shortages': 2, 'feelin': 2, 'theendisnear': 2, 'duggan': 2, 'clare': 2, 'sheer': 2, 'messed': 2, 'written': 2, 'officer': 2, 'tmrworld': 2, 'arse': 2, '40m': 2, 'prot': 2, 'responsibility': 2, 'keyworker': 2, 'fit': 2, 'lymphedema': 2, 'pdf': 2, 'bulgaria': 2, 'hou': 2, 'regardless': 2, 'alter': 2, 'annual': 2, 'agrees': 2, 'conflicting': 2, 'mid': 2, 'zahawi': 2, 'bought': 2, 'sh': 2, 'tur': 2, 'breast': 2, 'feeding': 2, 'talks': 2, 'gibraltar': 2, 'extract': 2, 'ads': 2, 'legit': 2, 'bestie': 2, 'spoken': 2, 'technically': 2, 'statistics': 2, 'genocide': 2, 'bothdoses': 2, 'compulsory': 2, 'uks': 2, 'whistleblower': 2, 'indictment': 2, 'address': 2, 'protests': 2, 'secret': 2, 'self': 2, 'mikael': 2, 'dolsten': 2, 'lund': 2, 'ser': 2, '61': 2, 'micro': 2, 'compromise': 2, 'cbc': 2, 'shouldnt': 2, 'med': 2, 'normally': 2, 'drove': 2, 'amazi': 2, 'clinicaltrial': 2, '44': 2, 'b1351': 2, 'cev': 2, 'clever': 2, 'ukgov': 2, '22nd': 2, 'adult': 2, 'hamad': 2, '1stdose': 2, 'skip': 2, 'changi': 2, 'flies': 2, 'rely': 2, 'sport': 2, 'ignorant': 2, 'safrica': 2, 'marburg': 2, '65s': 2, 'vaccinenationalism': 2, 'concerted': 2, 'tower': 2, 'babel': 2, 'voices': 2, 'labs': 2, 'hostage': 2, 'space': 2, 'decides': 2, 'avance': 2, 'settlements': 2, 'fraud': 2, 'bets': 2, 'miserable': 2, 'vaxxer': 2, 'season': 2, 'uri': 2, 'formulas': 2, 'milk': 2, 'fire': 2, 'vaccinato': 2, 'welcomes': 2, 'continually': 2, 'donut': 2, 'phizer': 2, 'palestinian': 2, 'efficac': 2, 'plague': 2, 'pubs': 2, 'stressed': 2, 'balance': 2, 'preprint': 2, 'decade': 2, 'cycle': 2, 'ranp': 2, 'brenda': 2, 'corcoran': 2, 'c4news': 2, 'getthevaccine': 2, 'subject': 2, 'slept': 2, '6km': 2, '7mi': 2, 'microchips': 2, 'onboard': 2, 'passport': 2, 'addenbrookes': 2, 'rejects': 2, 'nonagenarian': 2, 'grant': 2, 'digest': 2, 'marked': 2, '1273': 2, 'raf': 2, 'ach': 2, 'reducing': 2, '53': 2, 'chosen': 2, 'a4': 2, '30s': 2, 'monograph': 2, 'somebody': 2, 'irl': 2, 'hotel': 2, 'preference': 2, 'assistance': 2, 'villateam': 2, 'seeds': 2, 'rainy': 2, 'wef': 2, 'davos': 2, 'smart': 2, 'valentinesdaygift': 2, 'unlicensed': 2, 'blue': 2, 'freely': 2, 'rat': 2, 'valentine': 2, 'mama': 2, 'sciences': 2, 'betthehouse': 2, 'serbia': 2, 'sharjah': 2, 'craddock': 2, 'dolores': 2, 'cahill': 2, 'secrecy': 2, 'journalist': 2, 'deeply': 2, 'sought': 2, 'algorithms': 2, 'potency': 2, 'sout': 2, 'category': 2, 'cbrn': 2, 'johnsonjohnson': 2, 'modified': 2, 'transmitting': 2, 'differentiate': 2, 'pull': 2, 'sickness': 2, 'electricity': 2, 'dhpsp': 2, 'luke': 2, 'neill': 2, 'regular': 2, 'educators': 2, 'humanrights': 2, 'vaccinesforall': 2, '9vacccine': 2, 'compete': 2, 'connecting': 2, 'improving': 2, 'ocd': 2, 'gut': 2, 'covids': 2, 'ti': 2, 'industrie': 2, 'thailand': 2, 'deserve': 2, 'deux': 2, 'prev': 2, 'stab': 2, 'kuala': 2, 'boots': 2, 'fourth': 2, 'episode': 2, 'hea': 2, 'envy': 2, 'foamed': 2, 'unexpected': 2, 'adopt': 2, 'indvend': 2, 'muhyiddin': 2, 'yassin': 2, 'private': 2, 'zlem': 2, 'healths': 2, 'kelantan': 2, 'eating': 2, 'normalcy': 2, 'minus': 2, 'revisit': 2, 'cough': 2, 'usfda': 2, '1b': 2, 'leap': 2, 'fridaymotivation': 2, 'fucking': 2, 'kidding': 2, 'triggered': 2, 'monitor': 2, 'variantsofconcern': 2, 'gun': 2, 'vaccinateteachers': 2, 'cuomo': 2, 'controlling': 2, 'kwe': 2, 'spring': 2, 'behavior': 2, '585': 2, '19bc': 2, 'reac': 2, 'tga': 2, 'gravitas': 2, 'abusive': 2, 'mclellan': 2, 'physicians': 2, 'astrazenenca': 2, 'allocated': 2, 'covaxfacility': 2, 'professionally': 2, 'merck': 2, '23rd': 2, 'gettheshot': 2, 'grat': 2, 'cutting': 2, 'nasty': 2, 'successtrain': 2, 'firstdosedone': 2, 'mam': 2, '102': 2, '960': 2, 'solidarity': 2, 'insurance': 2, 'spouse': 2, 'teen': 2, 'regulations': 2, 'neat': 2, 'ecg': 2, 'dcvaccine': 2, 'paula': 2, 'intense': 2, 'doze': 2, 'doz': 2, 'beloved': 2, 'danish': 2, '74': 2, 'vacunacovid': 2, 'tun': 2, 'hole': 2, 'brazilvariant': 2, 'combat': 2, '64900': 2, 'tag': 2, 'qld': 2, 'fuckyoucovid': 2, 'margam': 2, 'hardly': 2, 'cedarsatstlouispark': 2, 'committed': 2, 'knocking': 2, 'coronavaccin': 2, 'johnsonandjohnsonvaccine': 2, 'vacunas': 2, 'fitness': 2, 'carry': 2, 'pin': 2, 'wtf': 2, 'arises': 2, 'dollar': 2, 'lymph': 2, 'nodes': 2, 'stoked': 2, 'inhabitants': 2, 'elders': 2, 'lifted': 2, 'philadelphia': 2, 'tiredness': 2, 'impfschden': 2, 'cdukorruption': 2, '913': 2, 'perak': 2, 'stole': 2, 'cvs': 2, 'precaution': 2, 'paracetamol': 2, 'bintulu': 2, 'biontechpfizer': 2, 'effec': 2, 'dept': 2, 'fans': 2, 'bri': 2, 'inventor': 2, 'joseph': 2, 'luck': 2, 'rappcoop': 2, '20marzo': 2, 'rapportocoop': 2, 'hktwittergetsvaxxed': 2, 'drs': 2, 'suspension': 2, 'felizmiercoles': 2, 'suspends': 2, 'bein': 2, 'kinder': 2, 'walgreens': 2, 'vancouver': 2, 'ger': 2, 'notes': 2, 'purchased': 2, 'assess': 2, 'koca': 2, 'drink': 2, 'infecti': 2, 'und': 2, 'demonstrated': 2, 'pass': 2, 'rewarding': 2, 'dudes': 2, '4c': 2, 'taste': 2, 'showcase': 2, 'sti': 2, 'specifically': 2, 'chinas': 2, 'tech': 2, '77': 2, 'punishment': 2, 'iraq': 2, 'katikariko': 2, '50s': 2, 'shield': 2, 'rmy': 2, 'pfizercolleague': 2, 'hk': 2, 'crucial': 2, 'brandname': 2, 'cured': 2, 'founders': 2, '93': 2, 'pub': 2, 'athletes': 2, 'daikon': 1, 'paste': 1, 'cytokine': 1, 'immutable': 1, 'sturdy': 1, 'whereareallthesickpeople': 1, 'fame': 1, 'patriotic': 1, 'competition': 1, 'bidenharris': 1, 'closing': 1, 'nytimes': 1, 'wishes': 1, '145': 1, 'offic': 1, 'yellowfever': 1, '201': 1, '221': 1, 'rake': 1, 'lowe': 1, 'presenting': 1, 'advancement': 1, 'docnosofficial': 1, 'dream': 1, 'supplychain': 1, 'sharedvisibility': 1, 'belong': 1, 'tables': 1, 'penny': 1, 'capetown': 1, 'poisons': 1, 'bellspalsy': 1, 'flocking': 1, 'dairy': 1, 'dumbsville': 1, 'donthecon': 1, 'grifterinchief': 1, 'trumpforprison': 1, 'trumpcrimefamily': 1, 'pick': 1, 'questioned': 1, 'footage': 1, 'oregon': 1, 'morningsonthedove': 1, '6am': 1, '9am': 1, 'det': 1, 'bec': 1, 'recap': 1, 'teamsters': 1, 'unboxing': 1, 'sterilization': 1, 'crimesagainsthumanity': 1, 'crushcovid': 1, 'shutting': 1, 'coverup': 1, 'missouris': 1, 'sandra': 1, 'lindsay': 1, 'screenshot': 1, 'aggro': 1, 'pointing': 1, 'unroll': 1, 'guidel': 1, 'odd': 1, 'ontarian': 1, 'ozlemtureci': 1, 'immunosuppressed': 1, 'erin': 1, 'pioneers': 1, 'griftertrump': 1, 'klan': 1, 'daft': 1, 'jagmeet': 1, 'therein': 1, 'anitaquidangen': 1, 'remained': 1, '25k': 1, 'legacy': 1, 'ruh': 1, 'roh': 1, 'kfdms': 1, '4s': 1, 'baptist': 1, 'receivers': 1, 'pcrgate': 1, 'condemic': 1, 'billgatesisnotadoctor': 1, 'johnsonandtoxin': 1, 'vaccinesarepoison': 1, 'torn': 1, 'ish': 1, 'boardroom': 1, 'coldchain': 1, 'cre': 1, 'welcomed': 1, 'upmc': 1, 'pitt': 1, 'ships': 1, 'nine': 1, 'immunocompromising': 1, 'graveling': 1, '290k': 1, 'appreciate': 1, '13th': 1, 'involvement': 1, 'tuna': 1, 'fish': 1, 'container': 1, 'seafood': 1, 'evenings': 1, 'dist': 1, 'ports': 1, 'hsien': 1, 'loong': 1, 'nanoparticle': 1, 'decemb': 1, '306': 1, 'shropsh': 1, 'distributions': 1, 'electoralcollege': 1, 'formally': 1, 'casts': 1, 'detroitlions': 1, 'los': 1, 'virusvaccine': 1, 'slaoui': 1, 'bra': 1, 'emergencyauthorization': 1, 'mikepence': 1, 'politico': 1, 'hahn': 1, 'distribut': 1, 'assuage': 1, 'twain': 1, 'cozybear': 1, 'suspected': 1, 'treas': 1, 'ghana': 1, 'liarinchief': 1, 'anaph': 1, 'ustreasury': 1, 'whol': 1, 'nowhere': 1, 'premature': 1, 'harharmahadev': 1, 'mt': 1, 'determined': 1, 'ackno': 1, 'qui': 1, 'heavens': 1, 'dummy': 1, 'pademics': 1, 'slither': 1, 'alr': 1, 'publicity': 1, '417': 1, 'unitedstatesthe': 1, '575': 1, '279': 1, '805': 1, 'whitehouse': 1, 'administrati': 1, 'tampa': 1, 'kathy': 1, 'lofy': 1, 'shell': 1, 'redfield': 1, 'boxes': 1, 'thesundayshow': 1, 'pioneered': 1, 'celebrates': 1, 'mus': 1, 'mega': 1, 'marshals': 1, 'hijacking': 1, 'airborne': 1, 'memphis': 1, 'a306': 1, 'n669fe': 1, 'trumpkins': 1, 'ubc': 1, 'cautioning': 1, 'loaded': 1, 'warehouse': 1, 'gods': 1, 'forw': 1, 'eng': 1, 'hopenews': 1, 'inje': 1, 'scienceovermorons': 1, 'rival': 1, 'administra': 1, 'oxfordstrazeneca': 1, 'applicat': 1, 'sam': 1, 'comin': 1, 'msnbc': 1, '611': 1, 'struggling': 1, 'core': 1, 'offi': 1, 'pucking': 1, 'wht': 1, 'arogya': 1, 'discovering': 1, 'packaged': 1, 'advisors': 1, 'tapped': 1, 'payments': 1, 'dumass': 1, 'kalingatv': 1, 'bleach': 1, 'scie': 1, 'salute': 1, 'risking': 1, 'proving': 1, 'constraints': 1, 'hardest': 1, 'evolv': 1, 'infographics': 1, 'ideas': 1, 'prepped': 1, 'wall': 1, 'refresher': 1, 'interests': 1, 'cv19': 1, 'compensation': 1, 'bigmac': 1, 'splash': 1, 'embrace': 1, 'reconstitute': 1, 'shawn': 1, 'twitterpoll': 1, 'shorter': 1, 'alright': 1, 'showcased': 1, 'birth': 1, 'suppressant': 1, 'booklet': 1, 'anthrax': 1, '35k': 1, 'soldiers': 1, 'maimed': 1, 'trigger': 1, 'triggers': 1, 'mir': 1, 'supplier': 1, 'fosun': 1, 'payment': 1, '125': 1, 'scepticism': 1, 'mobilization': 1, 'chatter': 1, 'hannah': 1, 'integri': 1, 'patie': 1, '881': 1, 'nucleus': 1, 'pressuring': 1, 'boston': 1, 'prepping': 1, 'dengvaxia': 1, 'jeopardized': 1, 'avoiding': 1, 'crowds': 1, 'liberals': 1, 'bureaucrats': 1, 'possi': 1, 'applause': 1, 'susannah': 1, 'thompson': 1, 'firstvaccineshots': 1, 'builds': 1, 'dire': 1, 'anesthesia': 1, '19days': 1, 'thead': 1, 'nevada': 1, 'houweling': 1, 'umc': 1, 'notwastingmyshot': 1, 'charleston': 1, 'wythenshawe': 1, 'southmanchester': 1, 'deliverin': 1, 'carries': 1, 'westvirginia': 1, 'wvu': 1, '168': 1, 'vaccinegenocide': 1, 'grossly': 1, 'unfair': 1, 'cleared': 1, 'shelves': 1, 'lieslieslies': 1, 'affiliated': 1, 'trumpublican': 1, 'trek': 1, 'identi': 1, 'drdavidnabarro': 1, 'worcestershire': 1, 'valid': 1, 'identif': 1, 'chsnews': 1, 'declared': 1, 'communicate': 1, 'gop': 1, 'despise': 1, 'secretspreader': 1, 'tbd': 1, 'publication': 1, 'assessment': 1, 'decem': 1, 'mygp': 1, 'englands': 1, 'verification': 1, 'feature': 1, 'smartphones': 1, 'newyorkcity': 1, 'taxi': 1, 'driver': 1, 'gentleman': 1, 'calhoun': 1, 'diaperdonnie': 1, 'segment': 1, 'obta': 1, 'teamuhn': 1, 'dance': 1, 'pandemicbegone': 1, 'conclude': 1, 'bumped': 1, 'insisting': 1, 'wors': 1, 'isle': 1, 'ummmm': 1, 'latino': 1, 'praising': 1, 'credi': 1, 'bravo': 1, 'dedication': 1, 'poured': 1, 'coz': 1, 'liked': 1, 'celebrity': 1, 'cook': 1, 'presenter': 1, 'oxfordshire': 1, 'suffice': 1, 'considerations': 1, 'pmlive': 1, 'antivaccine': 1, 'leicestershire': 1, 'migrants': 1, 'eg': 1, 'commun': 1, 'monda': 1, 'jennifer': 1, 'haller': 1, 'mann': 1, 'democracy': 1, 'constitution': 1, 'bhakts': 1, 'jewish': 1, 'wonderer': 1, 'indemnity': 1, 'governme': 1, 'cardiotwitter': 1, 'pande': 1, 'youtube': 1, 'raymond': 1, 'anesthesiologist': 1, 'george': 1, 'pinned': 1, 'isolation': 1, 'predict': 1, 'object': 1, 'infiltration': 1, 'certificates': 1, 'outbreaks': 1, 'models': 1, 'projections': 1, 'fraudnation': 1, 'lu': 1, 'packed': 1, 'allerg': 1, 'hashtags': 1, 'liner': 1, 'pvd': 1, 'ene': 1, 'sequencing': 1, 'rejecting': 1, '278': 1, 'childbearing': 1, 'flexing': 1, 'sonya': 1, 'harrell': 1, 'effin': 1, 'treasury': 1, 'bingham': 1, '640': 1, 'measu': 1, 'desperat': 1, 'nationality': 1, 'religion': 1, 'helmsdeep': 1, 'screening': 1, 'pictur': 1, 'waking': 1, 'allergens': 1, 'salt': 1, 'dipped': 1, '80c': 1, 'recovers': 1, 'osce': 1, 'fsc': 1, 'armscontrol': 1, 'cruising': 1, 'ksa': 1, 'theeuropeanunion': 1, 'comprised': 1, 'celebration': 1, 'madeineu': 1, 'madeineuropeanunion': 1, 'pizzeria': 1, 'damages': 1, 'pie': 1, 'poisoned': 1, '3thingstoknow': 1, '2m': 1, 'nex': 1, 'appreciated': 1, 'undithering': 1, 'chicken': 1, 'nuggets': 1, 'manages': 1, 'gett': 1, 'talented': 1, 'forcefully': 1, 'barred': 1, 'provokes': 1, 'restored': 1, 'reactio': 1, 'vacin': 1, 'jut': 1, 'battling': 1, 'rondesantis': 1, 'leip': 1, 'knox': 1, 'communistchina': 1, 'separat': 1, 'turne': 1, 'curiosity': 1, 'andinspiring': 1, 'iam': 1, 'marty': 1, 'carpenter': 1, 'jr': 1, 'afterwards': 1, 'nato': 1, 'wearenato': 1, 'jensstoltenberg': 1, 'guns': 1, 'tories': 1, 'torybritain': 1, 'toryparty': 1, 'complications': 1, 'awakening': 1, 'ummm': 1, 'natural': 1, 'selection': 1, 'identificati': 1, 'momimfamous': 1, 'somegoodnews': 1, 'thewoodlands': 1, 'cbcnews': 1, 'drugmakers': 1, 'attain': 1, 'becoime': 1, 'implore': 1, 'edmonton': 1, 'calgary': 1, 'genie': 1, 'hustle': 1, 'spies': 1, 'ellume': 1, 'mornin': 1, '64': 1, 'n95': 1, 'primarycare': 1, 'nhsengland': 1, 'wearadamnmask': 1, 'rcgp': 1, 'amazonprime': 1, 'seller': 1, 'costarica': 1, 'pratinidhi': 1, 'clue': 1, 'lineup': 1, 'audio': 1, 'tour': 1, 'refine': 1, 'syncytin': 1, 'swimmers': 1, 'kenney': 1, '897': 1, 'chapter': 1, 'medicin': 1, 'bolton': 1, 'civilian': 1, 'impfzentrum': 1, 'cordova': 1, 'subscribe': 1, 'costing': 1, '20billion': 1, '12months': 1, 'tree': 1, 'billionaire': 1, 'bend': 1, 'newnormal': 1, 'filthy': 1, 'grim': 1, 'owner': 1, 'bingo': 1, 'altruism': 1, '3150': 1, 'pfizerpoison': 1, 'interviewing': 1, 'drdineshsaralaya': 1, 'misconceptions': 1, '762': 1, 'hiccup': 1, 'screwup': 1, 'yaay': 1, 'witnes': 1, 'supervi': 1, 'daphne': 1, 'dye': 1, 'clacton': 1, 'unbearable': 1, 'ego': 1, 'culprit': 1, 'bakersfield': 1, 'dronfield': 1, 'draw': 1, 'badass': 1, 'teamhurley': 1, 'adventhealth': 1, 'scattered': 1, 'frontlinehero': 1, '60hrs': 1, 'fought': 1, 'rochester': 1, 'maralago': 1, 'keepingupwithralph': 1, 'fcovid': 1, 'dignityhealth': 1, 'californiahospitalmedicalcenter': 1, 'healer': 1, 'hilarious': 1, 'guzzling': 1, 'colloidal': 1, 'papa': 1, 'resillience': 1, 'visionary': 1, 'harm': 1, 'southlaketahoe': 1, 'asy': 1, 'pursue': 1, 'ard': 1, 'sleeveup': 1, 'getyours': 1, 'myshot': 1, 'stephens': 1, 'salutes': 1, 'veterans': 1, 'kessler': 1, 'womens': 1, 'westside': 1, 'melanatedandvaccinated': 1, 'carehomes': 1, 'accidentally': 1, 'publicises': 1, 'notification': 1, 'actively': 1, 'awaited': 1, 'trolling': 1, 'trumpslethalherdimmunityplan': 1, 'medtwitterph': 1, 'unpacked': 1, 'shopping': 1, 'mall': 1, 'crotty': 1, 'phd': 1, 'invoke': 1, 'intentional': 1, 'suff': 1, 'teammft': 1, 'healthcareworker': 1, 'reagan': 1, 'bronson': 1, 'ukpoliticians': 1, 'commodity': 1, 'primarily': 1, 'promot': 1, 'govuk': 1, '10downingstreet': 1, 'euphoric': 1, 'fooling': 1, 'cwmbran': 1, 'mast': 1, 'smoothly': 1, 'skift': 1, '318': 1, '581': 1, 'openly': 1, 'stalking': 1, 'histo': 1, 'elmhurst': 1, 'chinaexposed': 1, 'projecting': 1, 'runner': 1, 'darts': 1, 'bluetee': 1, 'structured': 1, 'ji': 1, 'monkeys': 1, 'eaten': 1, 'billy': 1, 'ham': 1, 'asthma': 1, 'sensor': 1, 'yii': 1, 'proc': 1, 'represent': 1, 'medicos': 1, 'ernurse': 1, 'ednurse': 1, 'pinoynurse': 1, 'naltar': 1, 'nvsv': 1, 'displays': 1, 'heightened': 1, 'propensity': 1, 'initiate': 1, 'orig': 1, 'gestapo': 1, 'tory': 1, 'tantrump': 1, 'fdaapproves': 1, 'piers': 1, 'abundance': 1, 'pausing': 1, 'condell': 1, 'customarily': 1, 'postoteound': 1, 'briefly': 1, 'oyibo': 1, 'oyokometer': 1, 'dey': 1, 'dudge': 1, 'dia': 1, 'comot': 1, 'coro': 1, 'wey': 1, 'bin': 1, 'canton': 1, 'bern': 1, 'alom': 1, 'bengali': 1, 'sylheti': 1, 'singh': 1, 'punjabi': 1, 'nisa': 1, 'aslam': 1, 'urdu': 1, 'communi': 1, 'ethnicities': 1, 'sexes': 1, 'prix': 1, 'sanofiglaxosmithkline': 1, 'rooted': 1, 'networks': 1, 'faucihero': 1, 'sweetness': 1, 'kickbacks': 1, 'companie': 1, 'ows': 1, 'stopthelies': 1, 'useless': 1, 'corruptgop': 1, 'aspirating': 1, 'inequity': 1, 'healthequity': 1, 'unclaime': 1, 'conspiracytheory': 1, 'rwjms': 1, '624': 1, '376': 1, 'luisa': 1, 'saudis': 1, 'paved': 1, 'prohibi': 1, 'noelle': 1, 'gears': 1, '212k': 1, 'additiona': 1, 'tweeted': 1, 'costs': 1, 'var': 1, 'usd': 1, 'glute': 1, 'submissions': 1, 'hc': 1, 'thepeoplesvaccine': 1, 'garage': 1, 'jam': 1, 'referencias': 1, 'retrieved': 1, 'fan': 1, 'insti': 1, 'exhausting': 1, 'heartbreaking': 1, 'u2': 1, 'album': 1, 'honors': 1, 'chertsey': 1, 'providence': 1, 'mongering': 1, 'agents': 1, 'fakenews': 1, 'poznansky': 1, 'tanking': 1, 'crash': 1, 'societ': 1, 'images': 1, 'managers': 1, 'suc': 1, 'englewoodhealth': 1, 'twoshotsinthearm': 1, 'expectancy': 1, 'belgi': 1, 'tiniest': 1, 'itssafe': 1, 'itseasy': 1, 'itdoesnthurt': 1, 'picurn': 1, 'hospitalist': 1, 'potus': 1, 'til': 1, 'slip': 1, 'iamnotthrowingawaymyshot': 1, 'treated': 1, 'accessible': 1, 'affordable': 1, 'singer': 1, 'lizzos': 1, 'goodashell': 1, 'mauricette': 1, 'managing': 1, 'expectations': 1, 'paramount': 1, 'combating': 1, 'suspec': 1, 'walls': 1, 'curls': 1, 'socialmedia': 1, 'booth': 1, 'idtwitter': 1, 'mybaby': 1, 'profession': 1, 'modernmedicine': 1, 'noir': 1, 'thomas': 1, 'productive': 1, 'orange': 1, 'othena': 1, '272': 1, 'homework': 1, 'sheep': 1, 'huh': 1, 'cnmi': 1, 'renea': 1, 'raho': 1, 'chcc': 1, 'bandaid': 1, 'linus': 1, 'equity': 1, 'prioritiz': 1, 'flagrant': 1, 'gottheshot': 1, 'stacks': 1, 'shipper': 1, 'celsius': 1, 'astrazenecaoxfordjenner': 1, 'vaccineshouldqmarkbeeffective': 1, '12222020': 1, 'chec': 1, 'focused': 1, 'roi': 1, 'trud': 1, 'medial': 1, 'geared': 1, 'sayi': 1, 'joins': 1, 'mfgd': 1, 'npra': 1, 'modernas': 1, 'ct': 1, 'commentators': 1, 'rachel': 1, 'carnley': 1, 'ascension': 1, 'ammara': 1, 'hughes': 1, 'oott': 1, 'pgds': 1, 'psds': 1, 'sops': 1, 'webinars': 1, 'mentio': 1, 'carried': 1, 'arabiya': 1, 'americansamoa': 1, 'motusa': 1, 'tuileama': 1, 'nua': 1, 'doubting': 1, 'gotmmc': 1, 'wedidit': 1, 'rnlife': 1, 'frontlinefirst': 1, 'cardiology': 1, 'mutantstrain': 1, 'mullen': 1, 'basic': 1, 'barney': 1, 'graham': 1, 'weissman': 1, 'uchicagomedicine': 1, 'emmanuelmacron': 1, 'frenchpresident': 1, 'francepresident': 1, 'nura': 1, 'festi': 1, 'particular': 1, 'freight': 1, 'concentrate': 1, 'pmjt': 1, 'intentions': 1, 'flak': 1, 'marco': 1, 'rubio': 1, 'criminal': 1, 'monkey': 1, 'sundaymorning': 1, '838': 1, 'frm': 1, 'caumes': 1, 'reservations': 1, 'stu': 1, 'betting': 1, 'vertical': 1, 'yield': 1, 'prolife': 1, 'hypocrit': 1, 'grab': 1, 'iceland': 1, 'crush': 1, 'elephant': 1, 'rodrigo': 1, 'futility': 1, 'regime': 1, 'leaky': 1, '270': 1, 'dmc': 1, 'tripadvisor': 1, 'reviews': 1, '2012202': 1, 'chipping': 1, 'norton': 1, 'bonkers': 1, 'respected': 1, 'bonerpill': 1, 'madeinchina': 1, 'smoke': 1, 'setup': 1, 'lallapaloola': 1, 'russianvaccine': 1, 'desperate': 1, '19at': 1, 'jury': 1, 'progressing': 1, 'manipulated': 1, 'hellish': 1, 'aborted': 1, 'vaccinoday': 1, 'vaxday': 1, 'arcuri': 1, 'celofaremo': 1, 'universitys': 1, 'telegraph': 1, 'viable': 1, 'memo': 1, 'bearable': 1, 'gogeen': 1, 'thecoronaeffect': 1, 'stockmarkets': 1, 'advertise': 1, 'maximize': 1, 'profi': 1, 'sl': 1, 'balto': 1, 'narrowed': 1, 'dow': 1, 'authorises': 1, 'mosalah': 1, 'islam': 1, 'nothin': 1, 'hmc': 1, 'christmasgift': 1, 'ea': 1, 'men': 1, 'aircraft': 1, 'shipmen': 1, 'ingest': 1, 'potassiumchloride': 1, 'lethalinjection': 1, 'marrychristmas': 1, 'bestgiftever': 1, 'sweet': 1, 'smell': 1, 'tril': 1, 'described': 1, 'prog': 1, '3m': 1, '50m': 1, 'wedne': 1, 'cm': 1, 'drained': 1, 'serbian': 1, 'brnabic': 1, 'circle': 1, 'healthcarehero': 1, 'wei': 1, 'xu': 1, 'unionvilla': 1, 'latin': 1, 'operating': 1, 'machine': 1, 'stella': 1, 'maris': 1, 'ufmedicine': 1, 'thankslord': 1, 'superior': 1, 'zrich': 1, 'tages': 1, 'anzeiger': 1, 'themed': 1, 'wisemen': 1, 'bringi': 1, 'favour': 1, 'voluntarily': 1, 'decads': 1, 'randd': 1, 'drewweissman': 1, 'ukprimeminister': 1, 'anytime': 1, 'chiles': 1, 'soterodelrio': 1, 'volatility': 1, 'mistyping': 1, 'phizerbiontech': 1, 'feizerbiontec': 1, 'getvaccinatedcovid': 1, 'gamechanger': 1, 'guyana': 1, 'vidia': 1, 'surendra': 1, 'roopchand': 1, 'helpin': 1, 'conversationalai': 1, 'impunity': 1, 'mwananchi': 1, 'bureaucracy': 1, 'foresight': 1, 'ensured': 1, 'fishy': 1, 'exit': 1, 'euco': 1, '24dicembre': 1, 'gulfews': 1, 'yousra': 1, 'jeddah': 1, 'kt': 1, 'celeb': 1, 'celebrities': 1, 'influencin': 1, 'notched': 1, 'flying': 1, 'sheikh': 1, 'alkhaled': 1, 'alsabah': 1, 'inaugurated': 1, 'kuwaitis': 1, 'expatriates': 1, 'technicians': 1, 'dancin': 1, 'mer': 1, 'liquid': 1, 'interpol': 1, 'legend': 1, 'frazat': 1, 'syrian': 1, 'wamnews': 1, 'popular': 1, 'ipad': 1, 'rental': 1, 'vrs': 1, 'emiratis': 1, 'sons': 1, 'daughters': 1, 'rebel': 1, 'lagging': 1, 'rebello': 1, 'nad': 1, 'hamar': 1, 'monitored': 1, 'downward': 1, 'westerners': 1, 'favourably': 1, 'manipulate': 1, 'aluminum': 1, 'georgiarunoff': 1, 'waistband': 1, 'worn': 1, 'dressy': 1, 'resp': 1, 'banded': 1, 'patented': 1, 'accordi': 1, 'toryboypierce': 1, 'unitedkindom': 1, 'freshly': 1, 'wegpns': 1, 'cans': 1, 'carenotcovid': 1, 'focusing': 1, 'abs': 1, 'fearmongering': 1, 'obey': 1, 'tiffanypontesdover': 1, 'assassinated': 1, 'arabieaabia': 1, 'arabian': 1, 'bestchristmaspresentever': 1, 'zabeel': 1, 'mizhar': 1, '400millionvaccinedosesbysummer': 1, 'usasupply': 1, 'adjusted': 1, 'remai': 1, 'hearte': 1, 'specialized': 1, 'reactogenic': 1, 'vijay': 1, 'reddy': 1, 'zsmu': 1, 'alumni': 1, 'precedent': 1, 'hows': 1, 'ter': 1, 'santaclaracounty': 1, 'armor': 1, 'identify': 1, 'struggles': 1, 'neighbour': 1, 'speedily': 1, 'fluent': 1, 'language': 1, 'depar': 1, 'jorge': 1, 'alcocer': 1, 'ticket': 1, 'medtwittter': 1, 'grandmothers': 1, '16yo': 1, 'cdnhealth': 1, 'texting': 1, 'covidvaccinereality': 1, '19vaccinereality': 1, 'vaccinologist': 1, 'busted': 1, 'wednes': 1, 'nyu': 1, 'langone': 1, 'fisheries': 1, 'commentary': 1, 'cle': 1, 'rm3': 1, 'allocation': 1, 'dontbuythesun': 1, 'criteria': 1, 'panned': 1, 'employing': 1, 'covidiota': 1, '19nsw': 1, 'chef': 1, 'customer': 1, 'poisoning': 1, 'kubaisi': 1, 'numbe': 1, 'minimum': 1, 'stunning': 1, 'advances': 1, 'wreck': 1, 'vying': 1, 'boom': 1, 'truths': 1, '444': 1, '777': 1, 'nearing': 1, 'authors': 1, 'oakville': 1, 'halton': 1, 'physiatry': 1, 'clearwe': 1, 'winner': 1, 'iqaward': 1, 'reali': 1, 'euuktradedeal': 1, 'ukeutradedeal': 1, 'euukbrexittradedeal': 1, 'ukeubrexittradedeal': 1, 'guyverhofstadt': 1, 'sexy': 1, 'trumpadministration': 1, 'ummc': 1, '1994': 1, 'nicola': 1, 'magrini': 1, 'announcing': 1, 'warehouses': 1, 'wam': 1, 'ccpchina': 1, 'mol': 1, 'descri': 1, 'inocu': 1, 'ga': 1, 'asvui': 1, '202012': 1, '01orlineage': 1, '7has': 1, 'quotes': 1, 'quote': 1, 'groundbreaking': 1, 'wang': 1, 'nianshuang': 1, 'mclellans': 1, 'ut': 1, 'disasters': 1, 'anthonyfauci': 1, '19vaccinations': 1, 'dontpanic': 1, 'martin': 1, 'danny': 1, 'des': 1, 'prescribe': 1, 'teammates': 1, 'icupharm': 1, 'twitterx': 1, 'smaller': 1, 'residential': 1, 'jos': 1, 'hermans': 1, 'mere': 1, 'bosses': 1, 'belgique': 1, 'euvaccinationdays': 1, '800k': 1, '22dicembre': 1, 'hurraah': 1, 'dave': 1, 'tomson': 1, 'outcry': 1, 'vaccineidol': 1, 'vaccineswontwork': 1, 'minimise': 1, 'barring': 1, 'economics': 1, 'externality': 1, 'signa': 1, '13b': 1, 'lucrative': 1, 'footsteps': 1, 'tiredn': 1, 'chattanooga': 1, 'pfi': 1, 'leenaanees': 1, '6weeks': 1, 'unbelievable': 1, '450': 1, 'uff': 1, 'posing': 1, 'nigerian': 1, 'nafdacvaccine': 1, 'televised': 1, 'chronic': 1, 'paves': 1, 'euhealth': 1, 'asias': 1, 'dece': 1, 'founder': 1, 'mu': 1, 'tendency': 1, 'europeans': 1, 'confere': 1, 'exclude': 1, 'healthcareprofessional': 1, 'decline': 1, 'gearing': 1, 'patien': 1, 'joebidenpresidentelect': 1, 'canceled': 1, 'leadbyexample': 1, 'generations': 1, 'wsj': 1, 'ukcovidcrisis': 1, 'centro': 1, 'names': 1, 'ukcovid': 1, 'reinounido': 1, 'mutacioncovid': 1, 'genuinely': 1, 'cream': 1, 'icecream': 1, 'achiev': 1, 'path': 1, '30a': 1, 'bidenvaccine': 1, 'coviddeniers': 1, 'senate': 1, 'taxpayers': 1, 'unions': 1, 'psychosomatic': 1, 'resemblance': 1, 'thinki': 1, '48hourcheck': 1, '2in21days': 1, 'revised': 1, '3500': 1, '20f': 1, 'eur': 1, '871': 1, 'cma': 1, 'ent': 1, 'trending': 1, 'moph': 1, 'fn': 1, 'scar': 1, 'walther': 1, 'tous': 1, 'jours': 1, 'schoolsuk': 1, 'saveourschools': 1, 'presentation': 1, 'remake': 1, 'lisa': 1, 'wahlrab': 1, '05': 1, 'evercore': 1, 'beyonc': 1, 'pfizerbeyonce': 1, 'valimai': 1, 'balk': 1, 'kidney': 1, 'victim': 1, 'injustice': 1, 'accomplished': 1, 'pinch': 1, 'burn': 1, 'microbiology': 1, 'varadkar': 1, 'slower': 1, 'newstalk': 1, 'rekt': 1, 'belated': 1, 'maga': 1, 'hydroxychloroquine': 1, 'masters': 1, 'connections': 1, 'favor': 1, 'transfer': 1, 'exponentially': 1, 'declined': 1, 'addit': 1, 'irak': 1, 'oversees': 1, 'mecha': 1, 'mateusz': 1, 'finns': 1, 'movies': 1, 'writes': 1, 'donthatetheplayaz': 1, 'happyholidays': 1, 'mera': 1, 'kab': 1, 'aayega': 1, 'shivering': 1, 'miraculous': 1, 'frontiers': 1, 'blair': 1, 'sizes': 1, 'etsy': 1, 'shop': 1, 'bmw': 1, 'm4': 1, 'gt4': 1, 'construction': 1, 'behinds': 1, 'gtsport': 1, 'docs': 1, 'cheer': 1, 'gimme': 1, 'camp': 1, 'eunations': 1, 'euparliament': 1, 'eupoliticians': 1, 'elle': 1, 'snif': 1, 'respire': 1, 'calmement': 1, 'nonauvaccin': 1, 'rattle': 1, 'unwavering': 1, 'hearted': 1, 'thevaccine': 1, 'alar': 1, 'circulate': 1, 'wildly': 1, 'agreemen': 1, 'newsreader': 1, 'r4': 1, 'omitted': 1, 'targeting': 1, 'pensioners': 1, 'excellency': 1, 'ahmed': 1, 'saidi': 1, 'letitiawright': 1, 'unfairly': 1, 'attacked': 1, 'confidentiality': 1, 'amounts': 1, 'consumer': 1, 'tn': 1, 'walter': 1, 'painting': 1, 'alejandro': 1, 'moronic': 1, 'twa': 1, 'blind': 1, 'mnownews': 1, 'simplified': 1, 'zeros': 1, '132': 1, 'twittervers': 1, 'remixing': 1, 'worldenglish': 1, 'quindi': 1, 'caxxo': 1, 'famo': 1, 'fcuk': 1, 'vaccinati': 1, 'recieving': 1, 'vaccineingredient': 1, 'drtedros': 1, 'healthforall': 1, 'julio': 1, '1942': 1, 'khazarian': 1, 'beit': 1, 'shean': 1, 'arrest': 1, 'mia': 1, 'taormina': 1, 'cv': 1, 'ingrediants': 1, 'inmates': 1, 'looming': 1, 'beholdest': 1, 'thou': 1, 'thine': 1, 'training': 1, '2270': 1, 'thnx': 1, 'hatred': 1, 'buhari': 1, 'southerner': 1, 'nstbusiness': 1, 'pharmaniaga': 1, 'bhd': 1, 'cleric': 1, 'exempted': 1, 'belief': 1, 'worldview': 1, 'giants': 1, 'stoo': 1, 'feelinggood': 1, 'biologist': 1, 'geeks': 1, 'backwater': 1, 'crusher': 1, 'antigen': 1, 'intersecti': 1, 'ebola': 1, 'joydeep': 1, 'goldstandard': 1, 'diphteria': 1, 'tetanus': 1, 'pertussis': 1, 'rubella': 1, 'pathogens': 1, 'stays': 1, 'demonstratong': 1, 'cohones': 1, 'brandenburg': 1, 'deutschland': 1, 'latechristmaspresent': 1, 'yesimoneofthosepeople': 1, 'bartshealth': 1, 'anvisa': 1, 'opensource': 1, 'existe': 1, 'evidenced': 1, 'romaniawould': 1, 'october': 1, 'africans': 1, 'healing': 1, 'contest': 1, 'pixarsoul': 1, 'stringency': 1, '21d': 1, 'spokesman': 1, 'samples': 1, 'nicolasturgeoninterest': 1, 'collated': 1, 'commonly': 1, 'sodium': 1, 'chloride': 1, 'usp': 1, 'dublin': 1, 'myotonicdystrophy': 1, 'cpap': 1, 'stablity': 1, 'methyl': 1, 'pseudouridine': 1, 'yonomevacuno': 1, 'manadeiruse': 1, 'assessed': 1, 'rama': 1, 'heroof': 1, 'ozkemtureci': 1, 'breakout': 1, 'deserves': 1, 'novelprise': 1, 'traditional': 1, 'urging': 1, 'hygiene': 1, 'tropical': 1, 'lshtm': 1, 'chairwoman': 1, 'steering': 1, 'coronairus': 1, 'coronavirusndancer': 1, 'opts': 1, 'endsars': 1, 'davido': 1, 'editing': 1, 'kushi': 1, 'melindagates': 1, 'bayrou': 1, 'covidalert': 1, 'hca': 1, 'visas': 1, 'accidental': 1, 'sterilize': 1, '1premier': 1, 'mort': 1, 'ephad': 1, 'pfiexposed': 1, 'mcentee': 1, 'anticipate': 1, 'crop': 1, 'dusters': 1, 'startegy': 1, 'abc': 1, 'californ': 1, 'qualifications': 1, 'points': 1, 'compass': 1, 'performed': 1, 'expertly': 1, 'esteemed': 1, 'colleague': 1, 'vaccinatiestrategie': 1, 'tamim': 1, 'pasteur': 1, 'deathly': 1, 'drawn': 1, 'rushmedical': 1, 'vein': 1, 'seruminstitute': 1, 'errands': 1, 'pneumonia': 1, 'gerry': 1, 'mccarthy': 1, 'fomonomo': 1, 'classmate': 1, 'denhaag': 1, 'retrumplicants': 1, 'hydrophobia': 1, 'phobic': 1, 'drinking': 1, 'ignore': 1, 'distancing': 1, 'partial': 1, 'pu': 1, 'sha': 1, 'hancock': 1, 'twitting': 1, 'commercially': 1, 'sensitive': 1, 'breastfeedin': 1, 'personally': 1, 'proudtobenhsg': 1, 'phaseiii': 1, 'contribution': 1, 'nursevaccinator': 1, 'advantages': 1, 'holidaying': 1, 'p12302020': 1, 'stricter': 1, 'immeasurable': 1, 'nationally': 1, 'internationall': 1, '87000': 1, 'denied': 1, 'christian': 1, 'surprising': 1, 'communications': 1, 'verbal': 1, 'crossover': 1, 'sexual': 1, 'fin': 1, 'moscow': 1, 'arsenal': 1, 'nightshift': 1, 'returnees': 1, 'newtrain': 1, 'britai': 1, 'qe': 1, 'birmingham': 1, '162b': 1, 'bubbled': 1, 'garner': 1, '907': 1, 'suggesting': 1, 'globalpandemic': 1, '122920': 1, 'actuall': 1, 'iatrogenic': 1, 'dilemma': 1, 'ingenuity': 1, 'academics': 1, 'subscription': 1, 'amazingl': 1, 'transmissio': 1, 'fainting': 1, 'willkommen': 1, 'pan': 1, 'secondly': 1, 'laurentperrier': 1, 'novid': 1, 'erskine': 1, 'northwood': 1, 'simon': 1, 'flagged': 1, 'bastards': 1, '501pharmacy': 1, 'whereshan': 1, 'hanishere': 1, 'chris': 1, 'understandi': 1, 'notion': 1, 'incompetent': 1, 'reckless': 1, 'disregard': 1, 'sc': 1, 'sicklecelldisease': 1, 'sicklestrong': 1, 'cancel': 1, 'rebook': 1, 'appo': 1, 'exchanging': 1, 'canc': 1, 'yikes': 1, 'hesitate': 1, 'healthcarescience': 1, 'vaccinesweneed': 1, '5000': 1, 'monaco': 1, 'plessenrocks': 1, 'thanksfor': 1, 'thecall': 1, 'thankyoumoreforbeinghereforus': 1, 'cantwaitfor': 1, 'lifelonglearning': 1, 'clutching': 1, 'jaws': 1, 'justification': 1, 'louth': 1, 'couplegoals': 1, 'quest': 1, 'phenomenal': 1, 'james': 1, 'applaud': 1, 'scotl': 1, 'vaccinequestions': 1, '16s': 1, 'fiddling': 1, 'hang': 1, 'lastyear': 1, 'wiht': 1, 'hvea': 1, 'glimmer': 1, 'backfire': 1, 'cruc': 1, 'responded': 1, 'follo': 1, 'informa': 1, 'chang': 1, 'regimens': 1, 'statemen': 1, 'medtech': 1, 'humaid': 1, 'qutami': 1, 'multi': 1, 'sayings': 1, 'favourites': 1, 'couldve': 1, 'imagined': 1, 'blown': 1, 'fearful': 1, 'petrified': 1, 'nl': 1, 'grave': 1, 'vegetative': 1, 'supports': 1, 'offere': 1, 'comply': 1, 'jo': 1, 'timing': 1, '944k': 1, 'heartfelt': 1, 'ckch': 1, 'prra': 1, 'circumstances': 1, 'discredit': 1, 'competetior': 1, 'briti': 1, 'crony': 1, 'loving': 1, 'pc': 1, 'proto': 1, 'seruminstituteindia': 1, 'govtofindia': 1, 'mockdrill': 1, 'worldhealthorganization': 1, 'treatment': 1, 'europa': 1, 'exponential': 1, 'ow': 1, 'newyear': 1, 'harder': 1, 'collecting': 1, 'alas': 1, 'taught': 1, 'eats': 1, 'lunch': 1, 'declare': 1, 'probability': 1, 'benefiting': 1, 'trialed': 1, 'switch': 1, 'kicke': 1, 'toryincompetence': 1, 'runny': 1, 'angry': 1, 'nye': 1, 'gvt': 1, 'beyon': 1, 'allergists': 1, 'hosted': 1, 'toryscum': 1, 'defend': 1, 'kalmar': 1, 'painles': 1, 'rushing': 1, 'ident': 1, 'reasonable': 1, '28th': 1, 'covidvaccinedelays': 1, 'effectivity': 1, 'hurrying': 1, 'kinds': 1, 'lonely': 1, '60c': 1, '90c': 1, 'imperial': 1, 'suicide': 1, 'uns': 1, 'listing': 1, 'processes': 1, 'qu': 1, 'enables': 1, 'alomst': 1, 'worldhealthorganisation': 1, 'lka': 1, 'dn': 1, 'removing': 1, 'motif': 1, 'wellspan': 1, 'mysterious': 1, 'monolith': 1, 'gal': 1, 'gadot': 1, 'experimented': 1, 'experimentalvaccine': 1, 'respectively': 1, 'latestnews': 1, 'formulated': 1, 'latex': 1, 'readily': 1, 'agen': 1, 'sale': 1, 'victories': 1, 'bo': 1, 'happynewyearseve': 1, 'contrast': 1, 'rejections': 1, 'surrounding': 1, 'frozenand': 1, 'reconstituted': 1, 'onsite': 1, 'littlevialsofhope': 1, 'mockery': 1, 'gmp': 1, 'thousa': 1, '5k': 1, 'invents': 1, 'sciencefirst': 1, 'innsz': 1, 'pros': 1, 'gym': 1, 'cons': 1, 'auto': 1, 'powered': 1, 'editorial': 1, 'ribosomeatwork': 1, 'insu': 1, 'conduct': 1, 'clanging': 1, 'utensils': 1, 'pulsepolio': 1, 'maj': 1, 'gen': 1, 'marri': 1, 'directorate': 1, 'residency': 1, 'foreigners': 1, 'gdrfa': 1, 'astraseneca': 1, 'crook': 1, 'prescribing': 1, 'ps': 1, 'nope': 1, 'discomfort': 1, 'settlers': 1, 'peachy': 1, 'thereafter': 1, 'haters': 1, 'protest': 1, 'amplify': 1, 'preposterous': 1, 'suggestion': 1, 'sloaui': 1, 'struck': 1, 'realistically': 1, 'legs': 1, 'hill': 1, '9accine': 1, 'rupert': 1, 'murdochs': 1, 'nhss': 1, 'trialanderror': 1, 'extent': 1, 'coronavirusmalta': 1, 'publisher': 1, 'owned': 1, 'ebay': 1, 'streetart': 1, 'graffitiart': 1, 'graffart': 1, 'streetphotography': 1, 'photography': 1, 'sep': 1, 'eac': 1, 'accomplishment': 1, 'wiped': 1, 'revived': 1, 'cpr': 1, 'film': 1, 'defo': 1, 'hungover': 1, 'childrens': 1, 'limiting': 1, 'factor': 1, 'gradually': 1, 'toryshambles': 1, 'jefferson': 1, 'discounted': 1, 'nerd': 1, 'sustained': 1, '073': 1, 'nationallockdown': 1, 'tennis': 1, 'seiz': 1, '1k': 1, 'concentrating': 1, '240k': 1, 'heath': 1, 'author': 1, 'backpac': 1, 'logics': 1, 'wondered': 1, 'differs': 1, 'regius': 1, 'collaborated': 1, 'talal': 1, 'belhoul': 1, 'falasi': 1, 'confidante': 1, 'indias': 1, 'banker': 1, 'anshumanmishra': 1, 'gopbarbies': 1, 'goprabies': 1, 'sionismus': 1, 'kkkellylffner': 1, 'nazidescendant': 1, 'vrica': 1, 'rapture': 1, 'arnm': 1, 'kitchen': 1, 'grange': 1, 'cretin': 1, 'pseudo': 1, 'nodding': 1, 'sycophants': 1, 'laud': 1, '5gennaio': 1, 'seeks': 1, '19eu': 1, 'longisland': 1, 'wordplay': 1, 'behin': 1, 'reg': 1, 'document': 1, 'confus': 1, 'deceased': 1, 'abilo': 1, 'portugese': 1, 'correio': 1, 'manha': 1, 'hadn': 1, 'pressconf': 1, 'stupidity': 1, 'coviddenier': 1, 'administe': 1, 'spaced': 1, 'turncoat': 1, 'sto': 1, 'happed': 1, 'secondvaccination': 1, 'haunted': 1, '7000': 1, 'standing': 1, 'mini': 1, 'mexicans': 1, 'phobia': 1, 'applying': 1, 'felling': 1, 'backing': 1, 'dx': 1, 'urban': 1, 'rural': 1, 'beitbridge': 1, 'schoolreopening': 1, 'whelk': 1, 'stall': 1, 'theskimm': 1, 'desantis': 1, '2024': 1, 'continu': 1, 'hiding': 1, 'eventprofs': 1, 'monaalmarri': 1, 'parliam': 1, 'cobrakai': 1, 'culmination': 1, 'mona': 1, 'ghanem': 1, 'almarri': 1, 'pizza': 1, 'accounts': 1, 'satisfied': 1, 'representatives': 1, 'slowed': 1, 'hedge': 1, 'funds': 1, 'stockholders': 1, 'steady': 1, 'hight': 1, 'valnurable': 1, 'attending': 1, 'qantas': 1, 'internationalflights': 1, 'asiancountries': 1, 'qantasflights': 1, 'adar': 1, 'remark': 1, 'assistant': 1, 'parameters': 1, 'breastmilk': 1, 'pleas': 1, 'happenned': 1, 'ostensibly': 1, 'bonnie': 1, 'pushes': 1, 'pote': 1, 'alters': 1, 'bioweapon': 1, 'dol': 1, 'columbia': 1, 'defies': 1, '690': 1, '449': 1, 'acev': 1, 'victims': 1, 'injured': 1, 'counted': 1, 'rivaroxaban': 1, 'obituary': 1, 'betty': 1, 'resolution': 1, 'workflow': 1, 'effica': 1, 'booste': 1, 'believescience': 1, 'mock': 1, 'qc': 1, 'optimal': 1, 'afford': 1, 'sedicin': 1, 'manadeirus': 1, 'psicodiagnstico': 1, 'longtermcare': 1, 'homeseven': 1, 'consultant': 1, '19accine': 1, '8c': 1, 'deepest': 1, 'condolences': 1, 'narendramodi': 1, 'pointed': 1, 'pgd': 1, 'vaccineadverseeventreporting': 1, 'postvaccine': 1, 'shirt': 1, '4vaccines': 1, 'memorable': 1, 'especia': 1, '323': 1, 'surrey': 1, 'jooly': 1, 'forwards': 1, 'personality': 1, 'wednesdaythought': 1, 'observator': 1, 'mp': 1, 'chie': 1, 'wher': 1, 'republican': 1, 'colombian': 1, 'readers': 1, 'appr': 1, 'career': 1, 'clinically': 1, 'hillsboroughcounty': 1, 'logo': 1, 'features': 1, 'helix': 1, 'spiral': 1, 'redesign': 1, 'registry': 1, 'experiences': 1, 'laugh': 1, 'standpoint': 1, 'cooler': 1, 'aregulatory': 1, 'kevin': 1, 'brady': 1, 'teh': 1, 'handle': 1, 'deaf': 1, 'forwa': 1, 'protectingmypatients': 1, 'protectingme': 1, 'protectingmyfamily': 1, 'gpns': 1, 'recieves': 1, 'nollaig': 1, 'mban': 1, 'glasgow': 1, 'gre': 1, 'donkey': 1, 'threemagi': 1, 'inserted': 1, 'einstein': 1, 'vaccs': 1, '1050': 1, '72hours': 1, 'uhw': 1, 'janet': 1, 'postcode': 1, 'coronary': 1, 'sanna': 1, 'elkadiri': 1, 'eindhoven': 1, 'covidvaccineindia': 1, 'chemical': 1, 'novich': 1, 'quickest': 1, 'cull': 1, 'respiratory': 1, 'zombies': 1, 'zombieslovers': 1, 'yest': 1, 'disclosures': 1, 'mmm': 1, 'politician': 1, 'master': 1, 'adminstration': 1, 'pfizerbiontechday': 1, 'modernaday': 1, 'lining': 1, 'tastic': 1, 'bogota': 1, 'extraordinary': 1, 'coroner': 1, 'ridiculed': 1, 'chiefjustice': 1, 'mogoengmogoeng': 1, '85s': 1, 'epi': 1, 'doi': 1, 'southerncalifornia': 1, 'croatia': 1, 'schoolnurses': 1, 'tremendousl': 1, 'upcomingevent': 1, 'tune': 1, 'flat': 1, 'maskupde': 1, 'gladly': 1, 'apprehensions': 1, 'yesterdays': 1, 'tiger': 1, 'greeeaaat': 1, 'seve': 1, '3d': 1, 'printing': 1, 'hesitated': 1, 'employers': 1, 'stretching': 1, 'beween': 1, 'compa': 1, 'in2': 1, 'discharge': 1, 'candour': 1, 'informing': 1, 'guarante': 1, 'stud': 1, 'thoug': 1, 'effectively': 1, 'theyd': 1, 'coping': 1, 'balanchines': 1, 'memento': 1, 'reposting': 1, 'orbit': 1, 'awfully': 1, 'wuhanvirus': 1, 'mutantcovid': 1, 'tremendo': 1, 'overheard': 1, 'nocure': 1, 'orbiti': 1, 'outsidetoday': 1, 'apologies': 1, 'coup': 1, 'wort': 1, 'loggers': 1, 'ensu': 1, 'disgusted': 1, 'obs': 1, 'politicizing': 1, 'addressing': 1, 'blockchain': 1, 'participant': 1, 'indicative': 1, 'vaccinee': 1, 'transmissi': 1, 'peers': 1, 'vefam': 1, 'cryptocurrency': 1, '606': 1, 'cnm': 1, 'nessa': 1, 'merrigan': 1, 'gryffindor': 1, 'slytherin': 1, 'hufflepuff': 1, 'houses': 1, 'calibre': 1, '544': 1, '493rd': 1, 'savehumanity': 1, 'stocks': 1, 'sensex': 1, 'nifty': 1, 'cement': 1, 'stocksinnews': 1, 'bse': 1, 'nse': 1, 'rottiinculo': 1, 'anecdotally': 1, 'imports': 1, 'wearin': 1, 'lo': 1, '760': 1, 'travellers': 1, 'certai': 1, 'beware': 1, 'advising': 1, 'stanley': 1, 'frien': 1, 'doubles': 1, 'proposes': 1, 'acted': 1, 'investor': 1, 'bankrolling': 1, 'pharmas': 1, 'vaccinates': 1, 'doubled': 1, '28daysnot12weeks': 1, 'headed': 1, 'briefed': 1, 'vaccineone': 1, 'lump': 1, 'delicate': 1, 'newstrainofcoronavirus': 1, 'afric': 1, 'conducts': 1, 'zab': 1, 'staysafestayhealthy': 1, 'strand': 1, 'ontarios': 1, 'weirdly': 1, 'reactogenicity': 1, 'throughout': 1, 'dosages': 1, 'survival': 1, 'beaming': 1, 'pts': 1, 'schedules': 1, '15000': 1, 'menta': 1, 'athletic': 1, 'trainers': 1, 'tesla': 1, 'virtualreality': 1, 'vr': 1, 'mixedreality': 1, 'storyboarding': 1, 'newsproduction': 1, 'scienceisawesome': 1, 'stjosephs': 1, 'lpn': 1, 'dunson': 1, 'bluntly': 1, 'covaxintrials': 1, 'oily': 1, '7am': 1, 'sleepy': 1, 'nightsh': 1, '325': 1, '641': 1, 'averaging': 1, '333': 1, 'reid': 1, '314': 1, 'repu': 1, 'circuit': 1, 'lane': 1, 'nevermind': 1, 'goofy': 1, 'breakfa': 1, 'fidir': 1, 'linn': 1, 'logik': 1, 'makellos': 1, 'flaweless': 1, 'lily': 1, 'speeding': 1, 'bidens': 1, 'reversal': 1, 'pope': 1, 'vacinado': 1, 'orgulho': 1, 'fazer': 1, 'parte': 1, 'desse': 1, 'momento': 1, 'tor': 1, 'extinction': 1, 'vaccineadvocate': 1, 'estuary': 1, 'whitstable': 1, 'luxury': 1, 'fanfare': 1, 'prince': 1, 'philip': 1, 'majesty': 1, 'dignitari': 1, 'dosetwo': 1, '2educate': 1, 'privile': 1, 'awkward': 1, 'somewhat': 1, 'theyll': 1, 'palace': 1, 'cite': 1, 'abingtonparkmedicalcentre': 1, 'sorenes': 1, 'sivuh': 1, 'psychiatrists': 1, 'camhs': 1, 'excellen': 1, 'verge': 1, 'preventionstate': 1, 'mutat': 1, 'modifying': 1, 'unpredi': 1, 'inflammation': 1, 'negatively': 1, 'autoimmunity': 1, 'coagula': 1, 'arcturus': 1, 'therapeutics': 1, 'exhaust': 1, 'fumes': 1, 'spiked': 1, 'placebos': 1, 'neurotoxic': 1, 'alumin': 1, 'centrally': 1, 'safa': 1, '186': 1, 'assisting': 1, 'blindly': 1, 'biased': 1, 'monopolies': 1, 'exper': 1, 'slowly': 1, 'keepthefaith': 1, 'freezing': 1, 'twiv': 1, '703': 1, 'salman': 1, 'confinement': 1, 'couvrefeu': 1, 'jair': 1, 'bearded': 1, 'fluffer': 1, 'tougher': 1, 'thumb': 1, 'shorten': 1, 'selfies': 1, 'hseireland': 1, '1400': 1, 'ukstrain': 1, 'civilisation': 1, 'slog': 1, 'brill': 1, 'component': 1, '2015': 1, 'stream': 1, 'recruiting': 1, 'fightin': 1, 'nh': 1, 'peds': 1, 'heme': 1, 'onc': 1, 'crafting': 1, 'skills': 1, 'lad': 1, 'administ': 1, 'covidout': 1, 'faculty': 1, 'september': 1, 'endorse': 1, 'improperly': 1, 'alhamdullilah': 1, 'letsvaccinateitaly': 1, 'newbeginnings': 1, 'scraps': 1, 'forgive': 1, 'inspired': 1, 'efffective': 1, 'n501y': 1, 'prevalence': 1, 'voxcspppsoe': 1, '75up84kkk': 1, 'orwell': 1, '1984': 1, 'rabia': 1, '2014': 1, 'manade': 1, 'youd': 1, 'investments': 1, 'excessive': 1, 'diy': 1, 'retired': 1, 'uniform': 1, 'soaring': 1, 'dental': 1, 'insight': 1, 'littletown': 1, 'pricked': 1, 'debunked': 1, 'floundering': 1, 'coronavirusdeath': 1, 'tollexceeds': 1, 'benjaminnetanyahu': 1, 'economist': 1, 'standards': 1, 'manifested': 1, 'ove': 1, 'closest': 1, 'atmosphere': 1, 'thecutting': 1, 'thecuttingminis': 1, 'lipidnanoparticles': 1, 'ostracising': 1, 'immunised': 1, 'phon': 1, 'buckle': 1, 'buttercup': 1, 'misgivings': 1, 'counties': 1, 'wolves': 1, 'sheeps': 1, 'clothing': 1, 'undetected': 1, 'scienceworks': 1, 'worththeshot': 1, 'provisional': 1, 'paramedics': 1, 'wnc': 1, 'invincible': 1, 'itunurse': 1, 'fu': 1, 'middlewic': 1, 'enrolled': 1, 'kicking': 1, 'yesssssirski': 1, 'lfg': 1, 'healthier': 1, 'qsq': 1, 'dm': 1, 'replication': 1, 'toh': 1, 'winningthewar': 1, 'tiredprimarycarenurse': 1, 'gpn': 1, 'letsgetthisdone': 1, 'hrh': 1, 'looked': 1, 'seco': 1, 'familiarise': 1, 'sheets': 1, 'warzone': 1, 'newcovidstrain': 1, 'everyo': 1, 'pentagon': 1, 'operati': 1, 'organ': 1, 'psa': 1, 'superheroes': 1, 'covidkiller': 1, 'lebanese': 1, 'keeps': 1, 'postposing': 1, 'promise': 1, 'markofthebeast': 1, 'connected': 1, 'zaidhamid': 1, 'xrp': 1, 'hilary': 1, '102f': 1, 'overnight': 1, '1000mg': 1, 'armored': 1, 'tank': 1, 'quit': 1, 'beautifu': 1, 'sor': 1, 'cap': 1, 'uptake': 1, 'thative': 1, 'wasted': 1, 'bles': 1, 'overtime': 1, 'miracle': 1, 'phuckcovid': 1, '10minute': 1, 'lift': 1, 'countrywide': 1, 'hyperbole': 1, 'worke': 1, 'exagerated': 1, 'platforms': 1, 'martim': 1, 'startthehealing': 1, 'cumbersome': 1, 'paperwork': 1, 'healthcarestaff': 1, 'partnered': 1, 'dj': 1, 'exclusively': 1, 'bre': 1, 'stabbed': 1, 'wilbur': 1, 'slig': 1, 'smartly': 1, 'sorts': 1, 'craziness': 1, 'jolly': 1, 'fridg': 1, 'prais': 1, 'pages': 1, 'belgianpress': 1, 'mbayeleye': 1, 'variantecovid': 1, 'dogstudio': 1, 'puzzled': 1, 'shi': 1, 'legault': 1, 'opposition': 1, 'wewantpfizer': 1, 'happily': 1, 'dash': 1, 'glucose': 1, 'tolerance': 1, 'wheeler': 1, '2mil': 1, '3x': 1, 'pzifer': 1, 'mac': 1, 'vasd': 1, 'covidstache': 1, 'n95stache': 1, 'rule': 1, 'governors': 1, 'missive': 1, 'paused': 1, 'onward': 1, 'getvaccinateddc': 1, 'togetherwecanbeatthis': 1, 'enormity': 1, 'onli': 1, '3am': 1, 'tricky': 1, 'plea': 1, 'bil': 1, 'gratefu': 1, 'soar': 1, 'apparent': 1, 'staffordshire': 1, 'politi': 1, '19researcher': 1, 'bsl': 1, '3personnel': 1, 'retains': 1, 'ecoronapass': 1, 'optimized': 1, 'facilitate': 1, 'prone': 1, 'reco': 1, 'alf': 1, 'phoned': 1, 'enormously': 1, 'thearmy': 1, 'musc': 1, '175': 1, 'blamed': 1, 'federation': 1, 'fbih': 1, 'entity': 1, 'byebyecovid': 1, 'vaccication': 1, 'headachey': 1, 'las': 1, 'cohort': 1, 'despit': 1, 'distance': 1, 'goodluck': 1, 'ic': 1, 'oldies': 1, 'universityofpcs': 1, 'settle': 1, 'reptilian': 1, 'frie': 1, 'whitney': 1, 'nm': 1, 'npchat': 1, 'thinks': 1, 'unspeakable': 1, 'industry': 1, 'pedsicu': 1, 'covidvulnerable': 1, 'itismybodyitismychoice': 1, 'pgy': 1, 'katie': 1, 'henn': 1, 'unive': 1, 'pfeizer': 1, 'carehome': 1, 'kickthevirus': 1, 'iamahealthcareworker': 1, 'debunking': 1, 'romanian': 1, 'honks': 1, 'maskedandsaf': 1, 'famil': 1, 'apprehensive': 1, 'marginally': 1, 'annalise': 1, 'pat': 1, 'richards': 1, 'efficie': 1, 'unwell': 1, 'dre': 1, 'ministryofhealth': 1, '72hourcheck': 1, 'effortless': 1, 'ourbestshot': 1, 'dreaming': 1, 'vhk': 1, 'maidstonehospital': 1, 'trends': 1, '15min': 1, 'gif': 1, 'mate': 1, 'awake': 1, 'curtis': 1, 'wor': 1, '19vaccineqs': 1, 'vaccinetracker': 1, '427': 1, '050': 1, '362': 1, '558': 1, '675': 1, 'pictonpcn': 1, 'inj': 1, 'lose': 1, 'laying': 1, 'corner': 1, 'tother': 1, 'neces': 1, 'amal': 1, 'bint': 1, 'saif': 1, 'maani': 1, 'direction': 1, 'thephilippines': 1, 'mildl': 1, 'phillippines': 1, 'groceries': 1, 'asdavaccine': 1, '1and2': 1, 'neurological': 1, 'vday': 1, 'hugely': 1, '12th': 1, 'influenza': 1, 'dan': 1, 'albas': 1, 'bcpoli': 1, 'bchealth': 1, 'uscovid': 1, 'bandage': 1, 'slippery': 1, 'snake': 1, 'loads': 1, 'ju': 1, 'slides': 1, 'stocktowatch': 1, 'vaccinationparty': 1, 'zoom': 1, 'epipen': 1, 'homemade': 1, 'scones': 1, 'yummy': 1, 'thornton': 1, 'cleveleys': 1, 'qehb': 1, 'fgh': 1, 'analogies': 1, 'sigh': 1, 'jhmccovidvaccine': 1, 'mums': 1, 'villas': 1, 'avi': 1, 'woods': 1, 'laura': 1, 'wron': 1, 'aande': 1, 'normali': 1, 'refrigerators': 1, 'journorequest': 1, 'arranging': 1, 'hospit': 1, 'unofficial': 1, 'portrait': 1, 'endthelockdowns': 1, 'installation': 1, 'czech': 1, 'repub': 1, 'dalle': 1, 'pieghe': 1, 'web': 1, 'cio': 1, 'dal': 1, 'escono': 1, 'cose': 1, 'interessanti': 1, 'sulla': 1, 'imho': 1, 'withhold': 1, 'biology': 1, 'genetics': 1, 'extended': 1, 'tirrmh': 1, '6feet': 1, 'medicinal': 1, 'writtenand': 1, 'ploy': 1, 'exaggerated': 1, 'divide': 1, 'covidvaccinations': 1, 'sarah': 1, 'schiffling': 1, 'bottl': 1, 'turner': 1, 'geriatrics': 1, 'cte': 1, 'luc': 1, 'darkweb': 1, 'joan': 1, '21daysnot12weeks': 1, 'dears': 1, 'skeptical': 1, 'scienc': 1, 'chronicles': 1, 'vunerable': 1, 'swearing': 1, 'bible': 1, 'upside': 1, 'inaugurationday': 1, 'americaortrump': 1, 'probing': 1, 'waived': 1, 'pehle': 1, 'aap': 1, 'jobloss': 1, 'unlock': 1, 'goa': 1, 'tourists': 1, 'understands': 1, 'monitors': 1, 'shattered': 1, 'vaccineuk': 1, 'buckets': 1, 'leukemia': 1, 'ward': 1, 'ccps': 1, 'diplomacy': 1, 'hackread': 1, 'interfere': 1, 'monsanto': 1, 'agenc': 1, 'irradiate': 1, 'preserve': 1, 'vaccineresearch': 1, 'hungary': 1, 'scream': 1, 'brant': 1, 'griner': 1, 'covidround': 1, 'johns': 1, 'hopkins': 1, 'idiopathic': 1, 'thrombocytopenic': 1, 'purpura': 1, '56yo': 1, 'obgyn': 1, 'stroke': 1, 'splenectomy': 1, 'weloveourips': 1, 'relatively': 1, 'kickcoronasarse': 1, 'uhn': 1, 'variability': 1, 'glenegales': 1, 'yemassee': 1, 'entering': 1, 'kindly': 1, 'norvegia': 1, 'germania': 1, 'ysbytyenfys': 1, 'llandudno': 1, 'englewood': 1, 'firstresponders': 1, 'yeller': 1, 'unspecifie': 1, '19insa': 1, 'effpresser': 1, 'delirium': 1, 'impre': 1, 'tools': 1, 'pregn': 1, 'acceleration': 1, 'intmedicineawesome': 1, 'kalamazoorepresent': 1, 'thisqanda': 1, '68': 1, 'furt': 1, 'toodaloo': 1, 'restlessly': 1, 'tiered': 1, 'restriction': 1, 'privliged': 1, 'bookyourvaccine': 1, 'northern': 1, 'bousfield': 1, 'zsuzsanna': 1, 'francia': 1, 'olympic': 1, 'medalist': 1, 'rowing': 1, 'clarified': 1, 'highlighting': 1, 'phas': 1, 'ongoing': 1, '254': 1, 'trustingscience': 1, '725': 1, 'atacama': 1, 'arica': 1, 'ant': 1, 'fence': 1, 'procedure': 1, 'assigned': 1, 'vaccineinjuries': 1, 'pg': 1, 'bridget': 1, 'biddy': 1, 'connolly': 1, 'meanus': 1, 'limerick': 1, 'itas': 1, 'impfungen': 1, 'bayern': 1, 'bavaria': 1, 'rveeh': 1, 'piot': 1, 'ihavebeenvaccinated': 1, 'bma': 1, 'hallelujah': 1, 'kanpur': 1, 'guru': 1, 'lagane': 1, 'horror': 1, 'variety': 1, 'planet': 1, 'exceed': 1, 'covidioten': 1, 'obligated': 1, 'thx': 1, 'civil': 1, 'torontos': 1, 'givers': 1, 'anywhere': 1, 'induction': 1, 'champion': 1, 'impoverished': 1, 'singledose': 1, 'advantage': 1, 'jandjvaccine': 1, 'ain': 1, 'thang': 1, '118': 1, 'mashallah': 1, 'drags': 1, 'exposing': 1, 'adequate': 1, 'tues': 1, 'rounding': 1, 'ama': 1, 'victorian': 1, 'pt': 1, 'biologic': 1, 'contribu': 1, 'doingmybit': 1, 'memoji': 1, 'signals': 1, 'commencement': 1, 'welldone': 1, 'typos': 1, 'frameshift': 1, 'hacks': 1, 'innoculated': 1, 'savenhs': 1, 'socialist': 1, 'aem': 1, 'mismanagement': 1, '485': 1, 'fro': 1, 'singing': 1, 'bruise': 1, 'reacted': 1, 'saskatchewan': 1, 'expresses': 1, 'scummedia': 1, 'redeployed': 1, 'feve': 1, 'respond': 1, 'ref': 1, 'receiver': 1, 'specialneeds': 1, 'slts': 1, 'answering': 1, 'fortunately': 1, 'hopef': 1, 'drakeford': 1, 'dalgan': 1, 'missionaries': 1, 'nobo': 1, 'pattern': 1, 'sketchy': 1, 'speculates': 1, 'feelinglucky': 1, 'ball': 1, 'medal': 1, 'plannin': 1, 'waitlist': 1, 'dubaihealth': 1, 'uclh': 1, 'socialresponsibility': 1, 'spaceballs': 1, 'campaig': 1, 'rotary': 1, 'dial': 1, 'lords': 1, 'hurcul': 1, 'muddle': 1, 'links': 1, 'usatraveltoday': 1, 'tanzania': 1, 'serengeti': 1, 'zanzibar': 1, 'tonic': 1, 'spend': 1, 'originally': 1, 'doest': 1, 'tb': 1, 'init': 1, 'passeportvacinal': 1, 'officiel': 1, 'americain': 1, 'sparce': 1, 'equals': 1, 'whod': 1, 'frailer': 1, 'geriatric': 1, 'populat': 1, 'minist': 1, 'variable': 1, 'effectives': 1, 'truthful': 1, 'vaccinedeaths': 1, 'termina': 1, 'wars': 1, 'bashing': 1, 'increases': 1, 'assoc': 1, 'saline': 1, 'aging': 1, 'toothpaste': 1, 'tube': 1, 'soniaacevedo': 1, 'khamenei': 1, 'treason': 1, 'grip': 1, 'sorting': 1, 'tutorial': 1, 'atc': 1, 'atsarehealthcare': 1, 'witnessed': 1, 'uofm': 1, 'michiganmedicine': 1, 'percentage': 1, 'nownorway': 1, 'wecandothis': 1, 'sana': 1, 'ganon': 1, 'din': 1, 'dito': 1, 'brilliantly': 1, 'session': 1, 'askhambar': 1, 'scarry': 1, 'autopsy': 1, 'immunosuppressants': 1, 'match': 1, 'wecanbeatthis': 1, 'shelf': 1, 'defr': 1, 'holdandclarify': 1, 'vaccineupdate': 1, 'measured': 1, 'ep': 1, 'trialled': 1, 'slams': 1, 'slammed': 1, '379': 1, 'demented': 1, 'wakefield': 1, 'acts': 1, 'contributed': 1, 'uhg': 1, 'loud': 1, 'agedp': 1, 'bloody': 1, 'astrazenecaoxford': 1, 'accuracy': 1, 'ot': 1, 'virologists': 1, 'nothi': 1, 'futuro': 1, 'melissa': 1, 'vampirediaries': 1, 'thevampirediaries': 1, 'ioapro': 1, '1501': 1, 'ascoltitv': 1, 'covaxine': 1, 'zycovd': 1, 'edith': 1, 'kwoizalla': 1, 'probe': 1, 'sterile': 1, 'qandas': 1, '2million': 1, 'mea': 1, 'dg': 1, 'anban': 1, 'pillay': 1, 'probes': 1, 'sigurdhortemo': 1, 'norwegianmedicinesagency': 1, 'generous': 1, 'mature': 1, 'shove': 1, 'shine': 1, 'bes': 1, 'brok': 1, 'beaconhospital': 1, 'roaming': 1, 'superbowl': 1, 'coma': 1, 'worrisome': 1, 'display': 1, '155': 1, 'avert': 1, 'nada': 1, 'specialists': 1, 'expose': 1, 'terrifying': 1, '20mn': 1, 'chilly': 1, 'overheated': 1, 'greg': 1, 'hunt': 1, 'allowing': 1, 'woopsiedaisies': 1, 'il': 1, '016': 1, 'tehran': 1, 'fighti': 1, 'sclerosis': 1, 'caretaker': 1, 'ses': 1, 'ordination': 1, 'voluntee': 1, 'nonewnormal': 1, 'hopefulsunday': 1, 'imo': 1, 'perth': 1, 'applies': 1, 'turkishpresident': 1, 'compatriots': 1, 'clued': 1, 'vaccinazioni': 1, 'richiami': 1, 'noi': 1, 'pronti': 1, 'secondose': 1, '1472': 1, 'rigorous': 1, 'maguendavidadom': 1, '19vaccinationprogramme': 1, 'emiratesgroup': 1, 'dominate': 1, 'protectyourself': 1, '305': 1, 'beneficiaries': 1, 'brou': 1, 'complained': 1, 'notaleaderjustaliberal': 1, 'activate': 1, 'defenseproductionact': 1, 'citation': 1, 'instagramdown': 1, 'covidvaccineuk': 1, 'eld': 1, 'facial': 1, 'bobcat': 1, 'beep': 1, 'boop': 1, 'yup': 1, 'autism': 1, 'limb': 1, 'bells': 1, 'rodrigoduterte': 1, 'filipinos': 1, 'considers': 1, 'excluding': 1, 'zuss': 1, 'tomei': 1, 'hoje': 1, 'segunda': 1, 'vaccinationcentre': 1, 'bushey': 1, 'watford': 1, 'elstree': 1, 'herts': 1, 'peek': 1, 'curtain': 1, 'thrombocytic': 1, 'purpora': 1, 'lakh': 1, 'roscommon': 1, 'administrating': 1, 'everythi': 1, 'plymouth': 1, 'deafspraak': 1, 'coronadebat': 1, 'halt': 1, 'geek': 1, '182': 1, 'reassures': 1, 'gospel': 1, 'toughguy': 1, 'immediatel': 1, 'onedose': 1, 'ofcourse': 1, 'upgrade': 1, 'pfyzer': 1, 'patrickvalance': 1, 'trumpslastday': 1, 'seulgi': 1, 'tsar': 1, 'protec': 1, 'vous': 1, 'rend': 1, 'malade': 1, 'reference': 1, 'growth': 1, 'ai': 1, 'breakt': 1, 'panama': 1, '840': 1, 'panavac': 1, 'llegadavacunas': 1, 'precisely': 1, 'swan': 1, 'inclu': 1, 'typographic': 1, 'fortin': 1, 'notmypremier': 1, 'unacceptablebehaviour': 1, 'discount': 1, 'blocked': 1, 'mentioning': 1, 'benifit': 1, 'associates': 1, 'carrot': 1, 'carrotandstick': 1, 'iwonderwhy': 1, 'vaccineisgood': 1, 'ck': 1, 'increasingly': 1, 'questionable': 1, 'raisi': 1, 'enormous': 1, 'chairs': 1, 'deferred': 1, 'stepmum': 1, 'ysbyty': 1, 'gwynedd': 1, 'frances': 1, 'foreseeable': 1, 'tin': 1, '20xx': 1, 'xx': 1, 'manufactures': 1, 'weapons': 1, 'czar': 1, 'nachman': 1, 'ash': 1, 'byron': 1, 'expat': 1, 'soren': 1, 'righteous': 1, 'additionall': 1, 'wakeupamerica': 1, 'vacccine': 1, 'apex': 1, 'introduce': 1, 'comprehensive': 1, 'breakdowns': 1, 'fol': 1, 'stre': 1, 'secon': 1, 'imp': 1, 'edinburgh': 1, 'faceplanted': 1, 'fits': 1, '189': 1, 'sixers': 1, 'celticslfg': 1, 'kings': 1, 'mill': 1, 'allinillinois': 1, 'illinois': 1, 'captain': 1, 'prizer': 1, 'ffs': 1, 'preparedness': 1, 'ability': 1, 'typically': 1, 'fell': 1, 'dice': 1, 'rebelled': 1, 'thid': 1, 'giv': 1, '55000': 1, 'latter': 1, 'rhine': 1, 'westphalia': 1, 'perks': 1, 'greatersecond': 1, 'coercion': 1, 'takin': 1, 'ins': 1, 'presser': 1, '684': 1, 'knowewe': 1, 'wobbly': 1, 'onhere': 1, 'tow': 1, 'slump': 1, 'disappo': 1, 'cancels': 1, 'manag': 1, 'crushingcovid': 1, 'contin': 1, 'covidbegone': 1, 'equates': 1, 'twisting': 1, 'bullying': 1, 'cana': 1, 'barre': 1, 'failing': 1, 'canpoli': 1, 'screws': 1, 'rectalhemorrhage': 1, 'cardiacfailure': 1, 'europeanmedicinesagency': 1, '2301202': 1, 'messager': 1, 'whoknows': 1, 'tragic': 1, 'immoral': 1, 'ortho': 1, 'fiance': 1, '2dose': 1, '1893360': 1, 'dared': 1, 'embassy': 1, 'tirana': 1, 'pumped': 1, '11am': 1, 'degradation': 1, 'beds': 1, 'buried': 1, '16th': 1, 'acct': 1, 'balls': 1, 'struggle': 1, 'speaks': 1, 'newsclevelandexclusive': 1, 'permitted': 1, 'blacktwitter': 1, 'newswecanuse': 1, '2021challenge': 1, 'genuin': 1, 'advisable': 1, 'cann': 1, 'imams': 1, 'fizer': 1, 'medication': 1, 'frustrate': 1, 'estimated': 1, 'expansion': 1, 'bidder': 1, 'honoring': 1, 'purchas': 1, 'depriving': 1, 'conse': 1, 'flood': 1, 'newport': 1, 'ambition': 1, 'comorbidities': 1, 'pang': 1, 'deva': 1, 'usarmy': 1, 'staffing': 1, 'prepai': 1, 'requested': 1, 'housebound': 1, 'cairnhill': 1, 'bray': 1, 'saves': 1, 'gud': 1, 'underwhelming': 1, 'garhoud': 1, 'lowest': 1, 'surgeri': 1, 'faking': 1, 'mulling': 1, 'cathedral': 1, 'medicago': 1, 'erinotoole': 1, 'immunisetostayhealthy': 1, 'matched': 1, '3pm': 1, 'gmt': 1, '328': 1, 'undproud': 1, 'silent': 1, '730': 1, '4am': 1, 'scare': 1, 'skipped': 1, 'pendin': 1, 'solutions': 1, 'livestream': 1, 'drowning': 1, 'originall': 1, 'mams': 1, 'univ': 1, 'crunchie': 1, 'halfwaythere': 1, 'compareat': 1, 'glance': 1, 'unbiasedscience': 1, 'retool': 1, 'piss': 1, 'backtonormal': 1, 'tents': 1, 'installed': 1, 'neutralisation': 1, 'titres': 1, 'impacted': 1, 'formula': 1, 'capitalism': 1, 'anthonyharnden': 1, 'nearl': 1, 'ridge': 1, 'sayin': 1, 'depth': 1, 'aspects': 1, 'epiminutes': 1, 'treasurer': 1, 'josh': 1, 'frydenberg': 1, 'inks': 1, 'syn': 1, 'echoing': 1, 'enrolle': 1, 'cars': 1, 'oneoftwo': 1, 'dade': 1, 'coun': 1, 'submitte': 1, 'sleeve': 1, 'uaearqn': 1, 'mairead': 1, 'adon': 1, 'camillus': 1, 'newmarket': 1, 'thril': 1, 'hoarding': 1, 'spotlight': 1, 'unitednations': 1, 'reversed': 1, 'idiocy': 1, 'woul': 1, 'position': 1, 'feasible': 1, 'adhere': 1, 'moot': 1, 'vulnerabl': 1, 'sandy': 1, 'rpn': 1, 'waveney': 1, 'amidst': 1, 'carbondioxide': 1, 'enemy': 1, 'howev': 1, 'louise': 1, 'lagendijk': 1, 'integrative': 1, 'specializing': 1, 'parody': 1, 'declarations': 1, 'unrelated': 1, 'coincidences': 1, 'becomin': 1, 'cybe': 1, 'strike': 1, 'volunteeringmcr': 1, 'beswick': 1, 'conflicted': 1, 'immunocompromised': 1, 'anthony': 1, 'harries': 1, 'kudakwashe': 1, 'takarinda': 1, 'res': 1, 'insights': 1, 'summit': 1, 'reveal': 1, 'inevitabl': 1, 'majori': 1, 'inevita': 1, 'transmissibility': 1, 'supplying': 1, 'sciencetwitter': 1, 'grill': 1, 'messing': 1, 'vanished': 1, 'balanceiskey': 1, 'intensifies': 1, 'steps': 1, '2p': 1, 'thigh': 1, 'buttocks': 1, 'differently': 1, '750': 1, 'kgh': 1, 'agreements': 1, 'castigates': 1, 'britains': 1, 'nadhim': 1, 'requisition': 1, 'cash': 1, 'relying': 1, 'deserved': 1, 'hither': 1, 'pose': 1, 'juliecheese': 1, 'maxi': 1, 'educated': 1, 'fauciouchi': 1, 'unlimited': 1, '128k': 1, 'intere': 1, 'asha': 1, 'nellie': 1, 'sponsored': 1, 'tu': 1, 'permission': 1, 'gas': 1, 'plastic': 1, 'remains': 1, 'wit': 1, 'insides': 1, 'transhumanism': 1, 'collaboratory': 1, 'densely': 1, 'populated': 1, 'exceptions': 1, 'dailybriefing': 1, 'volume': 1, 'rhd': 1, 'mentally': 1, 'inaug': 1, 'neutralises': 1, 'dispute': 1, 'solved': 1, 'criticisms': 1, 'staring': 1, 'barrel': 1, 'inst': 1, 'multinational': 1, 'domiciled': 1, 'contractual': 1, 'obl': 1, 'getthejab': 1, 'warmed': 1, 'nationa': 1, 'occupy': 1, 'muslims': 1, 'keyboards': 1, 'unusual': 1, 'shld': 1, 'accordingly': 1, 'astrazneca': 1, 'workings': 1, 'professors': 1, 'skerritt': 1, 'alison': 1, 'macmillan': 1, 'summertime': 1, 'flashes': 1, 'immortalize': 1, 'uclahealth': 1, 'halting': 1, 'stems': 1, 'scienceupfirst': 1, 'helps': 1, 'geniuses': 1, 'strug': 1, 'blast': 1, 'funtimes': 1, 'ucla': 1, 'safest': 1, 'rant': 1, 'bicycle': 1, 'vehemently': 1, 'deads': 1, '26th': 1, 'replies': 1, 'paracetamols': 1, 'classmates': 1, 'justify': 1, 'exec': 1, 'reassured': 1, 'reluctant': 1, 'lowering': 1, 'adjusts': 1, 'vaccinationplan': 1, 'expense': 1, 'buyers': 1, 'threatens': 1, 'goodnewscovid': 1, 'fab': 1, 'instrumental': 1, 'faces': 1, 'ethnicminority': 1, '428': 1, 'fills': 1, 'impose': 1, 'cand': 1, 'trapped': 1, 'wederom': 1, 'zelf': 1, 'eigen': 1, 'thepfizer': 1, 'cyber': 1, 'espionage': 1, 'units': 1, 'straightforward': 1, 'bunch': 1, 'demons': 1, 'ineffective': 1, 'therefore': 1, 'shoul': 1, '10x': 1, 'superspread': 1, 'alarm': 1, 'zykl': 1, 'rubbing': 1, 'undoubtedly': 1, 'logistic': 1, 'characteristic': 1, 'calm': 1, 'consensus': 1, 'confluence': 1, 'directives': 1, 'monito': 1, 'morale': 1, 'division': 1, 'hideous': 1, 'febr': 1, 'deathtokhameneisatan': 1, 'tyler': 1, 'perry': 1, 'tylerperry': 1, 'fanclub': 1, 'grow': 1, 'pesicka': 1, 'proprietary': 1, 'marcham': 1, 'vip': 1, 'shuttle': 1, 'transgenic': 1, 'medicati': 1, 'titer': 1, 'indicating': 1, 'igotmyshot': 1, 'vaccinatedagainstcovid': 1, 'believeinscience': 1, 'tantasqua': 1, 'nurselife': 1, 'reddit': 1, 'jadorelargent': 1, 'lpdla': 1, 'tiktok': 1, 'billie': 1, 'sli': 1, 'encourages': 1, 'timelime': 1, 'clean': 1, 'cancellation': 1, '40t': 1, 'essentialworker': 1, 'vibrations': 1, 'converted': 1, 'exploit': 1, 'stormed': 1, 'farrag': 1, 'eau': 1, 'politically': 1, 'backed': 1, '14lb': 1, '13billions': 1, 'covidcanada': 1, 'stuffed': 1, 'alltogethernm': 1, 'pandemiclife': 1, 'hopr': 1, 'alhamdulilah': 1, 'rory': 1, 'mcgoldrick': 1, 'greek': 1, 'syste': 1, 'bernie': 1, 'buckley': 1, 'quietly': 1, 'siobhan': 1, 'lissarda': 1, 'thumbs': 1, 'vaccintations': 1, 'phot': 1, 'resi': 1, 'inaccessible': 1, 'tue': 1, 'exposure': 1, 'maintenance': 1, 'barriers': 1, 'vaccinesideeffects': 1, 'sah': 1, '1347': 1, 'crashed': 1, 'imposing': 1, 'rvi': 1, 'jus': 1, 'thinkingif': 1, 'bigand': 1, 'wealthy': 1, 'sadc': 1, 'singleshot': 1, 'modera': 1, 'teamlevene': 1, 'instruct': 1, 'shielder': 1, '501yv3': 1, 'extrapolating': 1, 'equipm': 1, 'criticise': 1, '2rd': 1, 'gogetyourselfvaccinated': 1, 'halakuwait': 1, 'ktv': 1, '25th': 1, 'scope': 1, 'antics': 1, 'postvaccination': 1, 'mat': 1, 'bb': 1, 'lnp': 1, 'endocytocisendso': 1, '51m': 1, '30m': 1, 'surgical': 1, 'endoscopy': 1, 'spotlights': 1, '19minutes': 1, 'rsmlive': 1, 'reader': 1, 'cna': 1, '113k': 1, 'brandishes': 1, 'halted': 1, 'bellletstalk': 1, 'welfare': 1, 'deviate': 1, 'presc': 1, 'eternally': 1, 'ignoring': 1, 'belligerent': 1, 'conservativeleadererinotoole': 1, 'refle': 1, 'ivax': 1, 'maureen': 1, 'sheridan': 1, '100th': 1, 'withi': 1, 'enfield': 1, 'spoutnik': 1, 'compagnie': 1, 'algeria': 1, 'beardown': 1, 'www': 1, 'syringe': 1, 'av': 1, 'clowns': 1, 'chopper': 1, 'mindful': 1, 'shandro': 1, 'ottawas': 1, 'yql': 1, 'lnn': 1, 'lent': 1, 'insufficient': 1, 'tom': 1, 'lillis': 1, 'regina': 1, 'kilrush': 1, 'overshadow': 1, 'bandwagon': 1, 'rigors': 1, 'srick': 1, 'suitable': 1, 'eugrievance': 1, 'keepingtoagreements': 1, 'circu': 1, 'mod': 1, 'jeuxavecfrontires': 1, 'plays': 1, 'joker': 1, 'dup': 1, 'vaccinerow': 1, 'downfall': 1, 'fired': 1, 'promptly': 1, 'squit': 1, 'astrozeneca': 1, 'willy': 1, 'waving': 1, 'pfantastic': 1, 'pfirst': 1, 'lan': 1, 'midland': 1, 'mullingar': 1, 'resemble': 1, 'wire': 1, 'sinopha': 1, 'ugly': 1, 'strikes': 1, 'unity': 1, 'laboratories': 1, 'allen': 1, 'suede': 1, 'pays': 1, 'lrem': 1, 'lr': 1, 'psg': 1, 'wallstreet': 1, 'pharmaindustry': 1, 'creating': 1, 'collab': 1, 'etgovernment': 1, 'disagreements': 1, 'realpeoplerealvoices': 1, 'substandard': 1, 'janetmoore': 1, 'apnh': 1, 'section': 1, 'obliged': 1, 'polling': 1, 'aztrazeneca': 1, 'eventful': 1, 'naasgeneralhospital': 1, 'injury': 1, 'vaccinetaskforceuk': 1, 'stein': 1, 'sugar': 1, 'eus': 1, 'attitude': 1, 'certa': 1, 'responder': 1, 'previou': 1, 'coul': 1, 'turnaround': 1, 'searing': 1, 'fat': 1, 'technique': 1, 'finnish': 1, 'sariroos': 1, 'instea': 1, 'cooperati': 1, 'chemotherapy': 1, 'sundays': 1, 'scaremongering': 1, 'reputable': 1, 'write': 1, 'begging': 1, 'vdl': 1, 'britons': 1, 'englandvirus': 1, 'blocking': 1, 'recognises': 1, 'northernireland': 1, 'lawmaker': 1, 'rossonwye': 1, 'rachael': 1, 'loftus': 1, 'unfortunate': 1, 'sod': 1, 'routine': 1, 'fed': 1, 'parl': 1, 'goverment': 1, 'melbournecup': 1, 'cl': 1, 'consignment': 1, 'connect': 1, 'varying': 1, 'baseline': 1, 'rhinovirus': 1, 'recipie': 1, 'catholic': 1, 'bishopshas': 1, 'deemed': 1, 'morally': 1, 'permissiblefor': 1, 'catholics': 1, 'bionntech': 1, 'standa': 1, 'slogan': 1, 'pharmocracy': 1, 'newsletters': 1, 'mondayfacts': 1, 'summaries': 1, 'appendices': 1, 'drives': 1, 'privacy': 1, 'premium': 1, 'locke': 1, 'provinces': 1, 'enuff': 1, 'newbies': 1, 'ivermectin': 1, 'ineffici': 1, 'leafle': 1, 'nstopinion': 1, 'kualalumpur': 1, 'houston': 1, 'journalists': 1, 'sorrounding': 1, 'wrexham': 1, 'stresses': 1, 'supp': 1, 'dealing': 1, 'e484k': 1, 'szent': 1, 'rakhus': 1, 'budapest': 1, 'hunter': 1, 'serology': 1, 'breaki': 1, 'printed': 1, 'redbubble': 1, 'rbandme': 1, 'findyourthing': 1, 'peopl': 1, 'snippets': 1, 'industrys': 1, 'palestine': 1, 'mena': 1, 'fragility': 1, 'quarantined': 1, '14days': 1, 'validity': 1, '980': 1, 'mutates': 1, '2017': 1, 'becker': 1, 'benday': 1, 'imagery': 1, 'symbols': 1, 'artists': 1, 'oikeinkirjoitus': 1, 'yleuutiset': 1, 'oikoluku': 1, 'territories': 1, 'hurl': 1, 'responsive': 1, 'framework': 1, 'submit': 1, 'proposals': 1, 'ibrance': 1, 'aliv': 1, 'village': 1, 'proudtovaccinate': 1, 'chuffed': 1, 'kathrin': 1, 'jansen': 1, 'arranged': 1, 'conditionally': 1, 'nz': 1, 'southafricanvariant': 1, 'conds': 1, 'supportiv': 1, 'generalise': 1, 'completion': 1, '2023': 1, 'ukcovidvirus': 1, 'southafricancovid': 1, 'resist': 1, 'swabbing': 1, 'vari': 1, 'gross': 1, 'misrepresentation': 1, 'clarity': 1, 'verse': 1, 'montefioreproud': 1, 'montefiore': 1, 'einsteinstrong': 1, 'definite': 1, 'wearamasksavealife': 1, 'epistemological': 1, 'meltdown': 1, 'capable': 1, 'const': 1, 'supportive': 1, 'ecosystems': 1, 'coronaviruscases': 1, 'covidinfo': 1, 'vaccinecovid': 1, 'ukvaccin': 1, 'subway': 1, 'poles': 1, 'experimenta': 1, '336': 1, 'nphet': 1, 'procured': 1, 'nationalimmunisationadvisory': 1, 'niac': 1, '987': 1, '021': 1, '471': 1, '498': 1, '962': 1, 'debacle': 1, 'disneyland': 1, 'anaheim': 1, 'superpod': 1, 'toystory': 1, '447': 1, 'teamusa': 1, 'runs': 1, 'pesky': 1, 'rigor': 1, 'preferable': 1, 'reanalyse': 1, 'effectivness': 1, 'bekind': 1, 'thoroug': 1, 'lookslikewemadeit': 1, 'eudravigilance': 1, '3001202': 1, '917': 1, 'survivors': 1, 'risen': 1, 'resul': 1, 'camillo': 1, 'irccs': 1, 'covishot': 1, 'cremona': 1, 'lombardy': 1, 'aiolo': 1, 'equipe': 1, 'npr': 1, 'equal': 1, '6pm': 1, 'dumped': 1, 'joh': 1, 'dollars': 1, 'avai': 1, 'premedtwitter': 1, 'chancellor': 1, 'angela': 1, 'excel': 1, 'diminish': 1, 'practicalities': 1, 'vaccinegamestrong': 1, 'fckthecoronavirus': 1, 'veins': 1, 'popping': 1, 'darknet': 1, 'cybercriminal': 1, 'backup': 1, 'examples': 1, 'cousin': 1, 'pap': 1, 'thankfulness': 1, 'takeyourshot': 1, 'criminals': 1, 'prudent': 1, 'moderately': 1, 'lifting': 1, 'rotating': 1, 'vacinnated': 1, 'assures': 1, 'univer': 1, '506': 1, 'feasibility': 1, 'quarters': 1, 'ch': 1, 'fou': 1, 'muzzy': 1, 'otherw': 1, 'malays': 1, 'deta': 1, '238': 1, 'contagion': 1, 'allay': 1, 'tricked': 1, 'miralax': 1, 'ididmypart': 1, 'memes': 1, 'jackieweaverhastheauthority': 1, 'century': 1, 'biked': 1, '12km': 1, '4mi': 1, 'ending': 1, 'goooo': 1, 'bestshot': 1, 'periodically': 1, 'pwme': 1, 'pals': 1, '143': 1, 'brits': 1, 'cal': 1, 'poly': 1, 'pomona': 1, 'levi': 1, 'clara': 1, 'combinations': 1, 'besafeoutthere': 1, 'apolitical': 1, 'misspoke': 1, 'ple': 1, 'honey': 1, '48hours': 1, 'aanda': 1, 'plead': 1, 'cute': 1, 'admis': 1, 'decreasing': 1, 'accepted': 1, 'implementing': 1, 'letsfightcovid': 1, '19together': 1, 'covidsafe': 1, 'dcunurses': 1, 'ns112': 1, 'nhpc': 1, 'file': 1, 'sender': 1, 'beatcovid': 1, 'covers': 1, 'intro': 1, 'passionate': 1, 'uncovered': 1, 'sou': 1, 'recognised': 1, 'jesus': 1, 'christ': 1, 'paint': 1, 'acrylic': 1, 'licensing': 1, '51': 1, 'healthyliving': 1, 'politicslive': 1, 'disclaimer': 1, 'exploring': 1, 'lonza': 1, 'polymun': 1, 'soars': 1, 'lancet': 1, 'uneventful': 1, 'balmy': 1, 'homegrown': 1, 'undercuts': 1, 'rivals': 1, 'tomorro': 1, 'arcturustherapeutics': 1, 'arct': 1, 'aktientip': 1, 'tradegate': 1, 'ibio': 1, 'solely': 1, 'stopp': 1, 'sciencerocks': 1, 'mkhize': 1, 'ramaphosamustfall': 1, 'variantfrom': 1, 'cape': 1, 'cyrilmustgo': 1, '71': 1, 'principle': 1, 'adr': 1, 'administers': 1, 'superheroculture': 1, 'sciencesolves': 1, 'agains': 1, 'assortment': 1, 'vaxxedup': 1, 'nhsthankyou': 1, 'accommodating': 1, 'natur': 1, 'hijack': 1, 'nphcda': 1, 'bridgend': 1, 'forefront': 1, 'retail': 1, 'frenzy': 1, 'leve': 1, '19chile': 1, '9mx': 1, '19france': 1, 'cubrebocas': 1, 'kent': 1, 'belm': 1, 'captured': 1, 'reproducing': 1, 'castellated': 1, 'zensur': 1, 'nebenwirkungen': 1, 'billgatesbioterrorist': 1, 'releasing': 1, 'hospitalisation': 1, 'geometric': 1, 'titers': 1, 'gmts': 1, 'endthepandemic': 1, 'mondaythoughts': 1, 'authorit': 1, 'newsmexico': 1, 'sg': 1, 'jonathan': 1, 'tam': 1, 'lega': 1, 'malburg': 1, 'ordering': 1, 'considerably': 1, 'approaches': 1, 'dataset': 1, 'turnaro': 1, 'vaccinetruth': 1, 'imposed': 1, 'thankfultuesday': 1, 'trilliummanor': 1, 'simcoemanor': 1, '191': 1, 'residen': 1, 'assistedliving': 1, '80stheme': 1, 'elsewhere': 1, 'conversations': 1, 'jesushouse': 1, 'brethren': 1, 'fisioterapia': 1, 'proceed': 1, 'statements': 1, 'breastfeedi': 1, 'thankf': 1, 'immunogenicity': 1, 'sever': 1, 'lengthy': 1, 'feds': 1, '22230': 1, 'metal': 1, 'ox': 1, '9months': 1, 'jubilee': 1, 'sonkoundersiege': 1, '38th': 1, 'metric': 1, 'distract': 1, 'ingredient': 1, 'fussed': 1, 'motherland': 1, 'vaccinesmedium': 1, '15am': 1, 'sweats': 1, 'dozens': 1, 'laws': 1, 'tequila': 1, 'undersigned': 1, 'sucks': 1, 'hospitalization': 1, 'lizard': 1, 'survivor': 1, 'repost': 1, 'transmit': 1, 'indicat': 1, 'competing': 1, 'badly': 1, 'brookviewavillacenter': 1, 'biontechleaks': 1, 'guidelin': 1, 'scam': 1, 'purporting': 1, 'ntd': 1, 'directed': 1, 'covidisairborne': 1, 'bel': 1, 'figs': 1, 'strictest': 1, 'creation': 1, 'q1': 1, 'ambitio': 1, 'laughing': 1, 'pfizercanada': 1, 'khairy': 1, 'jamaluddin': 1, 'andthe': 1, 'centr': 1, 'stayed': 1, 'devoted': 1, 'ener': 1, 'presid': 1, 'glory': 1, 'mistakes': 1, 'valentinesweek': 1, 'boosting': 1, 'australi': 1, 'descriptiom': 1, 'porters': 1, 'attendants': 1, 'roundtrip': 1, 'unread': 1, '122': 1, 'tickets': 1, 'concert': 1, 'definitive': 1, 'signing': 1, '929': 1, '923': 1, 'exhaustion': 1, 'conned': 1, 'violets': 1, 'qua': 1, 'educate': 1, 'keyboard': 1, 'augustaforward': 1, 'preprinted': 1, 'submission': 1, 'syappa': 1, 'mukka': 1, 'thos': 1, 'scaremongerin': 1, 'translating': 1, 'valentines': 1, 'loveyou': 1, 'trumpwannabe': 1, 'upto': 1, '653': 1, 'neutraliz': 1, 'universityhospitalsleicester': 1, 'worldbank': 1, 'grandchildren': 1, 'represents': 1, 'combination': 1, '29250': 1, 'achi': 1, 'politicsbeforecountry': 1, 'accounted': 1, '1385': 1, 'conclusion': 1, 'graph': 1, 'donates': 1, 'northmacedonia': 1, 'aubmc': 1, 'watches': 1, 'impatiently': 1, 'kimjongun': 1, 'fail': 1, 'dprk': 1, 'infe': 1, 'malaysian': 1, 'dri': 1, 'southport': 1, 'cansinobio': 1, 'admi': 1, 'touches': 1, 'sydney': 1, 'biontechvaccine': 1, 'seruminstituteofindia': 1, 'pfizervaccinestudyisrael': 1, 'panorama': 1, '2ndjab': 1, '2jabs': 1, 'waless': 1, 'activity': 1, 'provision': 1, 'largely': 1, 'bee': 1, 'sanctions': 1, 'ayatollahs': 1, 'performing': 1, 'clinicaltrials': 1, 'practically': 1, 'disappe': 1, 'nichole': 1, 'demma': 1, 'admissionsdirector': 1, 'villaattraversepoint': 1, 'vaccinerolloutuk': 1, 'modernaand': 1, 'logisticalsuccess': 1, 'disturbing': 1, 'untimely': 1, 'mounting': 1, 'abo': 1, 'pomo': 1, 'adambuxton': 1, '1stjabdone': 1, 'villaatbradleyestates': 1, 'buone': 1, 'notizie': 1, 'host': 1, 'sgunited': 1, 'togetherstronger': 1, 'outfit': 1, 'finalized': 1, 'boosti': 1, 'peddling': 1, 'theory': 1, '500m': 1, 'andaluca': 1, 'employment': 1, 'eli': 1, 'forty': 1, 'bulk': 1, 'theraputics': 1, 'noble': 1, 'queues': 1, 'flagstaff': 1, 'villaatwestbranch': 1, 'korean': 1, 'trait': 1, 'phases': 1, 'massively': 1, 'perserverence': 1, 'landing': 1, 'mars': 1, 'wea': 1, 'badge': 1, 'lolly': 1, 'fiduciadraghi': 1, '18febbraio': 1, 'camera': 1, 'stronger': 1, 'campaigning': 1, '130': 1, 'peter': 1, 'adminis': 1, 'pfzier': 1, 'varient': 1, 'hdf': 1, 'tis': 1, 'twere': 1, 'wheeew': 1, '828': 1, '257': 1, 'schemes': 1, 'sig': 1, 'hindu': 1, 'satanic': 1, 'ukraine': 1, 'plaque': 1, 'queensvaccinated': 1, 'restarts': 1, 'defer': 1, 'ag': 1, 'gtfi': 1, 'beauty': 1, 'chancellors': 1, 'blessings': 1, 'plasmids': 1, 'bearing': 1, '6bn': 1, 'ecv': 1, 'overjoyed': 1, 'property': 1, 'outlets': 1, 'airbus': 1, 'a330': 1, 'carrier': 1, 'granpa': 1, 'prouder': 1, 'practicing': 1, 'demanding': 1, 'arising': 1, '1a': 1, 'advertisement': 1, 'pregnantwomen': 1, 'recom': 1, 'singaporean': 1, 'wheel': 1, 'fairly': 1, 'necess': 1, 'consequence': 1, 'reevaluation': 1, 'naas': 1, 'celebrated': 1, 'berhad': 1, 'tnb': 1, 'rese': 1, 'michaels': 1, 'rose': 1, 'webster': 1, '26hrs': 1, 'bedtime': 1, 'bridging': 1, 'cayman': 1, 'touring': 1, 'secondary': 1, 'phled': 1, 'bett': 1, 'adultsintheroom': 1, 'wastes': 1, 'swing': 1, 'trum': 1, 'trillion': 1, 'immunesystem': 1, 'nocovidvaccine': 1, 'vaccineskill': 1, 'vaccineinjury': 1, 'visited': 1, 'amateur': 1, 'coat': 1, 'amat': 1, 'scandal': 1, 'log': 1, 'zoeapp': 1, 'womenhealth': 1, 'revises': 1, 'col': 1, '452': 1, '454': 1, 'harsh': 1, 'berliner': 1, 'partly': 1, 'generates': 1, 'ord': 1, 'oma': 1, 'hugged': 1, 'prope': 1, 'pipeline': 1, 'qualitative': 1, 'wonders': 1, 'vaccinedonation': 1, 'doubtful': 1, 'neutralizin': 1, 'vienna': 1, 'gatesofoblivion': 1, 'coursing': 1, 'windingwheel': 1, 'asone': 1, 'commit': 1, 'transportat': 1, 'shoutout': 1, '2shop': 1, 'mh604': 1, 'cbs': 1, 'diamond': 1, 'convoy': 1, 'tightly': 1, 'controlled': 1, 'coincidence': 1, 'faultless': 1, 'journalism': 1, 'yonhap': 1, 'nvc': 1, 'scottythequeuejumper': 1, 'tge': 1, 'hukm': 1, 'distributor': 1, 'europeancouncil': 1, 'europeancommission': 1, 'malaysianairlines': 1, 'goodnews': 1, 'govs': 1, 'protesting': 1, 'justdoit': 1, 'justdidit': 1, 'letsgetthroughthis': 1, 'cheerful': 1, 'gouge': 1, '65dollar': 1, 'europendermanurious': 1, '1sy': 1, 'confiscate': 1, 'factories': 1, 'youngest': 1, 'mmwr': 1, 'amar': 1, 'douglas': 1, 'uggah': 1, 'embas': 1, 'executives': 1, 'lumpur': 1, 'internati': 1, 'lum': 1, 'border': 1, 'contacts': 1, 'stora': 1, 'cidrap': 1, 'wecome': 1, 'seemed': 1, 'onstorm': 1, 'fowards': 1, '080': 1, 'spectacularly': 1, 'covidvaccinesideeffects': 1, 'khabarhub': 1, 'appointed': 1, 'bayan': 1, 'vocal': 1, 'epsilon': 1, 'flown': 1, 'capita': 1, 'scottmorrison': 1, 'wallstreetjournal': 1, 'sometime': 1, 'jags': 1, 'keeley': 1, 'scrolling': 1, 'youll': 1, 'impfluencer': 1, 'em': 1, 'payspace': 1, 'magazine': 1, 'calculations': 1, 'wajba': 1, 'lebaib': 1, 'thumama': 1, 'yesterd': 1, 'vomiting': 1, 'simulation': 1, '166k': 1, '80k': 1, 'techn': 1, 'ethanol': 1, 'epidemiology': 1, 'meded': 1, 'lister': 1, 'grace': 1, 'benevolence': 1, 'disgraceful': 1, 'oped': 1, 'amnesty': 1, 'ci': 1, 'overlap': 1, 'clea': 1, 'sourcing': 1, 'enroll': 1, 'almo': 1, 'hq': 1, 'outstanding': 1, 'visual': 1, 'tob': 1, 'lauded': 1, 'kickstarting': 1, 'wan': 1, 'rosdy': 1, 'policemen': 1, 'outsourced': 1, 'contractor': 1, 'austra': 1, 'taiping': 1, '45am': 1, '15pm': 1, 'presint': 1, 'transported': 1, 'backdrop': 1, '500k': 1, 'rip': 1, 'reprehensible': 1, 'districts': 1, 'pasir': 1, 'kota': 1, 'baru': 1, '30am': 1, 'endorsement': 1, 'sarc': 1, 'contracted': 1, 'viru': 1, 'dispel': 1, 'tmrnews': 1, 'imma': 1, 'esearch': 1, 'beginningoftheend': 1, 'reticence': 1, 'nhstrust': 1, 'rosena': 1, 'commences': 1, 'widesprea': 1, 'excipients': 1, 'daugh': 1, 'wid': 1, 'horrified': 1, 'adversereactions': 1, 'upcoming': 1, 'autoimmunedisease': 1, 'ukraines': 1, 'risked': 1, '100f': 1, 'cutaneous': 1, 'hyperesthesia': 1, 'restless': 1, 'fatig': 1, 'ouchied': 1, 'owed': 1, 'ancora': 1, 'sovrapposta': 1, 'dimenticatelo': 1, '655': 1, 'independently': 1, 'misery': 1, 'extraordinarily': 1, 'mn': 1, 'hopemarsmission': 1, 'zaini': 1, 'hussin': 1, 'jjvaccine': 1, 'gin': 1, 'soaked': 1, 'golden': 1, 'raisins': 1, 'soak': 1, 'covaxed': 1, 'yahoo': 1, 'vaccinesworkgb': 1, 'staywoque': 1, 'pharaoh': 1, 'followme': 1, 'cheeky': 1, 'enoughisenough': 1, 'economy': 1, 'capefearvalley': 1, 'awhile': 1, 'dorset': 1, 'types': 1, 't1d': 1, 'activation': 1, 'hoo': 1, 'groundb': 1, 'woopee': 1, 'postop': 1, 'mylifematters': 1, 'doingthework': 1, 'woohoo': 1, 'valued': 1, 'everyb': 1, 'winmember': 1, 'covered': 1, 'peru': 1, 'nursling': 1, 'pfizervaccines': 1, 'resea': 1, 'champ': 1, 'mari': 1, 'sim': 1, 'thriving': 1, 'weigh': 1, '232': 1, 'needier': 1, 'deprived': 1, 'perso': 1, 'whiles': 1, 'purc': 1, 'ronald': 1, 'sav': 1, 'sunderland': 1, 'oneteamoneouh': 1, 'multilingual': 1, 'pardon': 1, 'translation': 1, 'murky': 1, 'depths': 1, 'flailed': 1, 'newholmehospital': 1, 'nextgen': 1, 'beautifully': 1, 'catering': 1, 'blimey': 1, 'weren': 1, 'inches': 1, 'circumference': 1, 'unimpressed': 1, 'requirement': 1, 'eased': 1, 'temperat': 1, 'snowfallfx': 1, 'stimulates': 1, 'analyses': 1, 'utterly': 1, 'rcvg': 1, 'sputnikupdates': 1, 'package': 1, 'insert': 1, 'ohboy': 1, 'halls': 1, 'montezuma': 1, 'yayyy': 1, 'woulden': 1, 'rugby': 1, 'dissed': 1, 'shill': 1, 'exempt': 1, 'vaccinepassport': 1, 'fel': 1, 'lavander': 1, 'pottery': 1, 'cats': 1, 'moms': 1, 'traces': 1, 'fulani': 1, 'tribes': 1, 'nhsworkerandproud': 1, '2day': 1, 'teamgp': 1, 'stillalive': 1, 'oromocto': 1, 'brunswick': 1, 'structure': 1, 'artbynet': 1, 'hurtyarm': 1, 'indigestion': 1, 'ghanaians': 1, 'employ': 1, 'cuomomustresign': 1, 'cuomoliedpeopledied': 1, 'ceos': 1, 'industries': 1, 'traders': 1, 'purportedly': 1, 'download': 1, 'speeds': 1, 'outrageous': 1, 'suck': 1, 'miramar': 1, 'locations': 1, 'restarted': 1, 'executed': 1, 'accord': 1, 'no2': 1, '720': 1, 'huzzah': 1, 'increased': 1, 'containment': 1, 'unheard': 1, 'traveled': 1, 'shkagamik': 1, 'peggy': 1, '92nd': 1, 'statistic': 1, 'wizardry': 1, 'boo': 1, 'culture': 1, 'freefood': 1, 'knowthefacts': 1, 'knowthetruth': 1, 'questionmore': 1, 'implies': 1, 'treasurered': 1, 'malaysiavaccination': 1, 'greatly': 1, 'hospitalised': 1, '100daysofcode': 1, 'codenewbies': 1, 'feelinf': 1, 'middleeast': 1, 'stokes': 1, 'firstnations': 1, 'indigenous': 1, 'flipping': 1, 'rebecca': 1, 'waitin': 1, 'administrators': 1, 'solano': 1, 'twantano': 1, 'nbc': 1, 'newholme': 1, 'tiina': 1, 'improved': 1, 'examining': 1, 'eye': 1, 'sugars': 1, 't1dlookslikeme': 1, 'diabetes': 1, 'indians': 1, 'campbell': 1, '7th': 1, 'cheering': 1, 'significantl': 1, 'trav': 1, 'est': 1, 'evolving': 1, 'postman': 1, 'bay': 1, 'ff': 1, 'imstillstanding': 1, 'everyoneworking': 1, 'rehearsed': 1, 'orderly': 1, 'antidote': 1, 'nationalis': 1, 'alhamdu': 1, 'lillaahi': 1, 'havelockroad': 1, 'brighton': 1, 'theyneeditmore': 1, 'pivot': 1, 'mitigation': 1, 'vaccinesavelives': 1, 'shgagamik': 1, 'colonialism': 1, 'financing': 1, 'terrorism': 1, 'item': 1, 'iamkristiejanel': 1, 'vaccinesafetyadvocate': 1, 'sara': 1, 'stickles': 1, 'swedish': 1, 'aneurysm': 1, 'medgar': 1, 'evers': 1, 'overcome': 1, 'beaten': 1, 'newest': 1, 'notasyoungaswewere': 1, 'effcti': 1, 'modernajab': 1, 'thedomestically': 1, 'menteri': 1, 'besar': 1, 'hasni': 1, 'mohammad': 1, '034': 1, 'identifi': 1, 'mank': 1, 'terminal': 1, 'yesvax': 1, 'horses': 1, 'loves': 1, 'hesitant': 1, 'epidemic': 1, 'oxyge': 1, '57': 1, '415': 1, 'inviting': 1, 'resear': 1, 'eyebrows': 1, 'waxed': 1, 'unibrow': 1, 'snapped': 1, 'butting': 1, 'aboutery': 1, 'dudewheresmyvaccine': 1, 'carrie': 1, 'madej': 1, 'analysed': 1, 'ruralwestprimarycarenetwork': 1, 'reall': 1, 'singl': 1, 'superb': 1, 'bookmark': 1, 'casualties': 1, 'hx': 1, '508': 1, '845': 1, '829': 1, '465': 1, 'tot': 1, 'housing': 1, 'zuraida': 1, 'kamaruddin': 1, 'dispatched': 1, 'staysafewithijn': 1, 'colombia': 1, 'americas': 1, 'cherry': 1, 'relax': 1, 'litt': 1, 'wax': 1, 'realworld': 1, 'massvaccination': 1, 'sym': 1, 'dizziness': 1, 'mydubai': 1, 'qualify': 1, 'teacher': 1, 'revved': 1, 'prett': 1, 'fightcoronavirus': 1, 'weasels': 1, 'erectilefunction': 1, 'pde': 1, '5inhibitors': 1, 'upd': 1, 'majoroops': 1, 'musicartist': 1, 'kfirmusic': 1, 'treatmentupdate': 1, 'stra': 1, 'yipeeeee': 1, 'serotonin': 1, 'thinner': 1, 'covidhield': 1, 'gla': 1, 'tricks': 1, 'theflash': 1, 'pack': 1, 'southcentral': 1, 'nottodaycovid': 1, 'cat': 1, 'exceptionally': 1, 'lanett': 1, 'alabama': 1, 'locatio': 1, 'lotto': 1, 'heineken': 1, 'hash': 1, 'brownies': 1, 'wbu': 1, 'dubaihealthauthority': 1, 'expanded': 1, 'internationalwomensday': 1, 'defeating': 1, 'relies': 1, 'allocations': 1, 'nytough': 1, 'kiddo': 1, 'visualization': 1, 'coincidentally': 1, 'climate': 1, 'electorates': 1, 'symbolic': 1, 'whom': 1, 'czechrepublic': 1, 'headac': 1, 'hamiltonhealthpartners': 1, 'hamont': 1, 'cleaned': 1, 'dresser': 1, 'closet': 1, 'thrown': 1, 'bunc': 1, 'visits': 1, 'lun': 1, 'firts': 1, 'yippee': 1, 'benefit': 1, 'phelanlucky': 1, 'illinoisdhs': 1, 'dupagecounty': 1, 'veteransforvaccines': 1, 'veteranslivesmatter': 1, 'didmypart': 1, 'vmacnola': 1, 'millio': 1, 'covidvaccinearrives': 1, 'acne': 1, 'rm60': 1, 'shopee': 1, 'conf': 1, 'chart': 1, 'illuminati': 1, 'contacted': 1, 'homestretch': 1, 'throw': 1, 'muzza': 1, 'bizza': 1, 'murray': 1, 'bridge': 1, 'wisconsin': 1, 'fantast': 1, 'assumption': 1, 'chronologically': 1, 'etiologically': 1, 'profiteering': 1, 'extortion': 1, 'airplane': 1, 'etiqu': 1, 'naci': 1, 'covering': 1, 'liberal': 1, 'dea': 1, 'subcontracting': 1, 'woes': 1, 'mount': 1, 'rougher': 1, 'badgers': 1, 'duvet': 1, 'echofirst': 1, 'epeeps': 1, 'male': 1, 'frequent': 1, 'falls': 1, 'sufficient': 1, 'robu': 1, 'convalescent': 1, 'sector': 1, 'opted': 1, 'flaws': 1, 'larry': 1, 'averse': 1, 'mysejahtera': 1, 'impeccably': 1, 'weeeeeeeee': 1, 'cking': 1, 'mediocre': 1, 'huntingtonhospital': 1, 'huntingtonstaff': 1, 'onedown': 1, 'brooklynites': 1, 'suny': 1, 'downstate': 1, 'texted': 1, 'dates': 1, 'subsidized': 1, 'ilk': 1, 'asimi': 1, 'oldum': 1, 'joyful': 1, 'gastarbeiter': 1, 'staffs': 1, 'texan': 1, 'dallas': 1, 'pee': 1, 'vaccineimpact': 1, 'morbidity': 1, 'subst': 1, 'godblessqatar': 1, 'endometriosis': 1, 'analysts': 1, '437': 1, 'albertans': 1, '157': 1, '244': 1, 'hospitalcimasanitas': 1, 'subcontractors': 1, 'budgets': 1, 'ourselves': 1, 'hoc': 1, 'yday': 1, '55pm': 1, 'hhhhhhhhhhhhhhhhhhhhhhhhhhhhhhhhh': 1, 'restaurants': 1, 'bars': 1, 'androids': 1, 'puurs': 1, 'tens': 1, 'yu': 1, 'propoganda': 1, 'warranted': 1, 'adventures': 1, 'trusting': 1, 'wished': 1, 'flobian': 1, 'prez': 1, 'downwards': 1, 'systematic': 1, 'insider': 1, 'bloods': 1, 'evident': 1, 'lately': 1, 'russians': 1, 'exporting': 1, 'factual': 1, 'vaacinated': 1, 'finalise': 1, 'obtain': 1, 'prob': 1, 'vaccineinclude': 1, 'longing': 1, 'oohh': 1, 'situ': 1, 'inserting': 1, 'dressed': 1, 'finery': 1, 'proved': 1, 'sp': 1, 'drfaisalsultan': 1, 'prompt': 1, 'discussed': 1, 'inr': 1, 'warfarin': 1, 'anticoagulants': 1, 'pulmonaryembolism': 1, 'identified': 1, 'collected': 1, 'emergence': 1, 'coronavi': 1, 'optional': 1, 'wel': 1, 'enkel': 1, 'korte': 1, 'termijn': 1, '25929': 1, '38971': 1, 'compl': 1, '60mln': 1, '5mln': 1, 'bent': 1, 'undermines': 1, 'hardball': 1, 'triple': 1, 'delayi': 1, '846': 1, 'gvts': 1, 'assets': 1, 'sovereignty': 1, 'tater': 1, 'seconddosevaccine': 1, 'husbandandwife': 1, 'cominghomesoon': 1, 'vaccinesaveslives': 1, 'distilling': 1, 'duration': 1, 'passage': 1, 'bangladeshi': 1, 'interna': 1, 'tips': 1, 'stretch': 1, 'confi': 1, 'forego': 1, 'spre': 1, 'blackmailing': 1, 'parenting': 1, 'posting': 1, 'flushe': 1, 'symp': 1, 'instills': 1, 'xbox': 1, 'normaly': 1, 'recommanded': 1, 'morbidities': 1, 'sooner': 1, 'orangery': 1, 'previ': 1, 'mlhu': 1, 'extends': 1, '112': 1, 'profound': 1, 'marys': 1, 'installin': 1, 'wearthedamnmask': 1, 'range': 1, 'mivacuna': 1, 'xi': 1, 'cooling': 1, 'spaces': 1, 'iow': 1, 'lindungdirilindungsemua': 1, 'vaksinselamat': 1, 'coronavaccinatie': 1, 'piling': 1, 'payers': 1, 'roeme': 1, 'proble': 1, 'fomo': 1, 'purebarre': 1, 'studio': 1, 'oneplateau': 1, 'stimul': 1, 'vaccinequity': 1, 'damaged': 1, 'manuf': 1, 'primera': 1, 'yomevacuno': 1, '3021': 1, '10marzo': 1, 'quinto': 1, '210': 1, 'lat': 1, 'addenbrooke': 1, 'kw': 1, 'latepost': 1, 'assumed': 1, 'neutralized': 1, 'bung': 1, 'moktar': 1, 'shear': 1, 'audacity': 1, 'establishment': 1, 'amuses': 1, 'threaten': 1, 'wanderlust': 1, 'bodys': 1, 'kindness': 1, 'universally': 1, 'movie': 1, 'consortium': 1, 'marvel': 1, 'decals': 1, 'controversialvaccines': 1, '11032021': 1, 'normalitysoonplease': 1, 'sympt': 1, 'outcomes': 1, 'asympto': 1, 'tags': 1, 'stability': 1, 'integrity': 1, 'iphone': 1, 'stores': 1, 'farmlaws': 1, 'bharatbandh': 1, 'femmes': 1, 'ironfx': 1, 'broker': 1, 'google': 1, 'dangers': 1, 'cancers': 1, 'understa': 1, 'swarmed': 1, 'walkers': 1, 'classic': 1, 'scene': 1, 'fckwit': 1, '119': 1, 'coronavirusworldwideupdate': 1, 'hkg': 1, 'psychological': 1, 'insurmountable': 1, 'ther': 1, 'frederiksen': 1, 'happyfriday': 1, 'fridayfeeling': 1, 'fridayvibes': 1, '200m': 1, 'thnks': 1, 'processed': 1, 'johnsonandjohnsonvaccines': 1, 'multimillion': 1, 'lawsuit': 1, 'fd': 1, 'polk': 1, 'complicaties': 1, 'perfec': 1, 'stitched': 1, 'blackmai': 1, 'busier': 1, 'handled': 1, 'nsw': 1, 'diagnosed': 1, 'kwun': 1, 'tung': 1, 'patty': 1, 'jealous': 1, 'buildi': 1, 'fulfil': 1, 'duties': 1, 'nur': 1, 'hidayah': 1, 'feruz': 1, 'tak': 1, 'numpty': 1, 'tattoos': 1, 'goth': 1, 'adham': 1, 'baba': 1, 'keys': 1, 'req': 1, 'commercial': 1, 'expec': 1, 'predawn': 1, 'dispatch': 1, 'xalapa': 1, 'sunburn': 1, 'tension': 1, 'violation': 1, '183': 1, 'japan': 1, 'initiated': 1, 'howeve': 1, 'sys': 1, 'ying': 1, 'pun': 1, 'quic': 1, '107m': 1, '107': 1, '1millionvaccinatedus': 1, 'motheringsunday': 1, 'feelinggrateful': 1, 'asean': 1, 'armpit': 1, 'travs': 1, '98': 1, 'es': 1, 'impfschaden': 1, 'rational': 1, 'reflected': 1, 'cont': 1, 'cacy': 1, 'eurobranch': 1, 'peraspera': 1, 'waynedyer': 1, 'deniswaitley': 1, 'scientifically': 1, 'accurate': 1, 'pins': 1, 'cente': 1, 'poorer': 1, 'bases': 1, 'despicable': 1, 'busting': 1, 'sot': 1, 'initi': 1, 'incentive': 1, 'instances': 1, 'saling': 1, 'anyo': 1, 'rien': 1, 'suse': 1, 'respec': 1, 'pacemaker': 1, 'fitted': 1, 'sel': 1, '366': 1, 'lick': 1, 'undermining': 1, 'negotiations': 1, 'coworker': 1, 'fucovid': 1, 'vaxhole': 1, 'contact': 1, 'sab': 1, '40hrs': 1, 'northidaho': 1, 'reproductive': 1, 'depo': 1, 'nc': 1, 'tx': 1, 'wild': 1, 'pegnancy': 1, 'newb': 1, 'antivaxx': 1, 'broadway': 1, 'woooohooooo': 1, 'tocca': 1, 'cannoli': 1, 'contradiction': 1, 'gib': 1, 'cornmill': 1, 'regs': 1, 'jones': 1, 'deadl': 1, 'disproportionately': 1, 'populations': 1, 'differrent': 1, 'secondjab': 1, 'stumbling': 1, 'convenience': 1, 'manu': 1, 'europeancountries': 1, 'accelerated': 1, 'quart': 1, 'yellow': 1, 'cards': 1, 'thrombotic': 1, '10m': 1, 'safevaccines': 1, 'poked': 1, 'increas': 1, 'replace': 1, 'bossche': 1, 'videoviral': 1, 'interference': 1, 'obvioussnark': 1, 'derry': 1, 'omagh': 1, 'enniskillen': 1, 'spahn': 1, 'queued': 1, 'juiced': 1, 'default': 1, 'scheduling': 1, 'vaccineted': 1, 'deadline': 1, '24k': 1, 'earl': 1, 'unio': 1, '17marzo': 1, 'sexto': 1, 'invitations': 1, 'parties': 1, 'dinners': 1, 'cocktails': 1, 'drinks': 1, '746': 1, 'administred': 1, 'comme': 1, 'tarihe': 1, 'bir': 1, 'trkiye': 1, 'hehe': 1, 'bubbles': 1, 'thankyouamazon': 1, 'dhlexpress': 1, 'gilby': 1, 'individu': 1, 'girlboss': 1, 'gaslight': 1, 'gatekeep': 1, 'federalfundedresearch': 1, 'privateinvestmentfundedresearch': 1, 'teamkentucky': 1, 'fullyvacinnated': 1, 'getvacinnated': 1, 'letsbeatcovid': 1, 'citi': 1, 'naive': 1, 'reputation': 1, 'kuwaittimes': 1, 'screenshots': 1, '420': 1, '670': 1, 'opportunities': 1, 'nana': 1, 'cherche': 1, 'sont': 1, 'stocker': 1, 'musician': 1, 'harp': 1, 'roadforabetterandsaferworld': 1, 'intended': 1, 'abdul': 1, 'rahman': 1, 'bizri': 1, 'eurasianism': 1, 'preach': 1, 'productivity': 1, 'labour': 1, 'devd': 1, 'eradication': 1, 'recognized': 1, 'yankee': 1, 'stadiums': 1, 'bar': 1, 'buffalo': 1, 'fot': 1, 'kic': 1, 'episodes': 1, 'distal': 1, 'anticoagulation': 1, 'uhcw': 1, 'bleedin': 1, 'tesco': 1, 'tuppenny': 1, 'argentina': 1, 'hegemonic': 1, 'envelope': 1, 'burst': 1, 'outstan': 1, 'noticeabl': 1, 'letta': 1, 'recoveryplan': 1, '19marzo': 1, 'draghi': 1, 'mont': 1, 'recall': 1, 'posters': 1, 'vecto': 1, 'p1': 1, 'covidbrazil': 1, 'attacks': 1, 'binging': 1, 'banana': 1, 'leaf': 1, 'rice': 1, 'hamburg': 1, 'gentle': 1, 'livinginabubble': 1, 'nextnormal': 1, 'milpitas': 1, 'conscientious': 1, 'waist': 1, 'lim': 1, '820': 1, 'stricken': 1, 'countr': 1, 'portland': 1, 'lusailcity': 1, 'drivethru': 1, 'weighs': 1, '25lbs': 1, 'pho': 1, 'helpers': 1, 'reel': 1, '47': 1, 'janatacurfew': 1, 'admits': 1, 'vaccinatedatsunnybrook': 1, 'stepdad': 1, 'era': 1, 'frankenstein': 1, 'gatesofhell': 1, 'noticeable': 1, 'freaking': 1, 'brotherly': 1, 'bonding': 1, 'expl': 1, 'schwarz': 1, 'mainly': 1, 'embattled': 1, 'mentionened': 1, 'srf': 1, 'rona': 1, 'iloveqatar': 1, 'thankgod': 1, 'yang': 1, 'dipertua': 1, 'juhar': 1, 'mahiruddin': 1, 'coronavirusproduction': 1, 'borders': 1, 'grape': 1, 'handsome': 1, 'darling': 1, 'provi': 1, 'bless': 1, '14th': 1, '66': 1, 'veeeeerryyy': 1, 'educational': 1, 'subsided': 1, 'adverseevents': 1, 'repor': 1, 'bother': 1, 'getyourshot': 1, 'muslimlivesmatter': 1, 'cst': 1, 'smokers': 1, 'mee': 1, 'lightattheendofthetunnel': 1, '27th': 1, 'sacramento': 1, '10535': 1, 'isolating': 1, 'locsin': 1, 'subs': 1, 'snapchat': 1, 'qatarairways': 1, 'bts': 1, 'mcw': 1, 'mmrna': 1, 'ribosomes': 1, 'albalushi': 1, 'hooray': 1, 'upfront': 1, 'disruption': 1, '24marzo': 1, 'sptimo': 1, '235': 1, 'claire': 1, 'genderequality': 1, 'icelanders': 1, 'engage': 1, 'falsification': 1, 'manipulation': 1, 'bummer': 1, 'sahpra': 1, 'iartg': 1, '210102': 1, '210104': 1, 'packa': 1, 'sloan': 1, 'kettering': 1, 'inactivates': 1, 'tumor': 1, 'suppressing': 1, 'meaning': 1, 'partying': 1, 'springbreak': 1, 'highlands': 1, 'nmamdi': 1, 'lockdownanniversary': 1, 'flowing': 1, 'diary': 1, 'reflect': 1, 'goodness': 1, 'goldenkamuy': 1, 'demonslayer': 1, 'commoners': 1, 'beacon': 1, 'thanking': 1, '752': 1, '308': 1, 'popul': 1, 'favorable': 1, 'thrombosis': 1, 'ana': 1, 'sle': 1, 'bullous': 1, 'develops': 1, 'effecti': 1, 'helplessness': 1, 'assist': 1, 'procuring': 1, 'harnessed': 1, 'fvckin': 1, 'hives': 1, 'impfstofftest': 1, 'fault': 1, 'carriers': 1, 'controversies': 1, 'empty': 1, 'wandering': 1, 'nobelprize': 1, 'cautious': 1, 'lifestyle': 1, 'nanoparticles': 1, 'canadianvaccineswoes': 1, 'justintrudeaupm': 1, 'didnthurtabit': 1, 'rouge': 1, 'popula': 1, 'internet': 1, 'hiking': 1, 'er': 1, '259': 1, '649': 1, 'smallest': 1, 'accor': 1, 'efficacies': 1, 'newpassport': 1, 'mobile': 1, 'vermonts': 1, 'homebound': 1, 'mudseason': 1, 'mudding': 1, 'vsu': 1, 'jyy': 1, 'gener': 1, 'ride': 1, 'opa': 1, 'riding': 1, 'mower': 1, 'keepingonpositiveside': 1, 'clubs': 1, 'upyourscovid': 1, 'readiness': 1, 'scan': 1, 'haberturk': 1, '2l': 1, 'dir': 1, 'bromsgrove': 1, 'weight': 1, 'dreams': 1, 'ransom': 1, '18bn': 1, 'revenue': 1, 'aw': 1, 'gots': 1, 'tenfeettallandbulletproof': 1, 'sofarsogood': 1, 'missed': 1, 'trick': 1, 'upping': 1, 'redcarpet': 1, '2vaccine': 1, 'nasopharyngeal': 1, 'wereallinthistogether': 1, 'medicinesagency': 1, 'graphic': 1, 'eppic': 1, '2pm': 1, 'pdt': 1, 'er8727': 1, '1250': 1, '26mar': 1, '48c': 1, 'experiments': 1, '100c': 1, 'framing': 1, 'betterthanchristmas': 1, 'halix': 1, 'leiden': 1, 'collision': 1, 'delhihighcourt': 1, 'eusummit': 1, 'repeatedly': 1, 'afr': 1, 'interactive': 1, 'plants': 1, 'bio': 1, 'vacaciones': 1, 'vaccinonontitemo': 1, 'transmissable': 1, 'bien': 1, 'sciencerules': 1, 'staving': 1, 'sy': 1, 'covidwar': 1, 'consists': 1, '460': 1, 'sde': 1, '48h': 1, 'experienc': 1, 'aching': 1, 'describe': 1, '1100': 1, 'krista': 1, 'brained': 1, 'elbow': 1, 'fantastically': 1, 'debt': 1, 'convinced': 1, 'amazed': 1, 'varian': 1, 'corrected': 1, 'upward': 1, '395': 1, 'youth': 1, 'grasp': 1, 'congratula': 1, 'assessing': 1, 'concl': 1, 'stanford': 1, 'drops': 1, 'garbage': 1, 'schools': 1, 'arthritis': 1, 'passports': 1, '004': 1, '958': 1, 'lifts': 1, 'simplistic': 1, 'eyed': 1, 'monster': 1, 'coronavirusus': 1, 'nanobots': 1, 'uhuru': 1, 'ruto': 1, 'vaxupil': 1, 'frame': 1, 'highriskcovid': 1, 'getvaxxed': 1, 'instructive': 1, 'teenmom': 1, 'getitdone': 1, 'twins': 1, 'baseball': 1, 'targetfield': 1, 'pinot': 1, 'grigio': 1, 'dried': 1, 'norfolk': 1, 'militarycircle': 1, 'notch': 1, 'diff': 1, 'menopausal': 1, 'janssenvaccine': 1, 'departments': 1, 'girl': 1, 'fortuitous': 1, 'prescient': 1, 'odds': 1, 'gianteaglepharmacy': 1, 'heinzfield': 1, 'euren': 1, 'opfer': 1, '620': 1, 'relaxation': 1, 'procedures': 1, 'vaccinatestate': 1, 'covidpassport': 1, 'dedic': 1, 'observed': 1, 'hogging': 1, 'teenagers': 1, 'folk': 1, 'pleasant': 1, 'orga': 1, 'yer': 1, 'vaccinetrial': 1, 'tolerat': 1, 'covidupdates': 1, '260': 1, 'antib': 1, 'youths': 1, '20h': 1, 'confinementsaison': 1, 'ratio': 1, 'protectors': 1, 'waterproof': 1, 'matches': 1, 'besides': 1, 'beef': 1, 'shipm': 1, 'firstshot': 1, '13authorized': 1, 'ad26cov2s': 1, 'azd': 1, '1222': 1, 'ad5ncov': 1, 'expand': 1, 'netwo': 1, 'forcing': 1, 'humbly': 1, 'chemist': 1, 'prefe': 1, 'herculean': 1, 'mitsotakis': 1, 'consignm': 1, 'fails': 1, 'geld': 1, 'encouragin': 1, 'helena': 1, 'belie': 1, 'choosetovaccinate': 1, 'eastersunday': 1, 'ambassador': 1, 'transmitted': 1, 'axillary': 1, 'enlarged': 1, 'size': 1, 'mke': 1, 'milwaukee': 1, 'tablet': 1, 'acetaminophen': 1, 'junk': 1, 'oxbridge': 1, 'milder': 1, 'presently': 1, '114': 1, '124': 1, '38c': 1, 'drank': 1, 'lay': 1, 'sensitivity': 1, '8p': 1, 'symptomat': 1, 'doingmypart': 1, 'saturdaymorning': 1, 'wereinoculated': 1, 'vaccinedropped': 1, 'metallic': 1, 'prelim': 1, 'miloszeman': 1, 'andrejbabis': 1, 'czec': 1, 'avondale': 1, 'aprilfoolsprank': 1, 'arabnews': 1, 'gulfdaily': 1, 'stabby': 1, 'onedownonetogo': 1, 'pfecolleague': 1, '770': 1, '706': 1, 'gotmyshot': 1, 'twoanddone': 1, 'gr8': 1, 'shook': 1, 'nause': 1, 'stomach': 1, 'vaccinenews': 1, 'fools': 1, '927': 1, 'demonstrates': 1, '162b2s': 1, 'receding': 1, '19vaccinated': 1, 'iloveimmunology': 1, 'hereditaryspherocytosis': 1, 'pinky': 1, 'thanksnhs': 1, 'noaprilfool': 1, 'aprilfoolsday': 1, 'significance': 1, 'vaxxine': 1, 'waters': 1, 'vacdatassup': 1, 'gneden': 1, 'korkan': 1, 'yasindaki': 1, 'ben': 1, 'simdi': 1, 'saskin': 1, 'dll': 1, 'terming': 1, 'unacceptably': 1, 'usine': 1, 'allemagne': 1, 'infoheaders': 1, 'ipl': 1, 'thenews': 1, 'landd': 1, 'geonews': 1, 'feedback': 1, 'groupme': 1, 'fixin': 1, 'pfizeratkaiser': 1, 'lasting': 1, 'operationsafe': 1, '1stshotdone': 1, 'cerner': 1, 'papal': 1, 'charities': 1, 'migrant': 1, 'implicit': 1, 'appreciation': 1, 'immigration': 1, 'topline': 1, 'pfpfizeruscom': 1, 'cp24': 1, 'regul': 1, 'sinopharmand': 1, 'freetibet': 1, 'xijinping': 1, 'vakcinisana': 1, 'noussachons': 1, '07': 1, 'coincides': 1, 'worldealthay': 1, 'sincere': 1, 'permane': 1, 'hiu': 1, 'kwong': 1, 'intake': 1, 'outtake': 1, 'butt': 1, 'lessened': 1, 'sea': 1, 'sinovacvaccine': 1, 'fullyvaxxed': 1, 'nosymptoms': 1, 'euactnow': 1, 'generally': 1, 'consistent': 1, 'topped': 1, 'voting': 1, 'teekkr': 1, 'ederim': 1, 'danke': 1, '450m': 1, 'lri': 1, 'onestepcloser': 1, 'southern': 1, 'campus': 1, 'mabbe': 1, 'getvaccienated': 1, 'tiz': 1, 'reggie': 1, 'lewis': 1, 'professiona': 1, 'khybermail': 1, 'newspapers': 1, 'epaper': 1, 'newsnight': 1, 'suspect': 1, 'ewcovid': 1, 'steer': 1, 'felizlunes': 1, '5abril': 1, 'noveno': 1, 'unveiled': 1, 'bh': 1, 'choise': 1, 'houseboun': 1, 'windows': 1, 'fecks': 1, 'microsoft': 1, 'countereffective': 1, '55s': 1, 'twitterkurds': 1, 'hungarianseverywhere': 1, 'proudhungarian': 1, 'hawaii': 1, 'ooooh': 1, 'sizeable': 1, 'bump': 1, 'rash': 1, 'tho': 1, 'mfg': 1, 'ing': 1, 'pfizerd': 1, 'woooo': 1, 'introducing': 1, 'fashion': 1, 'wearitonyoursleeve': 1, 'ennemy': 1, 'zelensky': 1, 'ukrainian': 1, 'nationalists': 1, 'unp': 1, 'possib': 1, 'vast': 1, 'deliveri': 1, 'conglomerates': 1, 'individ': 1, 'acting': 1, 'olemiss': 1, 'hosipal': 1, 'drkatalinkariko': 1, 'gang': 1, 'auspoi': 1, '000001': 1, 'exhilarated': 1, 'pfizerfam': 1, 'survived': 1, '170': 1, 'articl': 1, 'vacay': 1, '2savoir': 1, 'motor': 1, 'speedway': 1, 'rev': 1, 'toby': 1, 'adorable': 1, 'blessedandgrateful': 1, 'whyismycellsignalsuddenlystronger': 1, 'ank': 1, 'psyched': 1, 'mybrotherskeeper': 1, 'maskwork': 1, 'jean': 1, 'healthnewsflash': 1, 'jealousy': 1, 'popularity': 1, 'plots': 1, 'educat': 1, 'vola': 1, 'topstars': 1, 'annoying': 1, 'punched': 1, 'socialnewsxyz': 1, 'institutes': 1, 'launching': 1, '1000s': 1, 'describing': 1, 'wonderland': 1, 'amuseme': 1, 'seconddosedone': 1, 'sograteful': 1, 'fam': 1, 'orredi': 1, 'suppo': 1, 'ridiculously': 1, 'horse': 1, 'prov': 1, 'llap': 1, 'trumpvirus': 1, 'housepfizer': 1, 'infect': 1, '142': 1, 'africancoronavirus': 1, 'defenses': 1, 'centralvista': 1, 'royalties': 1, 'element': 1, 'letiltott': 1, 'krds': 1, 'miatt': 1, 'abudhabi': 1, 'b1617': 1, 'countrys': 1, 'vaccinatedinottawa': 1, 'fightagainstcovid': 1, 'montreal': 1, 'irvine': 1, 'chelsea': 1, 'vacunasparalosvenezolanos': 1, 'vacinanobracoecomidanoprato': 1, 'vacinaja': 1, 'gawa': 1, 'ng': 1, 'sayatelahdivaksini': 1, 'ivebeenvaccinated': 1, 'herzegovina': 1, 'impportant': 1, 'remaining': 1, 'coh': 1, 'westernbalkans': 1, 'vaunts': 1, 'notocovid': 1, 'fordmotorcompany': 1, 'uaw': 1, 'clottyfrommarketing': 1, 'katalinkarikorocks': 1, 'july': 1, 'realized': 1, 'rzteforu': 1, 'manuscr': 1, 'booking': 1, 'snobbery': 1, 'moderns': 1, '5gfullyactivated': 1, 'boys': 1, 'terrific': 1, 'forwar': 1, 'cvt': 1, 'truckload': 1, 'rang': 1, 'stiff': 1, 'noticeab': 1, 'boomer': 1, 'cleveland': 1, 'couch': 1, '10billion': 1, 'offset': 1, 'reductio': 1, 'amap': 1, 'coronavaccination': 1, 'pregnantwoman': 1, 'betterthanyou': 1, 'drinkinglemonade': 1, 'waitrose': 1, 'hospitality': 1, 'afternoo': 1, 'teampfizer': 1, 'arithmetic': 1, 'microchiroptera': 1, 'osbourne': 1, 'iowa': 1, 'bathead': 1, 'flacid': 1, 'oppositely': 1, 'disappointing': 1, 'promoting': 1, 'smoothness': 1, 'predicted': 1, '8bn': 1, 'molto': 1, 'edificante': 1, 'commento': 1, 'utente': 1, 'appropriato': 1, 'albertbourla': 1, 'sund': 1, 'involves': 1, 'handed': 1, 'butcher': 1, 'anywho': 1, 'fixed': 1, 'shite': 1, 'nanotech': 1, 'pb': 1, 'cuba': 1, '6000': 1, 'schedul': 1, 'thirddose': 1, 'websi': 1, 'prosecution': 1, 'implant': 1, 'booted': 1, 'coordinates': 1, 'bham': 1, 'potentia': 1, 'stalled': 1, 'turk': 1, 'babyyyyy': 1, 'rogey': 1, 'brook': 1, 'smith': 1, 'lookin': 1, 'forensic': 1, 'greater': 1, 'randox': 1, 'fami': 1, 'maintaining': 1, 'natiownwide': 1, 'cur': 1, 'nhscovidheroes': 1, 'civiccampus': 1, 'nancy': 1, 'adrenaline': 1, '165': 1, 'coastal': 1, 'gullible': 1, 'asshole': 1, 'cowards': 1, 'annnnd': 1, 'cave': 1, 'boristheliar': 1, 'borisjohnsonout': 1, 'torycorruption': 1, 'torydictatorship': 1, 'giveyourshot': 1, 'mos': 1, '448': 1, 'persist': 1, 'flatten': 1, 'curve': 1, 'produc': 1, 'justifies': 1, '490': 1, 'initiatives': 1, 'instagram': 1, 'congestion': 1, 'devastated': 1, 'muscular': 1, 'dystrophy': 1, 'seizure': 1, 'marathon': 1, 'pfizersuperhero': 1, 'destiny': 1, 'fulfilled': 1, 'collaborating': 1, '14abril': 1, 'dcimo': 1, 'commissioner': 1, 'leyden': 1, 'pointedly': 1, 'reliable': 1, 'ranst': 1, 'wato': 1, 'referred': 1, 'ue': 1, 'justpublished': 1, 'layen': 1, 'petes': 1, 'leds': 1, 'soho': 1, 'revelry': 1, 'cafenero': 1, 'factoring': 1, 'hike': 1, 'persistent': 1, 'faring': 1, 'rocks': 1, 'devel': 1, 'improve': 1, 'offeri': 1, 'confuse': 1, 'quando': 1, 'confondi': 1, 'bodied': 1, 'para': 1, 'bam': 1, 'council': 1, 'nsc': 1, 'leeziijia': 1, 'pfizerpfab': 1, 'pfizerpfabulous': 1, 'accelerate': 1, 'recurring': 1, 'mypresident': 1, 'paranoid': 1, 'canad': 1, 'notably': 1, 'represented': 1, 'pause': 1, 'georgianuniversities': 1, 'acid': 1, 'reflux': 1, 'vsafe': 1, '5qs': 1, '1146th': 1, 'enrich': 1, 'aatmanirbharbharat': 1, 'ping': 1, 'pong': 1, 'khelahobe': 1, 'flirting': 1, 'fifteen': 1, 'shooting': 1, 'perpetual': 1, 'hktwitterfullyvaxxed': 1, 'dgci': 1}\n"
          ],
          "name": "stdout"
        }
      ]
    },
    {
      "cell_type": "code",
      "metadata": {
        "colab": {
          "base_uri": "https://localhost:8080/",
          "height": 296
        },
        "id": "g2h4CdOGdrBz",
        "outputId": "50ba9d10-f90e-476e-9a85-7d9c28ecf49c"
      },
      "source": [
        "#plotting log of token frequency in function of frequency rank, we recognise Zipf's law\n",
        "plt.ylabel(\"log token frequency\")\n",
        "plt.xlabel(\"frequency rank\")\n",
        "plt.plot(np.log(sorted(Counter(arr).values(), reverse=True)))"
      ],
      "execution_count": null,
      "outputs": [
        {
          "output_type": "execute_result",
          "data": {
            "text/plain": [
              "[<matplotlib.lines.Line2D at 0x7f7a0d89c490>]"
            ]
          },
          "metadata": {
            "tags": []
          },
          "execution_count": 15
        },
        {
          "output_type": "display_data",
          "data": {
            "image/png": "[encoded data removed]",
            "text/plain": [
              "<Figure size 432x288 with 1 Axes>"
            ]
          },
          "metadata": {
            "tags": [],
            "needs_background": "light"
          }
        }
      ]
    },
    {
      "cell_type": "code",
      "metadata": {
        "id": "lp2wrOW9BcLp"
      },
      "source": [
        "#removing short words\n",
        "min_length=5\n",
        "\n",
        "k=list(dic.keys())\n",
        "for word in k:\n",
        "  if len(word)<=min_length:\n",
        "    dic.pop(word)"
      ],
      "execution_count": null,
      "outputs": []
    },
    {
      "cell_type": "code",
      "metadata": {
        "colab": {
          "base_uri": "https://localhost:8080/",
          "height": 265
        },
        "id": "tn9EK2RzheLC",
        "outputId": "e60e2b4d-5d6f-40ab-822d-a3bb1c61a6b0"
      },
      "source": [
        "#showing most frequent words\n",
        "wc = WordCloud(background_color=\"grey\",width=1000,height=1000, max_words=50,relative_scaling=0.4,normalize_plurals=False).generate_from_frequencies(dic)\n",
        "plt.axis(\"off\")\n",
        "plt.imshow(wc)"
      ],
      "execution_count": null,
      "outputs": [
        {
          "output_type": "execute_result",
          "data": {
            "text/plain": [
              "<matplotlib.image.AxesImage at 0x7f7a0cc29050>"
            ]
          },
          "metadata": {
            "tags": []
          },
          "execution_count": 17
        },
        {
          "output_type": "display_data",
          "data": {
            "image/png": "[encoded data removed]",
            "text/plain": [
              "<Figure size 432x288 with 1 Axes>"
            ]
          },
          "metadata": {
            "tags": [],
            "needs_background": "light"
          }
        }
      ]
    },
    {
      "cell_type": "markdown",
      "metadata": {
        "id": "rI53bZ3e0mUQ"
      },
      "source": [
        "#VADER"
      ]
    },
    {
      "cell_type": "markdown",
      "metadata": {
        "id": "09CtJgoS27Jy"
      },
      "source": [
        "For this section, we used the following notebook : https://www.kaggle.com/thomaskonstantin/pfizer-vaccine-sentiment-and-time-series-analysis"
      ]
    },
    {
      "cell_type": "code",
      "metadata": {
        "colab": {
          "base_uri": "https://localhost:8080/"
        },
        "id": "aMZwv39bljD-",
        "outputId": "bed827a3-2fb5-4989-e0cd-d3901b71f366"
      },
      "source": [
        "#downloading vader_lexicon\n",
        "nltk.download('vader_lexicon')"
      ],
      "execution_count": null,
      "outputs": [
        {
          "output_type": "stream",
          "text": [
            "[nltk_data] Downloading package vader_lexicon to /root/nltk_data...\n"
          ],
          "name": "stdout"
        },
        {
          "output_type": "execute_result",
          "data": {
            "text/plain": [
              "True"
            ]
          },
          "metadata": {
            "tags": []
          },
          "execution_count": 18
        }
      ]
    },
    {
      "cell_type": "code",
      "metadata": {
        "id": "U0k36-uKmsaG"
      },
      "source": [
        "sid=SIA()\n",
        "df['sentiments']           = df['text'].apply(lambda x: sid.polarity_scores(' '.join(re.findall(r'\\w+',x.lower()))))\n",
        "\n",
        "#creating a column for each sentiment\n",
        "df['Positive Sentiment']   = df['sentiments'].apply(lambda x: x['pos']+1*(10**-6)) \n",
        "df['Neutral Sentiment']    = df['sentiments'].apply(lambda x: x['neu']+1*(10**-6))\n",
        "df['Negative Sentiment']   = df['sentiments'].apply(lambda x: x['neg']+1*(10**-6))\n",
        "\n",
        "df.drop(columns=['sentiments'],inplace=True)"
      ],
      "execution_count": null,
      "outputs": []
    },
    {
      "cell_type": "code",
      "metadata": {
        "id": "Lb6i5i4AuyaU"
      },
      "source": [
        "#One hot encoding of sentiments \n",
        "\n",
        "seuil=0.2\n",
        "\n",
        "df[\"Positive\"]=(df['Positive Sentiment']-df['Negative Sentiment'])>seuil\n",
        "df[\"Negative\"]=(df['Negative Sentiment']-df['Positive Sentiment'])>seuil\n",
        "df[\"Neutral\"]=abs(df['Positive Sentiment']-df['Negative Sentiment'])<=seuil"
      ],
      "execution_count": null,
      "outputs": []
    },
    {
      "cell_type": "code",
      "metadata": {
        "colab": {
          "base_uri": "https://localhost:8080/",
          "height": 35
        },
        "id": "usmygJJdvCmT",
        "outputId": "3997df3b-6e9d-45c3-f1df-09b98911fc78"
      },
      "source": [
        "#example of negative tweet\n",
        "num=225  #index among negative tweets\n",
        "df.iloc[np.where(df[\"Negative\"])[0][num]]['tweet_proc']"
      ],
      "execution_count": null,
      "outputs": [
        {
          "output_type": "execute_result",
          "data": {
            "application/vnd.google.colaboratory.intrinsic+json": {
              "type": "string"
            },
            "text/plain": [
              "'is a cancer vaccine next pfizer pfizerbiontech'"
            ]
          },
          "metadata": {
            "tags": []
          },
          "execution_count": 21
        }
      ]
    },
    {
      "cell_type": "code",
      "metadata": {
        "colab": {
          "base_uri": "https://localhost:8080/",
          "height": 297
        },
        "id": "6M974T6bm0QR",
        "outputId": "77aff126-86e2-4af3-8dff-2f39ed4fb86c"
      },
      "source": [
        "#plotting sentiment probabilities\n",
        "\n",
        "plt.title('Distribution Of Sentiments Across Our Tweets',fontsize=10,fontweight='bold')\n",
        "sns.kdeplot(data=df[['Negative Sentiment','Positive Sentiment','Neutral Sentiment']],bw_method=0.2,cut=0)\n",
        "plt.xlabel('Sentiment Value',fontsize=14)\n",
        "plt.show()"
      ],
      "execution_count": null,
      "outputs": [
        {
          "output_type": "display_data",
          "data": {
            "image/png": "[encoded data removed]",
            "text/plain": [
              "<Figure size 432x288 with 1 Axes>"
            ]
          },
          "metadata": {
            "tags": [],
            "needs_background": "light"
          }
        }
      ]
    },
    {
      "cell_type": "markdown",
      "metadata": {
        "id": "0ClSEdiFw69C"
      },
      "source": [
        "#FASTTEXT"
      ]
    },
    {
      "cell_type": "markdown",
      "metadata": {
        "id": "76gt707_5m52"
      },
      "source": [
        "##Loading and example of FastText"
      ]
    },
    {
      "cell_type": "code",
      "metadata": {
        "colab": {
          "base_uri": "https://localhost:8080/"
        },
        "id": "GDcdeAePw8r4",
        "outputId": "8a66b0e9-5de7-4db2-f5cc-21f125060cdd"
      },
      "source": [
        "#installing and loading fasttext\n",
        "ft = fasttext.load_model('../fasttext/cc.en.300.bin')"
      ],
      "execution_count": null,
      "outputs": [
        {
          "output_type": "stream",
          "text": [
            "Warning : `load_model` does not return WordVectorModel or SupervisedModel any more, but a `FastText` object which is very similar.\n"
          ],
          "name": "stderr"
        }
      ]
    },
    {
      "cell_type": "code",
      "metadata": {
        "colab": {
          "base_uri": "https://localhost:8080/"
        },
        "id": "CA-qX3hD7SaK",
        "outputId": "e4753de9-43cd-4b56-e6fc-1ef89b5519c7"
      },
      "source": [
        "#embedding vectors dimension selection\n",
        "fasttext.util.reduce_model(ft, 100)"
      ],
      "execution_count": null,
      "outputs": [
        {
          "output_type": "execute_result",
          "data": {
            "text/plain": [
              "<fasttext.FastText._FastText at 0x7f7a0c7844d0>"
            ]
          },
          "metadata": {
            "tags": []
          },
          "execution_count": 24
        }
      ]
    },
    {
      "cell_type": "code",
      "metadata": {
        "colab": {
          "base_uri": "https://localhost:8080/"
        },
        "id": "hzmYU7T169zk",
        "outputId": "433fbdc2-e991-41eb-c488-d172487f7d59"
      },
      "source": [
        "#example of FastText embedding\n",
        "ft.get_sentence_vector('hello everyone')"
      ],
      "execution_count": null,
      "outputs": [
        {
          "output_type": "execute_result",
          "data": {
            "text/plain": [
              "array([ 0.05449126, -0.08442509, -0.03012994, -0.23106483,  0.26906475,\n",
              "       -0.04009903, -0.10969584, -0.09029561, -0.2769035 ,  0.01964655,\n",
              "       -0.12995091,  0.02575199, -0.13110897, -0.02634917, -0.04991212,\n",
              "        0.1008832 ,  0.04807445,  0.03079507,  0.01015981, -0.04643927,\n",
              "        0.03984559,  0.08637447, -0.05657233,  0.05088425,  0.05709257,\n",
              "        0.01795746, -0.10901593,  0.00035148, -0.11286032,  0.13266128,\n",
              "        0.04610125,  0.05207125,  0.00507112,  0.06556405, -0.06869886,\n",
              "        0.01090307,  0.03424999,  0.0573659 ,  0.00968141,  0.02333516,\n",
              "        0.08946341,  0.03301349, -0.09767807,  0.04737591,  0.07227203,\n",
              "        0.14603844,  0.13600174, -0.10879179,  0.18932414,  0.01876042,\n",
              "       -0.01819349, -0.08130379,  0.07369406, -0.13105144, -0.08058967,\n",
              "        0.12150478,  0.04757788, -0.14436683,  0.02467476, -0.07154858,\n",
              "        0.10836256, -0.03620496, -0.08354688, -0.03959652,  0.13475205,\n",
              "       -0.01161532, -0.0258105 , -0.03200101,  0.08105679,  0.05135151,\n",
              "       -0.05197461,  0.0929127 , -0.09732726, -0.03692467, -0.02931224,\n",
              "        0.00824227,  0.13555017,  0.12829827, -0.0012511 , -0.10116228,\n",
              "        0.00274003,  0.08554652,  0.09679794,  0.02953872,  0.02358843,\n",
              "        0.02941548, -0.07132196, -0.03082742, -0.03704771,  0.02825864,\n",
              "       -0.01902347, -0.02641675,  0.04438924,  0.03994733,  0.15172087,\n",
              "       -0.07813953,  0.01659927,  0.10941406, -0.01171603, -0.08429335],\n",
              "      dtype=float32)"
            ]
          },
          "metadata": {
            "tags": []
          },
          "execution_count": 25
        }
      ]
    },
    {
      "cell_type": "markdown",
      "metadata": {
        "id": "xjUACPks5tHP"
      },
      "source": [
        "##K-Means on FastText"
      ]
    },
    {
      "cell_type": "code",
      "metadata": {
        "id": "_ATgJS5uEHQD"
      },
      "source": [
        "#extracting embeddings\n",
        "embeddings=np.concatenate([ft.get_sentence_vector(df['tweet_proc'].iloc[i]).reshape((1,100)) for i in range(len(df['tweet_proc']))])"
      ],
      "execution_count": null,
      "outputs": []
    },
    {
      "cell_type": "code",
      "metadata": {
        "id": "kBoMUEPPxuoC"
      },
      "source": [
        "#Applying k-means\n",
        "\n",
        "model = KMeans(n_clusters=2, max_iter=1000, random_state=True, n_init=50).fit(X=embeddings)\n",
        "cluster_center_0 = model.cluster_centers_[0]\n",
        "cluster_center_1 = model.cluster_centers_[1]"
      ],
      "execution_count": null,
      "outputs": []
    },
    {
      "cell_type": "code",
      "metadata": {
        "colab": {
          "base_uri": "https://localhost:8080/"
        },
        "id": "w0FVlhgDF2S4",
        "outputId": "b0c6847f-7da4-42ed-d72b-9ba93c55df94"
      },
      "source": [
        "#printing tweets from one cluster\n",
        "\n",
        "for i in range(50,60):\n",
        "\n",
        "  idx=np.where(model.labels_ == 1)[0][i]\n",
        "  print(df['tweet_proc'].iloc[idx])"
      ],
      "execution_count": null,
      "outputs": [
        {
          "output_type": "stream",
          "text": [
            "where did the warpspeed money go if not to the covid pioneers pfizerbiontech and moderna asking for a friend griftertrump klan\n",
            "how the pfizerbiontech vaccine works this article made a detailed explanation covid19\n",
            "it is a new type of vaccine that man is so daft it hurts my ears listening to him the biggest question\n",
            "did you actually read the global news article jagmeet this tweet embedded therein j\n",
            "first u s covid 19 vaccinations today thank you to everyone stepping up and getting it covidvaccine\n",
            "anitaquidangen a personal support worker in toronto became one of the first people in canada to receive a\n",
            "the state is supposed to get 35 100 doses total of the pfizerbiontech vaccine this week the remained 30 225 will\n",
            "ruh roh anita i also saw heard michelle rempel suggest during qp in the house\n",
            "kfdms fox 4s is at baptist hospital getting a first hand look at where the pfizer covid 19 vacci\n",
            "privileged be offered the pfizerbiontech vaccine i would encourage everyone to take it up itll help protect peo\n"
          ],
          "name": "stdout"
        }
      ]
    },
    {
      "cell_type": "markdown",
      "metadata": {
        "id": "IIOUBkrNG_Sb"
      },
      "source": [
        "##Comparing to Vader"
      ]
    },
    {
      "cell_type": "code",
      "metadata": {
        "id": "rNnCIm2_HH3Y"
      },
      "source": [
        "#creating a function to compute accuracy on Vader labels\n",
        "\n",
        "def accuracy_2clust(labels_kmeans,labels_pos_vader,labels_neg_vader):\n",
        "  neg_tot=len(labels_neg_vader)\n",
        "  pos_tot=len(labels_pos_vader)\n",
        "\n",
        "  compte_neg_clust0=0 #for each permutation of labels, we compute the accuracy for both Vader labels\n",
        "  compte_neg_clust1=0\n",
        "\n",
        "  compte_pos_clust0=0\n",
        "  compte_pos_clust1=0\n",
        "\n",
        "  for i in range(neg_tot):\n",
        "    if labels_kmeans[labels_neg_vader[i]] == 0 : #first permutation (negative -> 0, positive -> 1 with 0 and 1 being KMeans clusters)\n",
        "      compte_neg_clust0+=1\n",
        "    else:\n",
        "      compte_neg_clust1+=1 #second permutation (negative -> 1, positive -> 0)\n",
        "\n",
        "\n",
        "  for i in range(pos_tot):\n",
        "    if labels_kmeans[labels_pos_vader[i]] == 0 :\n",
        "      compte_pos_clust0+=1 #second permutation (negative -> 1, positive -> 0)\n",
        "    else:\n",
        "      compte_pos_clust1+=1 #first permutation (negative -> 0, positive -> 1)\n",
        "\n",
        "\n",
        "  return compte_neg_clust0/neg_tot,compte_pos_clust1/pos_tot,compte_neg_clust1/neg_tot,compte_pos_clust0/pos_tot\n"
      ],
      "execution_count": null,
      "outputs": []
    },
    {
      "cell_type": "code",
      "metadata": {
        "colab": {
          "base_uri": "https://localhost:8080/"
        },
        "id": "ALcPcbCN8um1",
        "outputId": "efc6d35e-b349-41ff-fcbf-04b1ef378a7f"
      },
      "source": [
        "accuracy_2clust(model.labels_,np.where(df[\"Positive\"]==1)[0],np.where(df[\"Negative\"]==1)[0])"
      ],
      "execution_count": null,
      "outputs": [
        {
          "output_type": "execute_result",
          "data": {
            "text/plain": [
              "(0.4818181818181818,\n",
              " 0.757679180887372,\n",
              " 0.5181818181818182,\n",
              " 0.24232081911262798)"
            ]
          },
          "metadata": {
            "tags": []
          },
          "execution_count": 32
        }
      ]
    },
    {
      "cell_type": "markdown",
      "metadata": {
        "id": "YZdTNXqlKjbv"
      },
      "source": [
        "For the first label permutation, we get accuracies (0.62, 0.24) and (0.38, 0.76) for the second label permutation."
      ]
    },
    {
      "cell_type": "markdown",
      "metadata": {
        "id": "fSwijPwv2Xrf"
      },
      "source": [
        "#BERT"
      ]
    },
    {
      "cell_type": "markdown",
      "metadata": {
        "id": "yagC5D_F3J2b"
      },
      "source": [
        "For this section, we used the following article : https://towardsdatascience.com/sentiment-analysis-in-10-minutes-with-bert-and-hugging-face-294e8a04b671"
      ]
    },
    {
      "cell_type": "markdown",
      "metadata": {
        "id": "Ksp12fE98ny4"
      },
      "source": [
        "##Preparing BERT data"
      ]
    },
    {
      "cell_type": "code",
      "metadata": {
        "colab": {
          "base_uri": "https://localhost:8080/"
        },
        "id": "DYYmLUMX_q16",
        "outputId": "1c23897a-2910-4491-bb81-40895df78c79"
      },
      "source": [
        "#extractiong positive and negative tweets (according to Vader)\n",
        "\n",
        "data_neg=df.iloc[np.where(df[\"Negative\"]==1)]\n",
        "data_neg['label']=[0]*len(data_neg)\n",
        "data_pos=df.iloc[np.where(df[\"Positive\"]==1)]\n",
        "data_pos['label']=[1]*len(data_pos)\n",
        "new_data=pd.concat([data_neg,data_pos])"
      ],
      "execution_count": null,
      "outputs": [
        {
          "output_type": "stream",
          "text": [
            "/usr/local/lib/python3.7/dist-packages/ipykernel_launcher.py:4: SettingWithCopyWarning:\n",
            "\n",
            "\n",
            "A value is trying to be set on a copy of a slice from a DataFrame.\n",
            "Try using .loc[row_indexer,col_indexer] = value instead\n",
            "\n",
            "See the caveats in the documentation: https://pandas.pydata.org/pandas-docs/stable/user_guide/indexing.html#returning-a-view-versus-a-copy\n",
            "\n",
            "/usr/local/lib/python3.7/dist-packages/ipykernel_launcher.py:6: SettingWithCopyWarning:\n",
            "\n",
            "\n",
            "A value is trying to be set on a copy of a slice from a DataFrame.\n",
            "Try using .loc[row_indexer,col_indexer] = value instead\n",
            "\n",
            "See the caveats in the documentation: https://pandas.pydata.org/pandas-docs/stable/user_guide/indexing.html#returning-a-view-versus-a-copy\n",
            "\n"
          ],
          "name": "stderr"
        }
      ]
    },
    {
      "cell_type": "code",
      "metadata": {
        "id": "8eZMYLQi0V6H"
      },
      "source": [
        "testing_set=df.iloc[np.where(df[\"Neutral\"]==1)][\"tweet_proc\"] #getting Vader-unlabeled tweets\n",
        "data_shuffled = new_data.sample(frac=1).reset_index(drop=True) #shuffling data"
      ],
      "execution_count": null,
      "outputs": []
    },
    {
      "cell_type": "code",
      "metadata": {
        "id": "mW4VePE74Y_I"
      },
      "source": [
        "def convert_data_to_examples(train, test, DATA_COLUMN, LABEL_COLUMN): \n",
        "  train_InputExamples = train.apply(lambda x: InputExample(guid=None, # Globally unique ID for bookkeeping, unused in this case\n",
        "                                                          text_a = x[DATA_COLUMN], \n",
        "                                                          text_b = None,\n",
        "                                                          label = x[LABEL_COLUMN]), axis = 1)\n",
        "\n",
        "  validation_InputExamples = test.apply(lambda x: InputExample(guid=None, # Globally unique ID for bookkeeping, unused in this case\n",
        "                                                          text_a = x[DATA_COLUMN], \n",
        "                                                          text_b = None,\n",
        "                                                          label = x[LABEL_COLUMN]), axis = 1)\n",
        "  \n",
        "  return train_InputExamples, validation_InputExamples\n",
        "\n",
        "  train_InputExamples, validation_InputExamples = convert_data_to_examples(train,test,'DATA_COLUMN','LABEL_COLUMN')\n",
        "  \n",
        "def convert_examples_to_tf_dataset(examples, tokenizer, max_length=128):\n",
        "    features = [] # -> will hold InputFeatures to be converted later\n",
        "\n",
        "    for e in examples:\n",
        "        # Documentation is really strong for this method, so please take a look at it\n",
        "        input_dict = tokenizer.encode_plus(\n",
        "            e.text_a,\n",
        "            add_special_tokens=True,\n",
        "            max_length=max_length, # truncates if len(s) > max_length\n",
        "            return_token_type_ids=True,\n",
        "            return_attention_mask=True,\n",
        "            pad_to_max_length=True, # pads to the right by default # CHECK THIS for pad_to_max_length\n",
        "            truncation=True\n",
        "        )\n",
        "\n",
        "        input_ids, token_type_ids, attention_mask = (input_dict[\"input_ids\"],\n",
        "            input_dict[\"token_type_ids\"], input_dict['attention_mask'])\n",
        "\n",
        "        features.append(\n",
        "            InputFeatures(\n",
        "                input_ids=input_ids, attention_mask=attention_mask, token_type_ids=token_type_ids, label=e.label\n",
        "            )\n",
        "        )\n",
        "\n",
        "    def gen():\n",
        "        for f in features:\n",
        "            yield (\n",
        "                {\n",
        "                    \"input_ids\": f.input_ids,\n",
        "                    \"attention_mask\": f.attention_mask,\n",
        "                    \"token_type_ids\": f.token_type_ids,\n",
        "                },\n",
        "                f.label,\n",
        "            )\n",
        "\n",
        "    return tf.data.Dataset.from_generator(\n",
        "        gen,\n",
        "        ({\"input_ids\": tf.int32, \"attention_mask\": tf.int32, \"token_type_ids\": tf.int32}, tf.int64),\n",
        "        (\n",
        "            {\n",
        "                \"input_ids\": tf.TensorShape([None]),\n",
        "                \"attention_mask\": tf.TensorShape([None]),\n",
        "                \"token_type_ids\": tf.TensorShape([None]),\n",
        "            },\n",
        "            tf.TensorShape([]),\n",
        "        ),\n",
        "    )\n",
        "\n",
        "\n",
        "DATA_COLUMN = 'tweet_proc'\n",
        "LABEL_COLUMN = 'label'"
      ],
      "execution_count": null,
      "outputs": []
    },
    {
      "cell_type": "markdown",
      "metadata": {
        "id": "M0XkxeKN9jGR"
      },
      "source": [
        "## Finetuning BERT on tweets (Vader 1300 labels)"
      ]
    },
    {
      "cell_type": "code",
      "metadata": {
        "colab": {
          "base_uri": "https://localhost:8080/",
          "height": 330,
          "referenced_widgets": [
            "2a22f98f440c4646afd4da1657d37bc0",
            "7f4313641f9c4332a8c6099cbd7e9576",
            "5d6fd57d7a03473cbc19e2f7f4e4fb60",
            "59132a8e66d2421195cea150082b4c41",
            "430f35d562c24950beecdd87de45fedc",
            "f45151aea6bf4d2f8c12eaf289e0f01d",
            "29f117dc68d94e5097b975f4e7e44bbd",
            "f7984906ffa14ddca82a4ef0d310ebb9",
            "d7dc8359aab742b1ab6a8ce25bcd8c78",
            "4b54723b4372474cada2c1089ac78f16",
            "f0eff554cc76410e96e7efd0324106f8",
            "a772dacc7b394f028dd7a05ac50986ce",
            "e507b973b8f749a8bbde834628f3c3c7",
            "f7962b4a5b0945caa9073a61e15b48cb",
            "6db70869dc0b464cb3836af9e4273ee7",
            "5a1635adb9f84b4ab301ccb569328ec4",
            "0fb7ee55262544ed87e2adc99373b8af",
            "99b296e645c547b6ae231d55cfcf695a",
            "460262c40ca9456b8e48bf9e9695dd42",
            "a5dc422eaac148358b69cdb857c082cd",
            "6b7e1461739c4b72aed082e0c222c65e",
            "e8a8c3c6015346b983e729737591ed71",
            "7438c56888c54d36be1b98b746865673",
            "c8219840c1ce4a2c803838c5a31ceca6",
            "0f12b06d95044886843832c11725c517",
            "40b1cde5337d482c89c3735b3f66f34a",
            "e3f3cf0050f34a4b8eda3554178c3694",
            "87491e546c1a4cd9b48f21f5da567967",
            "e54149ae45d8463dadaf29c724473fe8",
            "7e96956cb8e647a59f1f83707065054e",
            "a524f8b8fee84de1bc0ea4c26cb0b3eb",
            "3ae08661013c455ca48d84b6435fbc4d",
            "f7bb40aec89d4b2da9df7e9ae62619e0",
            "01227865d08d4a029390165ae3fbd35f",
            "3eb160aafa904ea29ebe22fdf433d1cf",
            "d3cb0d2c23664d8ca817b47a6afba3aa",
            "bfd6160e95ea439a8b9bbfaac8563652",
            "806bf9188368493d9148d0586fe7ad22",
            "b32f2828cd704078b8e7fbc081141fce",
            "0c435ad29d8d4b4d9c446810546e31ff"
          ]
        },
        "id": "pkM2sPpq99tU",
        "outputId": "810c1078-f851-4b29-a79f-c28ac8b2c6b4"
      },
      "source": [
        "#downloading pretrained model and tokenizer\n",
        "model_vader = TFBertForSequenceClassification.from_pretrained(\"bert-base-cased\")\n",
        "tokenizer = BertTokenizer.from_pretrained(\"bert-base-cased\")"
      ],
      "execution_count": null,
      "outputs": [
        {
          "output_type": "display_data",
          "data": {
            "application/vnd.jupyter.widget-view+json": {
              "model_id": "2a22f98f440c4646afd4da1657d37bc0",
              "version_minor": 0,
              "version_major": 2
            },
            "text/plain": [
              "HBox(children=(FloatProgress(value=0.0, description='Downloading', max=570.0, style=ProgressStyle(description_…"
            ]
          },
          "metadata": {
            "tags": []
          }
        },
        {
          "output_type": "stream",
          "text": [
            "\n"
          ],
          "name": "stdout"
        },
        {
          "output_type": "display_data",
          "data": {
            "application/vnd.jupyter.widget-view+json": {
              "model_id": "d7dc8359aab742b1ab6a8ce25bcd8c78",
              "version_minor": 0,
              "version_major": 2
            },
            "text/plain": [
              "HBox(children=(FloatProgress(value=0.0, description='Downloading', max=526681800.0, style=ProgressStyle(descri…"
            ]
          },
          "metadata": {
            "tags": []
          }
        },
        {
          "output_type": "stream",
          "text": [
            "\n"
          ],
          "name": "stdout"
        },
        {
          "output_type": "stream",
          "text": [
            "All model checkpoint layers were used when initializing TFBertForSequenceClassification.\n",
            "\n",
            "Some layers of TFBertForSequenceClassification were not initialized from the model checkpoint at bert-base-cased and are newly initialized: ['classifier']\n",
            "You should probably TRAIN this model on a down-stream task to be able to use it for predictions and inference.\n"
          ],
          "name": "stderr"
        },
        {
          "output_type": "display_data",
          "data": {
            "application/vnd.jupyter.widget-view+json": {
              "model_id": "0fb7ee55262544ed87e2adc99373b8af",
              "version_minor": 0,
              "version_major": 2
            },
            "text/plain": [
              "HBox(children=(FloatProgress(value=0.0, description='Downloading', max=213450.0, style=ProgressStyle(descripti…"
            ]
          },
          "metadata": {
            "tags": []
          }
        },
        {
          "output_type": "stream",
          "text": [
            "\n"
          ],
          "name": "stdout"
        },
        {
          "output_type": "display_data",
          "data": {
            "application/vnd.jupyter.widget-view+json": {
              "model_id": "0f12b06d95044886843832c11725c517",
              "version_minor": 0,
              "version_major": 2
            },
            "text/plain": [
              "HBox(children=(FloatProgress(value=0.0, description='Downloading', max=29.0, style=ProgressStyle(description_w…"
            ]
          },
          "metadata": {
            "tags": []
          }
        },
        {
          "output_type": "stream",
          "text": [
            "\n"
          ],
          "name": "stdout"
        },
        {
          "output_type": "display_data",
          "data": {
            "application/vnd.jupyter.widget-view+json": {
              "model_id": "f7bb40aec89d4b2da9df7e9ae62619e0",
              "version_minor": 0,
              "version_major": 2
            },
            "text/plain": [
              "HBox(children=(FloatProgress(value=0.0, description='Downloading', max=435797.0, style=ProgressStyle(descripti…"
            ]
          },
          "metadata": {
            "tags": []
          }
        },
        {
          "output_type": "stream",
          "text": [
            "\n"
          ],
          "name": "stdout"
        }
      ]
    },
    {
      "cell_type": "code",
      "metadata": {
        "id": "z4kfGSZQzYwh"
      },
      "source": [
        "#selecting train and test data\n",
        "train=data_shuffled.iloc[0:1300]  #Vader-labeled tweets for train\n",
        "test=data_shuffled.iloc[1300:1521]    #Vader-labeled tweets for test "
      ],
      "execution_count": null,
      "outputs": []
    },
    {
      "cell_type": "code",
      "metadata": {
        "colab": {
          "base_uri": "https://localhost:8080/"
        },
        "id": "2Nk98OGOI_CE",
        "outputId": "7fa2cbb4-cbe4-4694-ed24-135d8ecfd4e5"
      },
      "source": [
        "#creating mini-batches\n",
        "\n",
        "train_InputExamples, validation_InputExamples = convert_data_to_examples(train, test, DATA_COLUMN, LABEL_COLUMN)\n",
        "\n",
        "train_data = convert_examples_to_tf_dataset(list(train_InputExamples), tokenizer)\n",
        "train_data = train_data.shuffle(100).batch(32).repeat(2)\n",
        "\n",
        "validation_data = convert_examples_to_tf_dataset(list(validation_InputExamples), tokenizer)\n",
        "validation_data = validation_data.batch(32)"
      ],
      "execution_count": null,
      "outputs": [
        {
          "output_type": "stream",
          "text": [
            "/usr/local/lib/python3.7/dist-packages/transformers/tokenization_utils_base.py:2079: FutureWarning:\n",
            "\n",
            "The `pad_to_max_length` argument is deprecated and will be removed in a future version, use `padding=True` or `padding='longest'` to pad to the longest sequence in the batch, or use `padding='max_length'` to pad to a max length. In this case, you can give a specific length with `max_length` (e.g. `max_length=45`) or leave max_length to None to pad to the maximal input size of the model (e.g. 512 for Bert).\n",
            "\n"
          ],
          "name": "stderr"
        }
      ]
    },
    {
      "cell_type": "code",
      "metadata": {
        "colab": {
          "base_uri": "https://localhost:8080/"
        },
        "id": "gr9cZ_HSI_CE",
        "outputId": "51ac5870-8b60-4bfb-f017-07a339c84e5b"
      },
      "source": [
        "#finetuning model\n",
        "\n",
        "model_vader.compile(optimizer=tf.keras.optimizers.Adam(learning_rate=3e-5, epsilon=1e-08, clipnorm=1.0), \n",
        "              loss=tf.keras.losses.SparseCategoricalCrossentropy(from_logits=True), \n",
        "              metrics=[tf.keras.metrics.SparseCategoricalAccuracy('AUC')])\n",
        "\n",
        "model_vader.fit(train_data, epochs=2, validation_data=validation_data)"
      ],
      "execution_count": null,
      "outputs": [
        {
          "output_type": "stream",
          "text": [
            "Epoch 1/2\n",
            "WARNING:tensorflow:The parameters `output_attentions`, `output_hidden_states` and `use_cache` cannot be updated when calling a model.They have to be set to True/False in the config object (i.e.: `config=XConfig.from_pretrained('name', output_attentions=True)`).\n",
            "WARNING:tensorflow:AutoGraph could not transform <bound method Socket.send of <zmq.sugar.socket.Socket object at 0x7f7ab7f0dd00>> and will run it as-is.\n",
            "Please report this to the TensorFlow team. When filing the bug, set the verbosity to 10 (on Linux, `export AUTOGRAPH_VERBOSITY=10`) and attach the full output.\n",
            "Cause: module, class, method, function, traceback, frame, or code object was expected, got cython_function_or_method\n",
            "To silence this warning, decorate the function with @tf.autograph.experimental.do_not_convert\n",
            "WARNING: AutoGraph could not transform <bound method Socket.send of <zmq.sugar.socket.Socket object at 0x7f7ab7f0dd00>> and will run it as-is.\n",
            "Please report this to the TensorFlow team. When filing the bug, set the verbosity to 10 (on Linux, `export AUTOGRAPH_VERBOSITY=10`) and attach the full output.\n",
            "Cause: module, class, method, function, traceback, frame, or code object was expected, got cython_function_or_method\n",
            "To silence this warning, decorate the function with @tf.autograph.experimental.do_not_convert\n",
            "WARNING:tensorflow:AutoGraph could not transform <function wrap at 0x7f7ae37bad40> and will run it as-is.\n",
            "Cause: while/else statement not yet supported\n",
            "To silence this warning, decorate the function with @tf.autograph.experimental.do_not_convert\n",
            "WARNING: AutoGraph could not transform <function wrap at 0x7f7ae37bad40> and will run it as-is.\n",
            "Cause: while/else statement not yet supported\n",
            "To silence this warning, decorate the function with @tf.autograph.experimental.do_not_convert\n",
            "WARNING:tensorflow:The parameter `return_dict` cannot be set in graph mode and will always be set to `True`.\n",
            "WARNING:tensorflow:The parameters `output_attentions`, `output_hidden_states` and `use_cache` cannot be updated when calling a model.They have to be set to True/False in the config object (i.e.: `config=XConfig.from_pretrained('name', output_attentions=True)`).\n",
            "WARNING:tensorflow:The parameter `return_dict` cannot be set in graph mode and will always be set to `True`.\n",
            "     82/Unknown - 95s 477ms/step - loss: 0.4115 - AUC: 0.8106WARNING:tensorflow:The parameters `output_attentions`, `output_hidden_states` and `use_cache` cannot be updated when calling a model.They have to be set to True/False in the config object (i.e.: `config=XConfig.from_pretrained('name', output_attentions=True)`).\n",
            "WARNING:tensorflow:The parameter `return_dict` cannot be set in graph mode and will always be set to `True`.\n",
            "82/82 [==============================] - 100s 539ms/step - loss: 0.4095 - AUC: 0.8117 - val_loss: 0.0814 - val_AUC: 0.9752\n",
            "Epoch 2/2\n",
            "82/82 [==============================] - 40s 492ms/step - loss: 0.0395 - AUC: 0.9876 - val_loss: 0.0694 - val_AUC: 0.9752\n"
          ],
          "name": "stdout"
        },
        {
          "output_type": "execute_result",
          "data": {
            "text/plain": [
              "<tensorflow.python.keras.callbacks.History at 0x7f799b638790>"
            ]
          },
          "metadata": {
            "tags": []
          },
          "execution_count": 39
        }
      ]
    },
    {
      "cell_type": "code",
      "metadata": {
        "id": "g3oL9Rfr9vxD"
      },
      "source": [
        "#Examples to predict from to qualitatively test \n",
        "pred_sentences=['Grateful to receive my first shot PfizerBioNTech, now I have a third leg','same folks who said that cytokine storm could be treated','vaccine is a 5G chip','Pfizer is a corrupt lab','pfizer vaccine now available']"
      ],
      "execution_count": null,
      "outputs": []
    },
    {
      "cell_type": "code",
      "metadata": {
        "colab": {
          "base_uri": "https://localhost:8080/"
        },
        "id": "DO9rjPAtI_CE",
        "outputId": "84c4ea17-28d4-4bd2-f8ba-3fd011f05a51"
      },
      "source": [
        "#Observing predictions (binary)\n",
        "\n",
        "tf_batch = tokenizer(pred_sentences, max_length=128, padding=True, truncation=True, return_tensors='tf')\n",
        "tf_outputs = model_vader(tf_batch)\n",
        "tf_predictions = tf.nn.softmax(tf_outputs[0], axis=-1)\n",
        "labels = ['Negative','Positive']\n",
        "label = tf.argmax(tf_predictions, axis=1)\n",
        "label = label.numpy()\n",
        "for i in range(len(pred_sentences)):\n",
        "  print(pred_sentences[i], \": \\n\", labels[label[i]])"
      ],
      "execution_count": null,
      "outputs": [
        {
          "output_type": "stream",
          "text": [
            "Grateful to receive my first shot PfizerBioNTech, now I have a third leg : \n",
            " Positive\n",
            "same folks who said that cytokine storm could be treated : \n",
            " Positive\n",
            "vaccine is a 5G chip : \n",
            " Positive\n",
            "Pfizer is a corrupt lab : \n",
            " Negative\n",
            "pfizer vaccine now available : \n",
            " Positive\n"
          ],
          "name": "stdout"
        }
      ]
    },
    {
      "cell_type": "code",
      "metadata": {
        "colab": {
          "base_uri": "https://localhost:8080/"
        },
        "id": "djLQYdHB54_-",
        "outputId": "add93599-9773-4b5e-ddaf-ff28a8189e36"
      },
      "source": [
        "#Observing predictions (probabilities)\n",
        "tf_predictions"
      ],
      "execution_count": null,
      "outputs": [
        {
          "output_type": "execute_result",
          "data": {
            "text/plain": [
              "<tf.Tensor: shape=(5, 2), dtype=float32, numpy=\n",
              "array([[7.3725253e-04, 9.9926275e-01],\n",
              "       [3.4437843e-03, 9.9655628e-01],\n",
              "       [2.4172863e-02, 9.7582710e-01],\n",
              "       [9.9108422e-01, 8.9157820e-03],\n",
              "       [2.3569637e-03, 9.9764305e-01]], dtype=float32)>"
            ]
          },
          "metadata": {
            "tags": []
          },
          "execution_count": 42
        }
      ]
    },
    {
      "cell_type": "markdown",
      "metadata": {
        "id": "GJhLh5T49wzd"
      },
      "source": [
        "## Finetuning BERT on UCI amazon cells (1000 labeled comments)"
      ]
    },
    {
      "cell_type": "code",
      "metadata": {
        "colab": {
          "base_uri": "https://localhost:8080/"
        },
        "id": "5T0rgia0-H4b",
        "outputId": "5d7237d0-d7a6-4f48-e9a3-a10ac2a018fc"
      },
      "source": [
        "#Downloading pretrained model and tokenizer\n",
        "model_UCI = TFBertForSequenceClassification.from_pretrained(\"bert-base-cased\")\n",
        "tokenizer = BertTokenizer.from_pretrained(\"bert-base-cased\")"
      ],
      "execution_count": null,
      "outputs": [
        {
          "output_type": "stream",
          "text": [
            "All model checkpoint layers were used when initializing TFBertForSequenceClassification.\n",
            "\n",
            "Some layers of TFBertForSequenceClassification were not initialized from the model checkpoint at bert-base-cased and are newly initialized: ['classifier']\n",
            "You should probably TRAIN this model on a down-stream task to be able to use it for predictions and inference.\n"
          ],
          "name": "stderr"
        }
      ]
    },
    {
      "cell_type": "code",
      "metadata": {
        "id": "CNLvvMcn5cmy"
      },
      "source": [
        "#selecting train and test data\n",
        "train=uci_data[0:900]    #training uci data\n",
        "test=uci_data[900:1000]   #test uci data"
      ],
      "execution_count": null,
      "outputs": []
    },
    {
      "cell_type": "code",
      "metadata": {
        "colab": {
          "base_uri": "https://localhost:8080/"
        },
        "id": "dCJzsL6392G3",
        "outputId": "2466c31a-fef5-4c05-e552-9c6bc7f3dd20"
      },
      "source": [
        "#creating mini-batches\n",
        "UCI_DATA_COLUMN='text'\n",
        "train_InputExamples, validation_InputExamples = convert_data_to_examples(train, test, UCI_DATA_COLUMN, LABEL_COLUMN)\n",
        "\n",
        "train_data = convert_examples_to_tf_dataset(list(train_InputExamples), tokenizer)\n",
        "train_data = train_data.shuffle(100).batch(32).repeat(2)\n",
        "\n",
        "validation_data = convert_examples_to_tf_dataset(list(validation_InputExamples), tokenizer)\n",
        "validation_data = validation_data.batch(32)"
      ],
      "execution_count": null,
      "outputs": [
        {
          "output_type": "stream",
          "text": [
            "/usr/local/lib/python3.7/dist-packages/transformers/tokenization_utils_base.py:2079: FutureWarning:\n",
            "\n",
            "The `pad_to_max_length` argument is deprecated and will be removed in a future version, use `padding=True` or `padding='longest'` to pad to the longest sequence in the batch, or use `padding='max_length'` to pad to a max length. In this case, you can give a specific length with `max_length` (e.g. `max_length=45`) or leave max_length to None to pad to the maximal input size of the model (e.g. 512 for Bert).\n",
            "\n"
          ],
          "name": "stderr"
        }
      ]
    },
    {
      "cell_type": "code",
      "metadata": {
        "colab": {
          "base_uri": "https://localhost:8080/"
        },
        "id": "OMjt-P575kFU",
        "outputId": "0cff7a36-5852-4b78-8870-7051f245d6c4"
      },
      "source": [
        "#finetuning on amazon UCI data\n",
        "model_UCI.compile(optimizer=tf.keras.optimizers.Adam(learning_rate=3e-5, epsilon=1e-08, clipnorm=1.0), \n",
        "              loss=tf.keras.losses.SparseCategoricalCrossentropy(from_logits=True), \n",
        "              metrics=[tf.keras.metrics.SparseCategoricalAccuracy('AUC')])\n",
        "\n",
        "model_UCI.fit(train_data, epochs=2, validation_data=validation_data)"
      ],
      "execution_count": null,
      "outputs": [
        {
          "output_type": "stream",
          "text": [
            "Epoch 1/2\n",
            "WARNING:tensorflow:The parameters `output_attentions`, `output_hidden_states` and `use_cache` cannot be updated when calling a model.They have to be set to True/False in the config object (i.e.: `config=XConfig.from_pretrained('name', output_attentions=True)`).\n",
            "WARNING:tensorflow:The parameter `return_dict` cannot be set in graph mode and will always be set to `True`.\n",
            "WARNING:tensorflow:The parameters `output_attentions`, `output_hidden_states` and `use_cache` cannot be updated when calling a model.They have to be set to True/False in the config object (i.e.: `config=XConfig.from_pretrained('name', output_attentions=True)`).\n",
            "WARNING:tensorflow:The parameter `return_dict` cannot be set in graph mode and will always be set to `True`.\n",
            "     58/Unknown - 51s 469ms/step - loss: 0.5161 - AUC: 0.7361WARNING:tensorflow:The parameters `output_attentions`, `output_hidden_states` and `use_cache` cannot be updated when calling a model.They have to be set to True/False in the config object (i.e.: `config=XConfig.from_pretrained('name', output_attentions=True)`).\n",
            "WARNING:tensorflow:The parameter `return_dict` cannot be set in graph mode and will always be set to `True`.\n",
            "58/58 [==============================] - 55s 539ms/step - loss: 0.5133 - AUC: 0.7381 - val_loss: 0.2231 - val_AUC: 0.9293\n",
            "Epoch 2/2\n",
            "58/58 [==============================] - 28s 480ms/step - loss: 0.0853 - AUC: 0.9758 - val_loss: 0.2352 - val_AUC: 0.9293\n"
          ],
          "name": "stdout"
        },
        {
          "output_type": "execute_result",
          "data": {
            "text/plain": [
              "<tensorflow.python.keras.callbacks.History at 0x7f7795ffc210>"
            ]
          },
          "metadata": {
            "tags": []
          },
          "execution_count": 49
        }
      ]
    },
    {
      "cell_type": "code",
      "metadata": {
        "id": "LQRz8mkqI_CG"
      },
      "source": [
        "#Examples to predict from to qualitatively test \n",
        "pred_sentences=['Grateful to receive my first shot PfizerBioNTech, now I have a third leg','same folks who said that cytokine storm could be treated','vaccine is a 5G chip','Pfizer is a corrupt lab','pfizer vaccine now available']"
      ],
      "execution_count": null,
      "outputs": []
    },
    {
      "cell_type": "code",
      "metadata": {
        "colab": {
          "base_uri": "https://localhost:8080/"
        },
        "id": "DzzLDF3d52hB",
        "outputId": "43e27c0c-bd30-4b35-ab83-2ac21e6d7f74"
      },
      "source": [
        "#Observing predictions (binary)\n",
        "\n",
        "tf_batch = tokenizer(pred_sentences, max_length=128, padding=True, truncation=True, return_tensors='tf')\n",
        "tf_outputs = model_UCI(tf_batch)\n",
        "tf_predictions = tf.nn.softmax(tf_outputs[0], axis=-1)\n",
        "labels = ['Negative','Positive']\n",
        "label = tf.argmax(tf_predictions, axis=1)\n",
        "label = label.numpy()\n",
        "for i in range(len(pred_sentences)):\n",
        "  print(pred_sentences[i], \": \\n\", labels[label[i]])"
      ],
      "execution_count": null,
      "outputs": [
        {
          "output_type": "stream",
          "text": [
            "Grateful to receive my first shot PfizerBioNTech, now I have a third leg : \n",
            " Negative\n",
            "same folks who said that cytokine storm could be treated : \n",
            " Negative\n",
            "vaccine is a 5G chip : \n",
            " Positive\n",
            "Pfizer is a corrupt lab : \n",
            " Negative\n",
            "pfizer vaccine now available : \n",
            " Negative\n"
          ],
          "name": "stdout"
        }
      ]
    },
    {
      "cell_type": "code",
      "metadata": {
        "colab": {
          "base_uri": "https://localhost:8080/"
        },
        "id": "2WC1dtjKI_CG",
        "outputId": "2f972af1-ee03-4524-9b42-05e0f588d02a"
      },
      "source": [
        "#Observing predictions (probabilities)\n",
        "tf_predictions"
      ],
      "execution_count": null,
      "outputs": [
        {
          "output_type": "execute_result",
          "data": {
            "text/plain": [
              "<tf.Tensor: shape=(5, 2), dtype=float32, numpy=\n",
              "array([[0.8320399 , 0.16796012],\n",
              "       [0.99479926, 0.00520072],\n",
              "       [0.20073782, 0.79926217],\n",
              "       [0.9985305 , 0.0014695 ],\n",
              "       [0.5642905 , 0.43570948]], dtype=float32)>"
            ]
          },
          "metadata": {
            "tags": []
          },
          "execution_count": 52
        }
      ]
    },
    {
      "cell_type": "markdown",
      "metadata": {
        "id": "DA_tBQ2XKslh"
      },
      "source": [
        "##Comparing the two models"
      ]
    },
    {
      "cell_type": "code",
      "metadata": {
        "id": "TPdYM2-u-dKo"
      },
      "source": [
        "#preparing label lists from the 2 models\n",
        "tf_batch = tokenizer(list(np.asarray(testing_set))[0:1000], max_length=128, padding=True, truncation=True, return_tensors='tf')\n",
        "\n",
        "tf_outputs_VADER = model_vader(tf_batch)\n",
        "tf_outputs_UCI = model_UCI(tf_batch)\n",
        "\n",
        "tf_predictions_VADER = tf.nn.softmax(tf_outputs_VADER[0], axis=-1)\n",
        "tf_predictions_UCI = tf.nn.softmax(tf_outputs_UCI[0], axis=-1)\n",
        "\n",
        "label_VADER= tf.argmax(tf_predictions_VADER, axis=1)\n",
        "label_UCI= tf.argmax(tf_predictions_UCI, axis=1)\n",
        "\n",
        "label_VADER = label_VADER.numpy()\n",
        "label_UCI = label_UCI.numpy()"
      ],
      "execution_count": null,
      "outputs": []
    },
    {
      "cell_type": "code",
      "metadata": {
        "id": "iG-ILeK1E_nE"
      },
      "source": [
        "#extracting indexes of tweets the 2 models do not agree on\n",
        "desaccord=np.where(label_VADER != label_UCI)[0]"
      ],
      "execution_count": null,
      "outputs": []
    },
    {
      "cell_type": "code",
      "metadata": {
        "colab": {
          "base_uri": "https://localhost:8080/",
          "height": 35
        },
        "id": "qthBaBWUFKOi",
        "outputId": "89dce578-c931-411f-e2ef-c4d7a43e1037"
      },
      "source": [
        "testing_set[desaccord[60]]"
      ],
      "execution_count": null,
      "outputs": [
        {
          "output_type": "execute_result",
          "data": {
            "application/vnd.google.colaboratory.intrinsic+json": {
              "type": "string"
            },
            "text/plain": [
              "'first u s covid 19 vaccinations today thank you to everyone stepping up and getting it covidvaccine'"
            ]
          },
          "metadata": {
            "tags": []
          },
          "execution_count": 55
        }
      ]
    },
    {
      "cell_type": "code",
      "metadata": {
        "colab": {
          "base_uri": "https://localhost:8080/",
          "height": 35
        },
        "id": "3ej0g9QoH2gJ",
        "outputId": "481ce054-2062-4d5b-f515-76de871314da"
      },
      "source": [
        "testing_set[desaccord[21]]"
      ],
      "execution_count": null,
      "outputs": [
        {
          "output_type": "execute_result",
          "data": {
            "application/vnd.google.colaboratory.intrinsic+json": {
              "type": "string"
            },
            "text/plain": [
              "'vaccine trumpvaccine astrazeneca pfizerbiontech pfizervaccine pfizercovidvaccine pfizer s covid 19 belong'"
            ]
          },
          "metadata": {
            "tags": []
          },
          "execution_count": 58
        }
      ]
    },
    {
      "cell_type": "code",
      "metadata": {
        "colab": {
          "base_uri": "https://localhost:8080/"
        },
        "id": "xgmSXupSQoxk",
        "outputId": "d7062b42-2f1d-4bf8-b3e4-846edb8444d9"
      },
      "source": [
        "#Printing metrics to show differences between the 2 models (no ground truth is used here)\n",
        "from sklearn.metrics import classification_report,confusion_matrix\n",
        "print(classification_report(label_VADER,label_UCI,target_names=['Negative','Positive']))\n",
        "print(confusion_matrix(label_VADER,label_UCI))"
      ],
      "execution_count": null,
      "outputs": [
        {
          "output_type": "stream",
          "text": [
            "              precision    recall  f1-score   support\n",
            "\n",
            "    Negative       0.49      0.88      0.63       356\n",
            "    Positive       0.88      0.49      0.63       644\n",
            "\n",
            "    accuracy                           0.63      1000\n",
            "   macro avg       0.69      0.69      0.63      1000\n",
            "weighted avg       0.74      0.63      0.63      1000\n",
            "\n",
            "[[314  42]\n",
            " [326 318]]\n"
          ],
          "name": "stdout"
        }
      ]
    }
  ]
}